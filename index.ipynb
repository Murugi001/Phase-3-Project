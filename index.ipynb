{
 "cells": [
  {
   "cell_type": "markdown",
   "metadata": {},
   "source": [
    "### Project Overview: Customer Churn Prediction for SyriaTel"
   ]
  },
  {
   "cell_type": "markdown",
   "metadata": {},
   "source": [
    "## 1. Business Understanding\n",
    "\n",
    "SyriaTel, like many telecom providers, operates in a highly competitive industry where retaining existing customers is often more cost-effective than acquiring new ones. Customer churn — when subscribers stop using the service — directly impacts revenue and long-term profitability.\n",
    "\n",
    "The challenge is that churn doesn't usually happen randomly. It can result from dissatisfaction with service quality, pricing, customer support, or competitors' offers. If SyriaTel can predict which customers are likely to churn, it can act proactively to retain them through targeted interventions."
   ]
  },
  {
   "cell_type": "markdown",
   "metadata": {},
   "source": [
    "### 2. Business Goal\n",
    "To reduce customer churn and increase customer lifetime value (CLTV) by identifying subscribers who are most likely to leave soon.\n",
    "\n",
    "Specifically:\n",
    "\n",
    "i) Build a predictive model that flags high-risk customers.\n",
    "\n",
    "ii) Enable SyriaTel's marketing, customer service, and retention teams to act early — through loyalty offers, personalized plans, or support outreach.\n",
    "\n",
    "iii) Ultimately, minimize revenue loss and improve customer satisfaction."
   ]
  },
  {
   "cell_type": "markdown",
   "metadata": {},
   "source": [
    "## 3 Intended Audience\n",
    "\n",
    "Telecom Business Executives: Need insights into churn trends, retention ROI, and how churn relates to product offerings.\n",
    "\n",
    "Marketing & Customer Retention Teams: Need a list of high-risk customers for proactive targeting.\n",
    "\n",
    "Customer Experience/Call Center Managers: Want to understand which service areas (e.g., frequent complaints, call duration) correlate with churn.\n",
    "\n",
    "Data Science/Tech Team: Will implement the churn prediction system into the broader customer intelligence pipeline."
   ]
  },
  {
   "cell_type": "markdown",
   "metadata": {},
   "source": [
    "### 4. Success Metrics\n",
    "Precision/Recall for Churned Class: Especially recall, to avoid missing actual churners.\n",
    "\n",
    "Reduction in Monthly Churn Rate after targeted interventions.\n",
    "\n",
    "Increase in retention ROI from personalized campaigns.\n",
    "\n",
    "AUC-ROC score to measure model’s ability to distinguish churners from loyal customers."
   ]
  },
  {
   "cell_type": "code",
   "execution_count": 2,
   "metadata": {},
   "outputs": [],
   "source": [
    "import pandas as pd\n",
    "import numpy as np\n",
    "import matplotlib.pyplot as plt\n",
    "import seaborn as sns\n",
    "from scipy.stats import randint\n",
    "from sklearn.model_selection import train_test_split, RandomizedSearchCV, cross_validate,cross_val_score, StratifiedKFold\n",
    "from sklearn.linear_model import LogisticRegression\n",
    "from sklearn.metrics import accuracy_score,precision_score, recall_score, f1_score, precision_recall_curve, precision_score, recall_score, roc_auc_score, confusion_matrix, ConfusionMatrixDisplay,make_scorer,roc_curve, auc, classification_report,average_precision_score\n",
    "from sklearn.ensemble import RandomForestClassifier\n",
    "from sklearn.tree import DecisionTreeClassifier, plot_tree\n",
    "from sklearn.preprocessing import StandardScaler\n",
    "from imblearn.over_sampling import SMOTE\n",
    "import joblib\n",
    "\n"
   ]
  },
  {
   "cell_type": "markdown",
   "metadata": {},
   "source": [
    "### Loading Dataset"
   ]
  },
  {
   "cell_type": "code",
   "execution_count": 3,
   "metadata": {},
   "outputs": [
    {
     "data": {
      "application/vnd.microsoft.datawrangler.viewer.v0+json": {
       "columns": [
        {
         "name": "index",
         "rawType": "int64",
         "type": "integer"
        },
        {
         "name": "state",
         "rawType": "object",
         "type": "string"
        },
        {
         "name": "account length",
         "rawType": "int64",
         "type": "integer"
        },
        {
         "name": "area code",
         "rawType": "int64",
         "type": "integer"
        },
        {
         "name": "phone number",
         "rawType": "object",
         "type": "string"
        },
        {
         "name": "international plan",
         "rawType": "object",
         "type": "string"
        },
        {
         "name": "voice mail plan",
         "rawType": "object",
         "type": "string"
        },
        {
         "name": "number vmail messages",
         "rawType": "int64",
         "type": "integer"
        },
        {
         "name": "total day minutes",
         "rawType": "float64",
         "type": "float"
        },
        {
         "name": "total day calls",
         "rawType": "int64",
         "type": "integer"
        },
        {
         "name": "total day charge",
         "rawType": "float64",
         "type": "float"
        },
        {
         "name": "total eve minutes",
         "rawType": "float64",
         "type": "float"
        },
        {
         "name": "total eve calls",
         "rawType": "int64",
         "type": "integer"
        },
        {
         "name": "total eve charge",
         "rawType": "float64",
         "type": "float"
        },
        {
         "name": "total night minutes",
         "rawType": "float64",
         "type": "float"
        },
        {
         "name": "total night calls",
         "rawType": "int64",
         "type": "integer"
        },
        {
         "name": "total night charge",
         "rawType": "float64",
         "type": "float"
        },
        {
         "name": "total intl minutes",
         "rawType": "float64",
         "type": "float"
        },
        {
         "name": "total intl calls",
         "rawType": "int64",
         "type": "integer"
        },
        {
         "name": "total intl charge",
         "rawType": "float64",
         "type": "float"
        },
        {
         "name": "customer service calls",
         "rawType": "int64",
         "type": "integer"
        },
        {
         "name": "churn",
         "rawType": "bool",
         "type": "boolean"
        }
       ],
       "ref": "d34496b3-b87c-4ec1-a609-bc9b1fa9b162",
       "rows": [
        [
         "0",
         "KS",
         "128",
         "415",
         "382-4657",
         "no",
         "yes",
         "25",
         "265.1",
         "110",
         "45.07",
         "197.4",
         "99",
         "16.78",
         "244.7",
         "91",
         "11.01",
         "10.0",
         "3",
         "2.7",
         "1",
         "False"
        ],
        [
         "1",
         "OH",
         "107",
         "415",
         "371-7191",
         "no",
         "yes",
         "26",
         "161.6",
         "123",
         "27.47",
         "195.5",
         "103",
         "16.62",
         "254.4",
         "103",
         "11.45",
         "13.7",
         "3",
         "3.7",
         "1",
         "False"
        ],
        [
         "2",
         "NJ",
         "137",
         "415",
         "358-1921",
         "no",
         "no",
         "0",
         "243.4",
         "114",
         "41.38",
         "121.2",
         "110",
         "10.3",
         "162.6",
         "104",
         "7.32",
         "12.2",
         "5",
         "3.29",
         "0",
         "False"
        ],
        [
         "3",
         "OH",
         "84",
         "408",
         "375-9999",
         "yes",
         "no",
         "0",
         "299.4",
         "71",
         "50.9",
         "61.9",
         "88",
         "5.26",
         "196.9",
         "89",
         "8.86",
         "6.6",
         "7",
         "1.78",
         "2",
         "False"
        ],
        [
         "4",
         "OK",
         "75",
         "415",
         "330-6626",
         "yes",
         "no",
         "0",
         "166.7",
         "113",
         "28.34",
         "148.3",
         "122",
         "12.61",
         "186.9",
         "121",
         "8.41",
         "10.1",
         "3",
         "2.73",
         "3",
         "False"
        ]
       ],
       "shape": {
        "columns": 21,
        "rows": 5
       }
      },
      "text/html": [
       "<div>\n",
       "<style scoped>\n",
       "    .dataframe tbody tr th:only-of-type {\n",
       "        vertical-align: middle;\n",
       "    }\n",
       "\n",
       "    .dataframe tbody tr th {\n",
       "        vertical-align: top;\n",
       "    }\n",
       "\n",
       "    .dataframe thead th {\n",
       "        text-align: right;\n",
       "    }\n",
       "</style>\n",
       "<table border=\"1\" class=\"dataframe\">\n",
       "  <thead>\n",
       "    <tr style=\"text-align: right;\">\n",
       "      <th></th>\n",
       "      <th>state</th>\n",
       "      <th>account length</th>\n",
       "      <th>area code</th>\n",
       "      <th>phone number</th>\n",
       "      <th>international plan</th>\n",
       "      <th>voice mail plan</th>\n",
       "      <th>number vmail messages</th>\n",
       "      <th>total day minutes</th>\n",
       "      <th>total day calls</th>\n",
       "      <th>total day charge</th>\n",
       "      <th>...</th>\n",
       "      <th>total eve calls</th>\n",
       "      <th>total eve charge</th>\n",
       "      <th>total night minutes</th>\n",
       "      <th>total night calls</th>\n",
       "      <th>total night charge</th>\n",
       "      <th>total intl minutes</th>\n",
       "      <th>total intl calls</th>\n",
       "      <th>total intl charge</th>\n",
       "      <th>customer service calls</th>\n",
       "      <th>churn</th>\n",
       "    </tr>\n",
       "  </thead>\n",
       "  <tbody>\n",
       "    <tr>\n",
       "      <th>0</th>\n",
       "      <td>KS</td>\n",
       "      <td>128</td>\n",
       "      <td>415</td>\n",
       "      <td>382-4657</td>\n",
       "      <td>no</td>\n",
       "      <td>yes</td>\n",
       "      <td>25</td>\n",
       "      <td>265.1</td>\n",
       "      <td>110</td>\n",
       "      <td>45.07</td>\n",
       "      <td>...</td>\n",
       "      <td>99</td>\n",
       "      <td>16.78</td>\n",
       "      <td>244.7</td>\n",
       "      <td>91</td>\n",
       "      <td>11.01</td>\n",
       "      <td>10.0</td>\n",
       "      <td>3</td>\n",
       "      <td>2.70</td>\n",
       "      <td>1</td>\n",
       "      <td>False</td>\n",
       "    </tr>\n",
       "    <tr>\n",
       "      <th>1</th>\n",
       "      <td>OH</td>\n",
       "      <td>107</td>\n",
       "      <td>415</td>\n",
       "      <td>371-7191</td>\n",
       "      <td>no</td>\n",
       "      <td>yes</td>\n",
       "      <td>26</td>\n",
       "      <td>161.6</td>\n",
       "      <td>123</td>\n",
       "      <td>27.47</td>\n",
       "      <td>...</td>\n",
       "      <td>103</td>\n",
       "      <td>16.62</td>\n",
       "      <td>254.4</td>\n",
       "      <td>103</td>\n",
       "      <td>11.45</td>\n",
       "      <td>13.7</td>\n",
       "      <td>3</td>\n",
       "      <td>3.70</td>\n",
       "      <td>1</td>\n",
       "      <td>False</td>\n",
       "    </tr>\n",
       "    <tr>\n",
       "      <th>2</th>\n",
       "      <td>NJ</td>\n",
       "      <td>137</td>\n",
       "      <td>415</td>\n",
       "      <td>358-1921</td>\n",
       "      <td>no</td>\n",
       "      <td>no</td>\n",
       "      <td>0</td>\n",
       "      <td>243.4</td>\n",
       "      <td>114</td>\n",
       "      <td>41.38</td>\n",
       "      <td>...</td>\n",
       "      <td>110</td>\n",
       "      <td>10.30</td>\n",
       "      <td>162.6</td>\n",
       "      <td>104</td>\n",
       "      <td>7.32</td>\n",
       "      <td>12.2</td>\n",
       "      <td>5</td>\n",
       "      <td>3.29</td>\n",
       "      <td>0</td>\n",
       "      <td>False</td>\n",
       "    </tr>\n",
       "    <tr>\n",
       "      <th>3</th>\n",
       "      <td>OH</td>\n",
       "      <td>84</td>\n",
       "      <td>408</td>\n",
       "      <td>375-9999</td>\n",
       "      <td>yes</td>\n",
       "      <td>no</td>\n",
       "      <td>0</td>\n",
       "      <td>299.4</td>\n",
       "      <td>71</td>\n",
       "      <td>50.90</td>\n",
       "      <td>...</td>\n",
       "      <td>88</td>\n",
       "      <td>5.26</td>\n",
       "      <td>196.9</td>\n",
       "      <td>89</td>\n",
       "      <td>8.86</td>\n",
       "      <td>6.6</td>\n",
       "      <td>7</td>\n",
       "      <td>1.78</td>\n",
       "      <td>2</td>\n",
       "      <td>False</td>\n",
       "    </tr>\n",
       "    <tr>\n",
       "      <th>4</th>\n",
       "      <td>OK</td>\n",
       "      <td>75</td>\n",
       "      <td>415</td>\n",
       "      <td>330-6626</td>\n",
       "      <td>yes</td>\n",
       "      <td>no</td>\n",
       "      <td>0</td>\n",
       "      <td>166.7</td>\n",
       "      <td>113</td>\n",
       "      <td>28.34</td>\n",
       "      <td>...</td>\n",
       "      <td>122</td>\n",
       "      <td>12.61</td>\n",
       "      <td>186.9</td>\n",
       "      <td>121</td>\n",
       "      <td>8.41</td>\n",
       "      <td>10.1</td>\n",
       "      <td>3</td>\n",
       "      <td>2.73</td>\n",
       "      <td>3</td>\n",
       "      <td>False</td>\n",
       "    </tr>\n",
       "  </tbody>\n",
       "</table>\n",
       "<p>5 rows × 21 columns</p>\n",
       "</div>"
      ],
      "text/plain": [
       "  state  account length  area code phone number international plan  \\\n",
       "0    KS             128        415     382-4657                 no   \n",
       "1    OH             107        415     371-7191                 no   \n",
       "2    NJ             137        415     358-1921                 no   \n",
       "3    OH              84        408     375-9999                yes   \n",
       "4    OK              75        415     330-6626                yes   \n",
       "\n",
       "  voice mail plan  number vmail messages  total day minutes  total day calls  \\\n",
       "0             yes                     25              265.1              110   \n",
       "1             yes                     26              161.6              123   \n",
       "2              no                      0              243.4              114   \n",
       "3              no                      0              299.4               71   \n",
       "4              no                      0              166.7              113   \n",
       "\n",
       "   total day charge  ...  total eve calls  total eve charge  \\\n",
       "0             45.07  ...               99             16.78   \n",
       "1             27.47  ...              103             16.62   \n",
       "2             41.38  ...              110             10.30   \n",
       "3             50.90  ...               88              5.26   \n",
       "4             28.34  ...              122             12.61   \n",
       "\n",
       "   total night minutes  total night calls  total night charge  \\\n",
       "0                244.7                 91               11.01   \n",
       "1                254.4                103               11.45   \n",
       "2                162.6                104                7.32   \n",
       "3                196.9                 89                8.86   \n",
       "4                186.9                121                8.41   \n",
       "\n",
       "   total intl minutes  total intl calls  total intl charge  \\\n",
       "0                10.0                 3               2.70   \n",
       "1                13.7                 3               3.70   \n",
       "2                12.2                 5               3.29   \n",
       "3                 6.6                 7               1.78   \n",
       "4                10.1                 3               2.73   \n",
       "\n",
       "   customer service calls  churn  \n",
       "0                       1  False  \n",
       "1                       1  False  \n",
       "2                       0  False  \n",
       "3                       2  False  \n",
       "4                       3  False  \n",
       "\n",
       "[5 rows x 21 columns]"
      ]
     },
     "execution_count": 3,
     "metadata": {},
     "output_type": "execute_result"
    }
   ],
   "source": [
    "# Load the dataset\n",
    "df=pd.read_csv('bigml.csv')\n",
    "df.head()"
   ]
  },
  {
   "cell_type": "markdown",
   "metadata": {},
   "source": [
    "### Data Exploration"
   ]
  },
  {
   "cell_type": "markdown",
   "metadata": {},
   "source": [
    "After loading the dataset, the first step is to explore and understand its structure. This helps identify any data quality issues and guides the preprocessing steps. The .info() function is useful for checking the column names, data types, and whether there are any missing values in the dataset."
   ]
  },
  {
   "cell_type": "code",
   "execution_count": 4,
   "metadata": {},
   "outputs": [
    {
     "name": "stdout",
     "output_type": "stream",
     "text": [
      "<class 'pandas.core.frame.DataFrame'>\n",
      "RangeIndex: 3333 entries, 0 to 3332\n",
      "Data columns (total 21 columns):\n",
      " #   Column                  Non-Null Count  Dtype  \n",
      "---  ------                  --------------  -----  \n",
      " 0   state                   3333 non-null   object \n",
      " 1   account length          3333 non-null   int64  \n",
      " 2   area code               3333 non-null   int64  \n",
      " 3   phone number            3333 non-null   object \n",
      " 4   international plan      3333 non-null   object \n",
      " 5   voice mail plan         3333 non-null   object \n",
      " 6   number vmail messages   3333 non-null   int64  \n",
      " 7   total day minutes       3333 non-null   float64\n",
      " 8   total day calls         3333 non-null   int64  \n",
      " 9   total day charge        3333 non-null   float64\n",
      " 10  total eve minutes       3333 non-null   float64\n",
      " 11  total eve calls         3333 non-null   int64  \n",
      " 12  total eve charge        3333 non-null   float64\n",
      " 13  total night minutes     3333 non-null   float64\n",
      " 14  total night calls       3333 non-null   int64  \n",
      " 15  total night charge      3333 non-null   float64\n",
      " 16  total intl minutes      3333 non-null   float64\n",
      " 17  total intl calls        3333 non-null   int64  \n",
      " 18  total intl charge       3333 non-null   float64\n",
      " 19  customer service calls  3333 non-null   int64  \n",
      " 20  churn                   3333 non-null   bool   \n",
      "dtypes: bool(1), float64(8), int64(8), object(4)\n",
      "memory usage: 524.2+ KB\n"
     ]
    }
   ],
   "source": [
    "# Display basic information about the dataset\n",
    "df.info()"
   ]
  },
  {
   "cell_type": "markdown",
   "metadata": {},
   "source": [
    "From the dataset, there is a total of 21 columns with 3,333 entries and no missing values. The .info() function confirms that all columns are fully populated. The dataset contains a mix of **categorical variables** e.g., state, international plan, voice mail plan, churn and **numerical variables** e.g., total day minutes, customer service calls, account length."
   ]
  },
  {
   "cell_type": "code",
   "execution_count": 5,
   "metadata": {},
   "outputs": [
    {
     "data": {
      "application/vnd.microsoft.datawrangler.viewer.v0+json": {
       "columns": [
        {
         "name": "index",
         "rawType": "object",
         "type": "string"
        },
        {
         "name": "0",
         "rawType": "int64",
         "type": "integer"
        }
       ],
       "ref": "c0d5e3d5-bfe7-44e7-8a3e-729bad559d12",
       "rows": [
        [
         "state",
         "0"
        ],
        [
         "account length",
         "0"
        ],
        [
         "area code",
         "0"
        ],
        [
         "phone number",
         "0"
        ],
        [
         "international plan",
         "0"
        ],
        [
         "voice mail plan",
         "0"
        ],
        [
         "number vmail messages",
         "0"
        ],
        [
         "total day minutes",
         "0"
        ],
        [
         "total day calls",
         "0"
        ],
        [
         "total day charge",
         "0"
        ],
        [
         "total eve minutes",
         "0"
        ],
        [
         "total eve calls",
         "0"
        ],
        [
         "total eve charge",
         "0"
        ],
        [
         "total night minutes",
         "0"
        ],
        [
         "total night calls",
         "0"
        ],
        [
         "total night charge",
         "0"
        ],
        [
         "total intl minutes",
         "0"
        ],
        [
         "total intl calls",
         "0"
        ],
        [
         "total intl charge",
         "0"
        ],
        [
         "customer service calls",
         "0"
        ],
        [
         "churn",
         "0"
        ]
       ],
       "shape": {
        "columns": 1,
        "rows": 21
       }
      },
      "text/plain": [
       "state                     0\n",
       "account length            0\n",
       "area code                 0\n",
       "phone number              0\n",
       "international plan        0\n",
       "voice mail plan           0\n",
       "number vmail messages     0\n",
       "total day minutes         0\n",
       "total day calls           0\n",
       "total day charge          0\n",
       "total eve minutes         0\n",
       "total eve calls           0\n",
       "total eve charge          0\n",
       "total night minutes       0\n",
       "total night calls         0\n",
       "total night charge        0\n",
       "total intl minutes        0\n",
       "total intl calls          0\n",
       "total intl charge         0\n",
       "customer service calls    0\n",
       "churn                     0\n",
       "dtype: int64"
      ]
     },
     "execution_count": 5,
     "metadata": {},
     "output_type": "execute_result"
    }
   ],
   "source": [
    "# Check for missing values,ljug;ytygyukl;'/\n",
    "df.isnull().sum()"
   ]
  },
  {
   "cell_type": "markdown",
   "metadata": {},
   "source": [
    "From the table above, we observe that there are no missing values in the dataset. This eliminates the need for extensive data cleaning steps such as imputation or row removal. Therefore, we proceed directly to data preprocessing, which involves preparing the dataset for modeling. This includes steps such as encoding categorical variables, dropping irrelevant columns, handling class imbalance, and scaling features where necessary to ensure optimal model performance."
   ]
  },
  {
   "cell_type": "markdown",
   "metadata": {},
   "source": [
    "### Dropping Columns\n",
    "At this stage, columns that do not contribute to the predictive power of the model are dropped. These may include identifiers or any other fields that are either constant or irrelevant to the target variable. Keeping such columns can introduce noise, increase the risk of overfitting, and reduce the model's overall accuracy. By removing them, we ensure the model focuses on the most informative features."
   ]
  },
  {
   "cell_type": "code",
   "execution_count": 6,
   "metadata": {},
   "outputs": [],
   "source": [
    "# Remove leading/trailing spaces from column names\n",
    "df.columns = df.columns.str.strip()\n",
    "\n",
    "# Now safely drop the columns\n",
    "df.drop(columns=['phone number', 'area code', 'state'], inplace=True)"
   ]
  },
  {
   "cell_type": "code",
   "execution_count": 7,
   "metadata": {},
   "outputs": [
    {
     "data": {
      "application/vnd.microsoft.datawrangler.viewer.v0+json": {
       "columns": [
        {
         "name": "index",
         "rawType": "object",
         "type": "string"
        },
        {
         "name": "total day minutes",
         "rawType": "float64",
         "type": "float"
        },
        {
         "name": "total day calls",
         "rawType": "float64",
         "type": "float"
        },
        {
         "name": "total eve minutes",
         "rawType": "float64",
         "type": "float"
        },
        {
         "name": "total eve calls",
         "rawType": "float64",
         "type": "float"
        },
        {
         "name": "total night minutes",
         "rawType": "float64",
         "type": "float"
        },
        {
         "name": "total night calls",
         "rawType": "float64",
         "type": "float"
        },
        {
         "name": "total intl minutes",
         "rawType": "float64",
         "type": "float"
        },
        {
         "name": "total intl calls",
         "rawType": "float64",
         "type": "float"
        },
        {
         "name": "customer service calls",
         "rawType": "float64",
         "type": "float"
        }
       ],
       "ref": "4278e7a7-7ab6-4a66-9acf-5e9533da7697",
       "rows": [
        [
         "count",
         "3333.0",
         "3333.0",
         "3333.0",
         "3333.0",
         "3333.0",
         "3333.0",
         "3333.0",
         "3333.0",
         "3333.0"
        ],
        [
         "mean",
         "179.77509750975116",
         "100.43564356435644",
         "200.98034803480346",
         "100.11431143114311",
         "200.87203720372048",
         "100.10771077107711",
         "10.237293729372933",
         "4.4794479447944795",
         "1.5628562856285628"
        ],
        [
         "std",
         "54.46738920237142",
         "20.069084207300854",
         "50.71384442581193",
         "19.92262529394309",
         "50.5738470136583",
         "19.568609346058615",
         "2.7918395484084204",
         "2.4612142705460887",
         "1.3154910448664843"
        ],
        [
         "min",
         "0.0",
         "0.0",
         "0.0",
         "0.0",
         "23.2",
         "33.0",
         "0.0",
         "0.0",
         "0.0"
        ],
        [
         "25%",
         "143.7",
         "87.0",
         "166.6",
         "87.0",
         "167.0",
         "87.0",
         "8.5",
         "3.0",
         "1.0"
        ],
        [
         "50%",
         "179.4",
         "101.0",
         "201.4",
         "100.0",
         "201.2",
         "100.0",
         "10.3",
         "4.0",
         "1.0"
        ],
        [
         "75%",
         "216.4",
         "114.0",
         "235.3",
         "114.0",
         "235.3",
         "113.0",
         "12.1",
         "6.0",
         "2.0"
        ],
        [
         "max",
         "350.8",
         "165.0",
         "363.7",
         "170.0",
         "395.0",
         "175.0",
         "20.0",
         "20.0",
         "9.0"
        ]
       ],
       "shape": {
        "columns": 9,
        "rows": 8
       }
      },
      "text/html": [
       "<div>\n",
       "<style scoped>\n",
       "    .dataframe tbody tr th:only-of-type {\n",
       "        vertical-align: middle;\n",
       "    }\n",
       "\n",
       "    .dataframe tbody tr th {\n",
       "        vertical-align: top;\n",
       "    }\n",
       "\n",
       "    .dataframe thead th {\n",
       "        text-align: right;\n",
       "    }\n",
       "</style>\n",
       "<table border=\"1\" class=\"dataframe\">\n",
       "  <thead>\n",
       "    <tr style=\"text-align: right;\">\n",
       "      <th></th>\n",
       "      <th>total day minutes</th>\n",
       "      <th>total day calls</th>\n",
       "      <th>total eve minutes</th>\n",
       "      <th>total eve calls</th>\n",
       "      <th>total night minutes</th>\n",
       "      <th>total night calls</th>\n",
       "      <th>total intl minutes</th>\n",
       "      <th>total intl calls</th>\n",
       "      <th>customer service calls</th>\n",
       "    </tr>\n",
       "  </thead>\n",
       "  <tbody>\n",
       "    <tr>\n",
       "      <th>count</th>\n",
       "      <td>3333.000000</td>\n",
       "      <td>3333.000000</td>\n",
       "      <td>3333.000000</td>\n",
       "      <td>3333.000000</td>\n",
       "      <td>3333.000000</td>\n",
       "      <td>3333.000000</td>\n",
       "      <td>3333.000000</td>\n",
       "      <td>3333.000000</td>\n",
       "      <td>3333.000000</td>\n",
       "    </tr>\n",
       "    <tr>\n",
       "      <th>mean</th>\n",
       "      <td>179.775098</td>\n",
       "      <td>100.435644</td>\n",
       "      <td>200.980348</td>\n",
       "      <td>100.114311</td>\n",
       "      <td>200.872037</td>\n",
       "      <td>100.107711</td>\n",
       "      <td>10.237294</td>\n",
       "      <td>4.479448</td>\n",
       "      <td>1.562856</td>\n",
       "    </tr>\n",
       "    <tr>\n",
       "      <th>std</th>\n",
       "      <td>54.467389</td>\n",
       "      <td>20.069084</td>\n",
       "      <td>50.713844</td>\n",
       "      <td>19.922625</td>\n",
       "      <td>50.573847</td>\n",
       "      <td>19.568609</td>\n",
       "      <td>2.791840</td>\n",
       "      <td>2.461214</td>\n",
       "      <td>1.315491</td>\n",
       "    </tr>\n",
       "    <tr>\n",
       "      <th>min</th>\n",
       "      <td>0.000000</td>\n",
       "      <td>0.000000</td>\n",
       "      <td>0.000000</td>\n",
       "      <td>0.000000</td>\n",
       "      <td>23.200000</td>\n",
       "      <td>33.000000</td>\n",
       "      <td>0.000000</td>\n",
       "      <td>0.000000</td>\n",
       "      <td>0.000000</td>\n",
       "    </tr>\n",
       "    <tr>\n",
       "      <th>25%</th>\n",
       "      <td>143.700000</td>\n",
       "      <td>87.000000</td>\n",
       "      <td>166.600000</td>\n",
       "      <td>87.000000</td>\n",
       "      <td>167.000000</td>\n",
       "      <td>87.000000</td>\n",
       "      <td>8.500000</td>\n",
       "      <td>3.000000</td>\n",
       "      <td>1.000000</td>\n",
       "    </tr>\n",
       "    <tr>\n",
       "      <th>50%</th>\n",
       "      <td>179.400000</td>\n",
       "      <td>101.000000</td>\n",
       "      <td>201.400000</td>\n",
       "      <td>100.000000</td>\n",
       "      <td>201.200000</td>\n",
       "      <td>100.000000</td>\n",
       "      <td>10.300000</td>\n",
       "      <td>4.000000</td>\n",
       "      <td>1.000000</td>\n",
       "    </tr>\n",
       "    <tr>\n",
       "      <th>75%</th>\n",
       "      <td>216.400000</td>\n",
       "      <td>114.000000</td>\n",
       "      <td>235.300000</td>\n",
       "      <td>114.000000</td>\n",
       "      <td>235.300000</td>\n",
       "      <td>113.000000</td>\n",
       "      <td>12.100000</td>\n",
       "      <td>6.000000</td>\n",
       "      <td>2.000000</td>\n",
       "    </tr>\n",
       "    <tr>\n",
       "      <th>max</th>\n",
       "      <td>350.800000</td>\n",
       "      <td>165.000000</td>\n",
       "      <td>363.700000</td>\n",
       "      <td>170.000000</td>\n",
       "      <td>395.000000</td>\n",
       "      <td>175.000000</td>\n",
       "      <td>20.000000</td>\n",
       "      <td>20.000000</td>\n",
       "      <td>9.000000</td>\n",
       "    </tr>\n",
       "  </tbody>\n",
       "</table>\n",
       "</div>"
      ],
      "text/plain": [
       "       total day minutes  total day calls  total eve minutes  total eve calls  \\\n",
       "count        3333.000000      3333.000000        3333.000000      3333.000000   \n",
       "mean          179.775098       100.435644         200.980348       100.114311   \n",
       "std            54.467389        20.069084          50.713844        19.922625   \n",
       "min             0.000000         0.000000           0.000000         0.000000   \n",
       "25%           143.700000        87.000000         166.600000        87.000000   \n",
       "50%           179.400000       101.000000         201.400000       100.000000   \n",
       "75%           216.400000       114.000000         235.300000       114.000000   \n",
       "max           350.800000       165.000000         363.700000       170.000000   \n",
       "\n",
       "       total night minutes  total night calls  total intl minutes  \\\n",
       "count          3333.000000        3333.000000         3333.000000   \n",
       "mean            200.872037         100.107711           10.237294   \n",
       "std              50.573847          19.568609            2.791840   \n",
       "min              23.200000          33.000000            0.000000   \n",
       "25%             167.000000          87.000000            8.500000   \n",
       "50%             201.200000         100.000000           10.300000   \n",
       "75%             235.300000         113.000000           12.100000   \n",
       "max             395.000000         175.000000           20.000000   \n",
       "\n",
       "       total intl calls  customer service calls  \n",
       "count       3333.000000             3333.000000  \n",
       "mean           4.479448                1.562856  \n",
       "std            2.461214                1.315491  \n",
       "min            0.000000                0.000000  \n",
       "25%            3.000000                1.000000  \n",
       "50%            4.000000                1.000000  \n",
       "75%            6.000000                2.000000  \n",
       "max           20.000000                9.000000  "
      ]
     },
     "execution_count": 7,
     "metadata": {},
     "output_type": "execute_result"
    }
   ],
   "source": [
    "df_numerical=df[['total day minutes', 'total day calls', 'total eve minutes', 'total eve calls', 'total night minutes', 'total night calls', 'total intl minutes', 'total intl calls', 'customer service calls']]\n",
    "df_numerical.describe()"
   ]
  },
  {
   "cell_type": "code",
   "execution_count": 8,
   "metadata": {},
   "outputs": [
    {
     "data": {
      "image/png": "[encoded data removed]",
      "text/plain": [
       "<Figure size 720x432 with 2 Axes>"
      ]
     },
     "metadata": {
      "needs_background": "light"
     },
     "output_type": "display_data"
    }
   ],
   "source": [
    "# Correlation heatmap\n",
    "plt.figure(figsize=(10, 6))\n",
    "sns.heatmap(df_numerical.corr(), annot=True, cmap='coolwarm', vmin=-1, vmax=1)\n",
    "plt.title('Correlation Heatmap of Numeric Variables')\n",
    "plt.show()"
   ]
  },
  {
   "cell_type": "code",
   "execution_count": 9,
   "metadata": {},
   "outputs": [
    {
     "data": {
      "image/png": "[encoded data removed]",
      "text/plain": [
       "<Figure size 1080x720 with 9 Axes>"
      ]
     },
     "metadata": {
      "needs_background": "light"
     },
     "output_type": "display_data"
    }
   ],
   "source": [
    "# Distribution of numerical features\n",
    "plt.figure(figsize=(15, 10))\n",
    "for i, column in enumerate(df_numerical.columns, 1):\n",
    "    plt.subplot(3, 3, i)\n",
    "    sns.histplot(df_numerical[column], kde=True)\n",
    "    plt.title(f'Distribution of {column}')\n",
    "    plt.xlabel(column)\n",
    "    plt.ylabel('Frequency')\n",
    "    plt.tight_layout()\n",
    "   \n",
    "   "
   ]
  },
  {
   "cell_type": "markdown",
   "metadata": {},
   "source": [
    "### Check and Handle Class Imbalance in the target class\n",
    "\n",
    "Before training a model, it's important to check if the dataset is imbalanced — that is, whether one class dominates the other.A highly imbalanced dataset can cause the model to be biased toward the majority class, leading to poor performance on the minority class "
   ]
  },
  {
   "cell_type": "code",
   "execution_count": 10,
   "metadata": {},
   "outputs": [
    {
     "data": {
      "image/png": "[encoded data removed]",
      "text/plain": [
       "<Figure size 360x360 with 1 Axes>"
      ]
     },
     "metadata": {
      "needs_background": "light"
     },
     "output_type": "display_data"
    },
    {
     "name": "stdout",
     "output_type": "stream",
     "text": [
      "False    0.855086\n",
      "True     0.144914\n",
      "Name: churn, dtype: float64\n"
     ]
    }
   ],
   "source": [
    "# Check for class imbalance in the target variable 'churn'\n",
    "# plotting the distribution of the target variable 'churn'\n",
    "plt.figure(figsize=(5, 5))\n",
    "sns.countplot(x='churn', data=df)\n",
    "plt.title('Churn Class Distribution')\n",
    "plt.show()\n",
    "\n",
    "print(df['churn'].value_counts(normalize=True))"
   ]
  },
  {
   "cell_type": "markdown",
   "metadata": {},
   "source": [
    "From the plot above, 85.5% of customers did not churn, while only 14.5% did churn. This indicates a class imbalance in the dataset, which may require special handling during model training to ensure the minority class (churners) is not overlooked."
   ]
  },
  {
   "cell_type": "markdown",
   "metadata": {},
   "source": [
    "### Encode Categorical Variables\n",
    "\n",
    "To prepare the dataset for modeling, categorical variables need to be converted into numeric format.\n",
    "\n",
    "a) Binary Categories\n",
    "Columns: international plan, voice mail plan\n",
    "Values: 'yes', 'no'\n",
    "\n",
    "These binary categories can be easily encoded by mapping 'yes' to 1 and 'no' to 0."
   ]
  },
  {
   "cell_type": "code",
   "execution_count": 11,
   "metadata": {},
   "outputs": [],
   "source": [
    "df['international plan'] = df['international plan'].map({'yes': 1, 'no': 0})\n",
    "df['voice mail plan'] = df['voice mail plan'].map({'yes': 1, 'no': 0})\n",
    "df['churn'] = df['churn'].astype(int)\n",
    "\n"
   ]
  },
  {
   "cell_type": "code",
   "execution_count": 12,
   "metadata": {},
   "outputs": [
    {
     "data": {
      "application/vnd.microsoft.datawrangler.viewer.v0+json": {
       "columns": [
        {
         "name": "index",
         "rawType": "int64",
         "type": "integer"
        },
        {
         "name": "account length",
         "rawType": "int64",
         "type": "integer"
        },
        {
         "name": "international plan",
         "rawType": "int64",
         "type": "integer"
        },
        {
         "name": "voice mail plan",
         "rawType": "int64",
         "type": "integer"
        },
        {
         "name": "number vmail messages",
         "rawType": "int64",
         "type": "integer"
        },
        {
         "name": "total day minutes",
         "rawType": "float64",
         "type": "float"
        },
        {
         "name": "total day calls",
         "rawType": "int64",
         "type": "integer"
        },
        {
         "name": "total day charge",
         "rawType": "float64",
         "type": "float"
        },
        {
         "name": "total eve minutes",
         "rawType": "float64",
         "type": "float"
        },
        {
         "name": "total eve calls",
         "rawType": "int64",
         "type": "integer"
        },
        {
         "name": "total eve charge",
         "rawType": "float64",
         "type": "float"
        },
        {
         "name": "total night minutes",
         "rawType": "float64",
         "type": "float"
        },
        {
         "name": "total night calls",
         "rawType": "int64",
         "type": "integer"
        },
        {
         "name": "total night charge",
         "rawType": "float64",
         "type": "float"
        },
        {
         "name": "total intl minutes",
         "rawType": "float64",
         "type": "float"
        },
        {
         "name": "total intl calls",
         "rawType": "int64",
         "type": "integer"
        },
        {
         "name": "total intl charge",
         "rawType": "float64",
         "type": "float"
        },
        {
         "name": "customer service calls",
         "rawType": "int64",
         "type": "integer"
        },
        {
         "name": "churn",
         "rawType": "int32",
         "type": "integer"
        }
       ],
       "ref": "023eec70-1ee4-45a0-a0f1-6b457d1b6e32",
       "rows": [
        [
         "0",
         "128",
         "0",
         "1",
         "25",
         "265.1",
         "110",
         "45.07",
         "197.4",
         "99",
         "16.78",
         "244.7",
         "91",
         "11.01",
         "10.0",
         "3",
         "2.7",
         "1",
         "0"
        ],
        [
         "1",
         "107",
         "0",
         "1",
         "26",
         "161.6",
         "123",
         "27.47",
         "195.5",
         "103",
         "16.62",
         "254.4",
         "103",
         "11.45",
         "13.7",
         "3",
         "3.7",
         "1",
         "0"
        ],
        [
         "2",
         "137",
         "0",
         "0",
         "0",
         "243.4",
         "114",
         "41.38",
         "121.2",
         "110",
         "10.3",
         "162.6",
         "104",
         "7.32",
         "12.2",
         "5",
         "3.29",
         "0",
         "0"
        ],
        [
         "3",
         "84",
         "1",
         "0",
         "0",
         "299.4",
         "71",
         "50.9",
         "61.9",
         "88",
         "5.26",
         "196.9",
         "89",
         "8.86",
         "6.6",
         "7",
         "1.78",
         "2",
         "0"
        ],
        [
         "4",
         "75",
         "1",
         "0",
         "0",
         "166.7",
         "113",
         "28.34",
         "148.3",
         "122",
         "12.61",
         "186.9",
         "121",
         "8.41",
         "10.1",
         "3",
         "2.73",
         "3",
         "0"
        ]
       ],
       "shape": {
        "columns": 18,
        "rows": 5
       }
      },
      "text/html": [
       "<div>\n",
       "<style scoped>\n",
       "    .dataframe tbody tr th:only-of-type {\n",
       "        vertical-align: middle;\n",
       "    }\n",
       "\n",
       "    .dataframe tbody tr th {\n",
       "        vertical-align: top;\n",
       "    }\n",
       "\n",
       "    .dataframe thead th {\n",
       "        text-align: right;\n",
       "    }\n",
       "</style>\n",
       "<table border=\"1\" class=\"dataframe\">\n",
       "  <thead>\n",
       "    <tr style=\"text-align: right;\">\n",
       "      <th></th>\n",
       "      <th>account length</th>\n",
       "      <th>international plan</th>\n",
       "      <th>voice mail plan</th>\n",
       "      <th>number vmail messages</th>\n",
       "      <th>total day minutes</th>\n",
       "      <th>total day calls</th>\n",
       "      <th>total day charge</th>\n",
       "      <th>total eve minutes</th>\n",
       "      <th>total eve calls</th>\n",
       "      <th>total eve charge</th>\n",
       "      <th>total night minutes</th>\n",
       "      <th>total night calls</th>\n",
       "      <th>total night charge</th>\n",
       "      <th>total intl minutes</th>\n",
       "      <th>total intl calls</th>\n",
       "      <th>total intl charge</th>\n",
       "      <th>customer service calls</th>\n",
       "      <th>churn</th>\n",
       "    </tr>\n",
       "  </thead>\n",
       "  <tbody>\n",
       "    <tr>\n",
       "      <th>0</th>\n",
       "      <td>128</td>\n",
       "      <td>0</td>\n",
       "      <td>1</td>\n",
       "      <td>25</td>\n",
       "      <td>265.1</td>\n",
       "      <td>110</td>\n",
       "      <td>45.07</td>\n",
       "      <td>197.4</td>\n",
       "      <td>99</td>\n",
       "      <td>16.78</td>\n",
       "      <td>244.7</td>\n",
       "      <td>91</td>\n",
       "      <td>11.01</td>\n",
       "      <td>10.0</td>\n",
       "      <td>3</td>\n",
       "      <td>2.70</td>\n",
       "      <td>1</td>\n",
       "      <td>0</td>\n",
       "    </tr>\n",
       "    <tr>\n",
       "      <th>1</th>\n",
       "      <td>107</td>\n",
       "      <td>0</td>\n",
       "      <td>1</td>\n",
       "      <td>26</td>\n",
       "      <td>161.6</td>\n",
       "      <td>123</td>\n",
       "      <td>27.47</td>\n",
       "      <td>195.5</td>\n",
       "      <td>103</td>\n",
       "      <td>16.62</td>\n",
       "      <td>254.4</td>\n",
       "      <td>103</td>\n",
       "      <td>11.45</td>\n",
       "      <td>13.7</td>\n",
       "      <td>3</td>\n",
       "      <td>3.70</td>\n",
       "      <td>1</td>\n",
       "      <td>0</td>\n",
       "    </tr>\n",
       "    <tr>\n",
       "      <th>2</th>\n",
       "      <td>137</td>\n",
       "      <td>0</td>\n",
       "      <td>0</td>\n",
       "      <td>0</td>\n",
       "      <td>243.4</td>\n",
       "      <td>114</td>\n",
       "      <td>41.38</td>\n",
       "      <td>121.2</td>\n",
       "      <td>110</td>\n",
       "      <td>10.30</td>\n",
       "      <td>162.6</td>\n",
       "      <td>104</td>\n",
       "      <td>7.32</td>\n",
       "      <td>12.2</td>\n",
       "      <td>5</td>\n",
       "      <td>3.29</td>\n",
       "      <td>0</td>\n",
       "      <td>0</td>\n",
       "    </tr>\n",
       "    <tr>\n",
       "      <th>3</th>\n",
       "      <td>84</td>\n",
       "      <td>1</td>\n",
       "      <td>0</td>\n",
       "      <td>0</td>\n",
       "      <td>299.4</td>\n",
       "      <td>71</td>\n",
       "      <td>50.90</td>\n",
       "      <td>61.9</td>\n",
       "      <td>88</td>\n",
       "      <td>5.26</td>\n",
       "      <td>196.9</td>\n",
       "      <td>89</td>\n",
       "      <td>8.86</td>\n",
       "      <td>6.6</td>\n",
       "      <td>7</td>\n",
       "      <td>1.78</td>\n",
       "      <td>2</td>\n",
       "      <td>0</td>\n",
       "    </tr>\n",
       "    <tr>\n",
       "      <th>4</th>\n",
       "      <td>75</td>\n",
       "      <td>1</td>\n",
       "      <td>0</td>\n",
       "      <td>0</td>\n",
       "      <td>166.7</td>\n",
       "      <td>113</td>\n",
       "      <td>28.34</td>\n",
       "      <td>148.3</td>\n",
       "      <td>122</td>\n",
       "      <td>12.61</td>\n",
       "      <td>186.9</td>\n",
       "      <td>121</td>\n",
       "      <td>8.41</td>\n",
       "      <td>10.1</td>\n",
       "      <td>3</td>\n",
       "      <td>2.73</td>\n",
       "      <td>3</td>\n",
       "      <td>0</td>\n",
       "    </tr>\n",
       "  </tbody>\n",
       "</table>\n",
       "</div>"
      ],
      "text/plain": [
       "   account length  international plan  voice mail plan  number vmail messages  \\\n",
       "0             128                   0                1                     25   \n",
       "1             107                   0                1                     26   \n",
       "2             137                   0                0                      0   \n",
       "3              84                   1                0                      0   \n",
       "4              75                   1                0                      0   \n",
       "\n",
       "   total day minutes  total day calls  total day charge  total eve minutes  \\\n",
       "0              265.1              110             45.07              197.4   \n",
       "1              161.6              123             27.47              195.5   \n",
       "2              243.4              114             41.38              121.2   \n",
       "3              299.4               71             50.90               61.9   \n",
       "4              166.7              113             28.34              148.3   \n",
       "\n",
       "   total eve calls  total eve charge  total night minutes  total night calls  \\\n",
       "0               99             16.78                244.7                 91   \n",
       "1              103             16.62                254.4                103   \n",
       "2              110             10.30                162.6                104   \n",
       "3               88              5.26                196.9                 89   \n",
       "4              122             12.61                186.9                121   \n",
       "\n",
       "   total night charge  total intl minutes  total intl calls  \\\n",
       "0               11.01                10.0                 3   \n",
       "1               11.45                13.7                 3   \n",
       "2                7.32                12.2                 5   \n",
       "3                8.86                 6.6                 7   \n",
       "4                8.41                10.1                 3   \n",
       "\n",
       "   total intl charge  customer service calls  churn  \n",
       "0               2.70                       1      0  \n",
       "1               3.70                       1      0  \n",
       "2               3.29                       0      0  \n",
       "3               1.78                       2      0  \n",
       "4               2.73                       3      0  "
      ]
     },
     "execution_count": 12,
     "metadata": {},
     "output_type": "execute_result"
    }
   ],
   "source": [
    "df.head()"
   ]
  },
  {
   "cell_type": "markdown",
   "metadata": {},
   "source": [
    "Performing one hot encoding on categorical columns"
   ]
  },
  {
   "cell_type": "code",
   "execution_count": 13,
   "metadata": {},
   "outputs": [
    {
     "data": {
      "application/vnd.microsoft.datawrangler.viewer.v0+json": {
       "columns": [
        {
         "name": "index",
         "rawType": "int64",
         "type": "integer"
        },
        {
         "name": "account length",
         "rawType": "int64",
         "type": "integer"
        },
        {
         "name": "number vmail messages",
         "rawType": "int64",
         "type": "integer"
        },
        {
         "name": "total day minutes",
         "rawType": "float64",
         "type": "float"
        },
        {
         "name": "total day calls",
         "rawType": "int64",
         "type": "integer"
        },
        {
         "name": "total day charge",
         "rawType": "float64",
         "type": "float"
        },
        {
         "name": "total eve minutes",
         "rawType": "float64",
         "type": "float"
        },
        {
         "name": "total eve calls",
         "rawType": "int64",
         "type": "integer"
        },
        {
         "name": "total eve charge",
         "rawType": "float64",
         "type": "float"
        },
        {
         "name": "total night minutes",
         "rawType": "float64",
         "type": "float"
        },
        {
         "name": "total night calls",
         "rawType": "int64",
         "type": "integer"
        },
        {
         "name": "total night charge",
         "rawType": "float64",
         "type": "float"
        },
        {
         "name": "total intl minutes",
         "rawType": "float64",
         "type": "float"
        },
        {
         "name": "total intl calls",
         "rawType": "int64",
         "type": "integer"
        },
        {
         "name": "total intl charge",
         "rawType": "float64",
         "type": "float"
        },
        {
         "name": "customer service calls",
         "rawType": "int64",
         "type": "integer"
        },
        {
         "name": "churn",
         "rawType": "int32",
         "type": "integer"
        },
        {
         "name": "international plan_1",
         "rawType": "uint8",
         "type": "integer"
        },
        {
         "name": "voice mail plan_1",
         "rawType": "uint8",
         "type": "integer"
        }
       ],
       "ref": "d15f31eb-ad6a-42cc-be3b-b30626634059",
       "rows": [
        [
         "0",
         "128",
         "25",
         "265.1",
         "110",
         "45.07",
         "197.4",
         "99",
         "16.78",
         "244.7",
         "91",
         "11.01",
         "10.0",
         "3",
         "2.7",
         "1",
         "0",
         "0",
         "1"
        ],
        [
         "1",
         "107",
         "26",
         "161.6",
         "123",
         "27.47",
         "195.5",
         "103",
         "16.62",
         "254.4",
         "103",
         "11.45",
         "13.7",
         "3",
         "3.7",
         "1",
         "0",
         "0",
         "1"
        ],
        [
         "2",
         "137",
         "0",
         "243.4",
         "114",
         "41.38",
         "121.2",
         "110",
         "10.3",
         "162.6",
         "104",
         "7.32",
         "12.2",
         "5",
         "3.29",
         "0",
         "0",
         "0",
         "0"
        ],
        [
         "3",
         "84",
         "0",
         "299.4",
         "71",
         "50.9",
         "61.9",
         "88",
         "5.26",
         "196.9",
         "89",
         "8.86",
         "6.6",
         "7",
         "1.78",
         "2",
         "0",
         "1",
         "0"
        ],
        [
         "4",
         "75",
         "0",
         "166.7",
         "113",
         "28.34",
         "148.3",
         "122",
         "12.61",
         "186.9",
         "121",
         "8.41",
         "10.1",
         "3",
         "2.73",
         "3",
         "0",
         "1",
         "0"
        ]
       ],
       "shape": {
        "columns": 18,
        "rows": 5
       }
      },
      "text/html": [
       "<div>\n",
       "<style scoped>\n",
       "    .dataframe tbody tr th:only-of-type {\n",
       "        vertical-align: middle;\n",
       "    }\n",
       "\n",
       "    .dataframe tbody tr th {\n",
       "        vertical-align: top;\n",
       "    }\n",
       "\n",
       "    .dataframe thead th {\n",
       "        text-align: right;\n",
       "    }\n",
       "</style>\n",
       "<table border=\"1\" class=\"dataframe\">\n",
       "  <thead>\n",
       "    <tr style=\"text-align: right;\">\n",
       "      <th></th>\n",
       "      <th>account length</th>\n",
       "      <th>number vmail messages</th>\n",
       "      <th>total day minutes</th>\n",
       "      <th>total day calls</th>\n",
       "      <th>total day charge</th>\n",
       "      <th>total eve minutes</th>\n",
       "      <th>total eve calls</th>\n",
       "      <th>total eve charge</th>\n",
       "      <th>total night minutes</th>\n",
       "      <th>total night calls</th>\n",
       "      <th>total night charge</th>\n",
       "      <th>total intl minutes</th>\n",
       "      <th>total intl calls</th>\n",
       "      <th>total intl charge</th>\n",
       "      <th>customer service calls</th>\n",
       "      <th>churn</th>\n",
       "      <th>international plan_1</th>\n",
       "      <th>voice mail plan_1</th>\n",
       "    </tr>\n",
       "  </thead>\n",
       "  <tbody>\n",
       "    <tr>\n",
       "      <th>0</th>\n",
       "      <td>128</td>\n",
       "      <td>25</td>\n",
       "      <td>265.1</td>\n",
       "      <td>110</td>\n",
       "      <td>45.07</td>\n",
       "      <td>197.4</td>\n",
       "      <td>99</td>\n",
       "      <td>16.78</td>\n",
       "      <td>244.7</td>\n",
       "      <td>91</td>\n",
       "      <td>11.01</td>\n",
       "      <td>10.0</td>\n",
       "      <td>3</td>\n",
       "      <td>2.70</td>\n",
       "      <td>1</td>\n",
       "      <td>0</td>\n",
       "      <td>0</td>\n",
       "      <td>1</td>\n",
       "    </tr>\n",
       "    <tr>\n",
       "      <th>1</th>\n",
       "      <td>107</td>\n",
       "      <td>26</td>\n",
       "      <td>161.6</td>\n",
       "      <td>123</td>\n",
       "      <td>27.47</td>\n",
       "      <td>195.5</td>\n",
       "      <td>103</td>\n",
       "      <td>16.62</td>\n",
       "      <td>254.4</td>\n",
       "      <td>103</td>\n",
       "      <td>11.45</td>\n",
       "      <td>13.7</td>\n",
       "      <td>3</td>\n",
       "      <td>3.70</td>\n",
       "      <td>1</td>\n",
       "      <td>0</td>\n",
       "      <td>0</td>\n",
       "      <td>1</td>\n",
       "    </tr>\n",
       "    <tr>\n",
       "      <th>2</th>\n",
       "      <td>137</td>\n",
       "      <td>0</td>\n",
       "      <td>243.4</td>\n",
       "      <td>114</td>\n",
       "      <td>41.38</td>\n",
       "      <td>121.2</td>\n",
       "      <td>110</td>\n",
       "      <td>10.30</td>\n",
       "      <td>162.6</td>\n",
       "      <td>104</td>\n",
       "      <td>7.32</td>\n",
       "      <td>12.2</td>\n",
       "      <td>5</td>\n",
       "      <td>3.29</td>\n",
       "      <td>0</td>\n",
       "      <td>0</td>\n",
       "      <td>0</td>\n",
       "      <td>0</td>\n",
       "    </tr>\n",
       "    <tr>\n",
       "      <th>3</th>\n",
       "      <td>84</td>\n",
       "      <td>0</td>\n",
       "      <td>299.4</td>\n",
       "      <td>71</td>\n",
       "      <td>50.90</td>\n",
       "      <td>61.9</td>\n",
       "      <td>88</td>\n",
       "      <td>5.26</td>\n",
       "      <td>196.9</td>\n",
       "      <td>89</td>\n",
       "      <td>8.86</td>\n",
       "      <td>6.6</td>\n",
       "      <td>7</td>\n",
       "      <td>1.78</td>\n",
       "      <td>2</td>\n",
       "      <td>0</td>\n",
       "      <td>1</td>\n",
       "      <td>0</td>\n",
       "    </tr>\n",
       "    <tr>\n",
       "      <th>4</th>\n",
       "      <td>75</td>\n",
       "      <td>0</td>\n",
       "      <td>166.7</td>\n",
       "      <td>113</td>\n",
       "      <td>28.34</td>\n",
       "      <td>148.3</td>\n",
       "      <td>122</td>\n",
       "      <td>12.61</td>\n",
       "      <td>186.9</td>\n",
       "      <td>121</td>\n",
       "      <td>8.41</td>\n",
       "      <td>10.1</td>\n",
       "      <td>3</td>\n",
       "      <td>2.73</td>\n",
       "      <td>3</td>\n",
       "      <td>0</td>\n",
       "      <td>1</td>\n",
       "      <td>0</td>\n",
       "    </tr>\n",
       "  </tbody>\n",
       "</table>\n",
       "</div>"
      ],
      "text/plain": [
       "   account length  number vmail messages  total day minutes  total day calls  \\\n",
       "0             128                     25              265.1              110   \n",
       "1             107                     26              161.6              123   \n",
       "2             137                      0              243.4              114   \n",
       "3              84                      0              299.4               71   \n",
       "4              75                      0              166.7              113   \n",
       "\n",
       "   total day charge  total eve minutes  total eve calls  total eve charge  \\\n",
       "0             45.07              197.4               99             16.78   \n",
       "1             27.47              195.5              103             16.62   \n",
       "2             41.38              121.2              110             10.30   \n",
       "3             50.90               61.9               88              5.26   \n",
       "4             28.34              148.3              122             12.61   \n",
       "\n",
       "   total night minutes  total night calls  total night charge  \\\n",
       "0                244.7                 91               11.01   \n",
       "1                254.4                103               11.45   \n",
       "2                162.6                104                7.32   \n",
       "3                196.9                 89                8.86   \n",
       "4                186.9                121                8.41   \n",
       "\n",
       "   total intl minutes  total intl calls  total intl charge  \\\n",
       "0                10.0                 3               2.70   \n",
       "1                13.7                 3               3.70   \n",
       "2                12.2                 5               3.29   \n",
       "3                 6.6                 7               1.78   \n",
       "4                10.1                 3               2.73   \n",
       "\n",
       "   customer service calls  churn  international plan_1  voice mail plan_1  \n",
       "0                       1      0                     0                  1  \n",
       "1                       1      0                     0                  1  \n",
       "2                       0      0                     0                  0  \n",
       "3                       2      0                     1                  0  \n",
       "4                       3      0                     1                  0  "
      ]
     },
     "execution_count": 13,
     "metadata": {},
     "output_type": "execute_result"
    }
   ],
   "source": [
    "# one hot encoding for categorical variables\n",
    "df_enconded = pd.get_dummies(df, columns=['international plan', 'voice mail plan'], drop_first=True)\n",
    "df_enconded.head()"
   ]
  },
  {
   "cell_type": "code",
   "execution_count": 14,
   "metadata": {},
   "outputs": [
    {
     "data": {
      "image/png": "[encoded data removed]",
      "text/plain": [
       "<Figure size 576x360 with 1 Axes>"
      ]
     },
     "metadata": {
      "needs_background": "light"
     },
     "output_type": "display_data"
    }
   ],
   "source": [
    "# Box plot of customer service calls by churn status\n",
    "plt.figure(figsize=(8, 5))\n",
    "sns.boxplot(data=df_enconded, x='churn', y='customer service calls', palette='coolwarm')\n",
    "plt.title('Customer Service Calls by Churn Status')\n",
    "plt.xlabel('Churn (0 = not churn, 1 = churn)')\n",
    "plt.ylabel('Churn')\n",
    "plt.xticks(ticks=[0, 1], labels=['not churn', 'Not Churn'])\n",
    "plt.show()"
   ]
  },
  {
   "cell_type": "markdown",
   "metadata": {},
   "source": [
    "## Modelling"
   ]
  },
  {
   "cell_type": "markdown",
   "metadata": {},
   "source": [
    "### Splitting the Data"
   ]
  },
  {
   "cell_type": "code",
   "execution_count": 15,
   "metadata": {},
   "outputs": [],
   "source": [
    "# Split the dataset into features and target variable\n",
    "X = df_enconded.drop(columns=['churn'])\n",
    "y= df_enconded['churn']\n",
    "# Split the dataset into training and testing sets\n",
    "X_train, X_test, y_train, y_test = train_test_split(X, y,test_size=0.3,random_state=42, stratify=y)"
   ]
  },
  {
   "cell_type": "code",
   "execution_count": 16,
   "metadata": {},
   "outputs": [
    {
     "data": {
      "application/vnd.microsoft.datawrangler.viewer.v0+json": {
       "columns": [
        {
         "name": "index",
         "rawType": "int64",
         "type": "integer"
        },
        {
         "name": "churn",
         "rawType": "float64",
         "type": "float"
        }
       ],
       "ref": "541032ec-8a8d-4017-a408-503e12d4efc7",
       "rows": [
        [
         "0",
         "0.855"
        ],
        [
         "1",
         "0.145"
        ]
       ],
       "shape": {
        "columns": 1,
        "rows": 2
       }
      },
      "text/plain": [
       "0    0.855\n",
       "1    0.145\n",
       "Name: churn, dtype: float64"
      ]
     },
     "execution_count": 16,
     "metadata": {},
     "output_type": "execute_result"
    }
   ],
   "source": [
    "# Check class balance\n",
    "y_test.value_counts(normalize=True)"
   ]
  },
  {
   "cell_type": "markdown",
   "metadata": {},
   "source": [
    "### Handle Class Imbalance using SMOTE"
   ]
  },
  {
   "cell_type": "code",
   "execution_count": 17,
   "metadata": {},
   "outputs": [
    {
     "name": "stdout",
     "output_type": "stream",
     "text": [
      "0    0.5\n",
      "1    0.5\n",
      "Name: churn, dtype: float64\n"
     ]
    }
   ],
   "source": [
    "smote= SMOTE(sampling_strategy='auto', random_state=42)\n",
    "X_train_resampled, y_train_resampled = smote.fit_resample(X_train, y_train)\n",
    "# Check the class distribution after resampling\n",
    "print(y_train_resampled.value_counts(normalize=True))\n",
    "\n"
   ]
  },
  {
   "cell_type": "markdown",
   "metadata": {},
   "source": [
    "### Feature Scaling"
   ]
  },
  {
   "cell_type": "code",
   "execution_count": 18,
   "metadata": {},
   "outputs": [],
   "source": [
    "# Standardize the features\n",
    "scaler = StandardScaler()\n",
    "X_train_scaled = scaler.fit_transform(X_train_resampled)\n",
    "X_test_scaled = scaler.transform(X_test)\n"
   ]
  },
  {
   "cell_type": "markdown",
   "metadata": {},
   "source": [
    "### Train Logistic Regression Model"
   ]
  },
  {
   "cell_type": "code",
   "execution_count": 20,
   "metadata": {},
   "outputs": [
    {
     "data": {
      "text/html": [
       "<style>#sk-container-id-1 {color: black;background-color: white;}#sk-container-id-1 pre{padding: 0;}#sk-container-id-1 div.sk-toggleable {background-color: white;}#sk-container-id-1 label.sk-toggleable__label {cursor: pointer;display: block;width: 100%;margin-bottom: 0;padding: 0.3em;box-sizing: border-box;text-align: center;}#sk-container-id-1 label.sk-toggleable__label-arrow:before {content: \"▸\";float: left;margin-right: 0.25em;color: #696969;}#sk-container-id-1 label.sk-toggleable__label-arrow:hover:before {color: black;}#sk-container-id-1 div.sk-estimator:hover label.sk-toggleable__label-arrow:before {color: black;}#sk-container-id-1 div.sk-toggleable__content {max-height: 0;max-width: 0;overflow: hidden;text-align: left;background-color: #f0f8ff;}#sk-container-id-1 div.sk-toggleable__content pre {margin: 0.2em;color: black;border-radius: 0.25em;background-color: #f0f8ff;}#sk-container-id-1 input.sk-toggleable__control:checked~div.sk-toggleable__content {max-height: 200px;max-width: 100%;overflow: auto;}#sk-container-id-1 input.sk-toggleable__control:checked~label.sk-toggleable__label-arrow:before {content: \"▾\";}#sk-container-id-1 div.sk-estimator input.sk-toggleable__control:checked~label.sk-toggleable__label {background-color: #d4ebff;}#sk-container-id-1 div.sk-label input.sk-toggleable__control:checked~label.sk-toggleable__label {background-color: #d4ebff;}#sk-container-id-1 input.sk-hidden--visually {border: 0;clip: rect(1px 1px 1px 1px);clip: rect(1px, 1px, 1px, 1px);height: 1px;margin: -1px;overflow: hidden;padding: 0;position: absolute;width: 1px;}#sk-container-id-1 div.sk-estimator {font-family: monospace;background-color: #f0f8ff;border: 1px dotted black;border-radius: 0.25em;box-sizing: border-box;margin-bottom: 0.5em;}#sk-container-id-1 div.sk-estimator:hover {background-color: #d4ebff;}#sk-container-id-1 div.sk-parallel-item::after {content: \"\";width: 100%;border-bottom: 1px solid gray;flex-grow: 1;}#sk-container-id-1 div.sk-label:hover label.sk-toggleable__label {background-color: #d4ebff;}#sk-container-id-1 div.sk-serial::before {content: \"\";position: absolute;border-left: 1px solid gray;box-sizing: border-box;top: 0;bottom: 0;left: 50%;z-index: 0;}#sk-container-id-1 div.sk-serial {display: flex;flex-direction: column;align-items: center;background-color: white;padding-right: 0.2em;padding-left: 0.2em;position: relative;}#sk-container-id-1 div.sk-item {position: relative;z-index: 1;}#sk-container-id-1 div.sk-parallel {display: flex;align-items: stretch;justify-content: center;background-color: white;position: relative;}#sk-container-id-1 div.sk-item::before, #sk-container-id-1 div.sk-parallel-item::before {content: \"\";position: absolute;border-left: 1px solid gray;box-sizing: border-box;top: 0;bottom: 0;left: 50%;z-index: -1;}#sk-container-id-1 div.sk-parallel-item {display: flex;flex-direction: column;z-index: 1;position: relative;background-color: white;}#sk-container-id-1 div.sk-parallel-item:first-child::after {align-self: flex-end;width: 50%;}#sk-container-id-1 div.sk-parallel-item:last-child::after {align-self: flex-start;width: 50%;}#sk-container-id-1 div.sk-parallel-item:only-child::after {width: 0;}#sk-container-id-1 div.sk-dashed-wrapped {border: 1px dashed gray;margin: 0 0.4em 0.5em 0.4em;box-sizing: border-box;padding-bottom: 0.4em;background-color: white;}#sk-container-id-1 div.sk-label label {font-family: monospace;font-weight: bold;display: inline-block;line-height: 1.2em;}#sk-container-id-1 div.sk-label-container {text-align: center;}#sk-container-id-1 div.sk-container {/* jupyter's `normalize.less` sets `[hidden] { display: none; }` but bootstrap.min.css set `[hidden] { display: none !important; }` so we also need the `!important` here to be able to override the default hidden behavior on the sphinx rendered scikit-learn.org. See: https://github.com/scikit-learn/scikit-learn/issues/21755 */display: inline-block !important;position: relative;}#sk-container-id-1 div.sk-text-repr-fallback {display: none;}</style><div id=\"sk-container-id-1\" class=\"sk-top-container\"><div class=\"sk-text-repr-fallback\"><pre>LogisticRegression(random_state=42)</pre><b>In a Jupyter environment, please rerun this cell to show the HTML representation or trust the notebook. <br />On GitHub, the HTML representation is unable to render, please try loading this page with nbviewer.org.</b></div><div class=\"sk-container\" hidden><div class=\"sk-item\"><div class=\"sk-estimator sk-toggleable\"><input class=\"sk-toggleable__control sk-hidden--visually\" id=\"sk-estimator-id-1\" type=\"checkbox\" checked><label for=\"sk-estimator-id-1\" class=\"sk-toggleable__label sk-toggleable__label-arrow\">LogisticRegression</label><div class=\"sk-toggleable__content\"><pre>LogisticRegression(random_state=42)</pre></div></div></div></div></div>"
      ],
      "text/plain": [
       "LogisticRegression(random_state=42)"
      ]
     },
     "execution_count": 20,
     "metadata": {},
     "output_type": "execute_result"
    }
   ],
   "source": [
    "#logistic regression model\n",
    "model = LogisticRegression(random_state=42)\n",
    "model.fit(X_train_scaled, y_train_resampled)\n",
    "\n",
    "\n"
   ]
  },
  {
   "cell_type": "code",
   "execution_count": 21,
   "metadata": {},
   "outputs": [],
   "source": [
    "# Evaluate the model\n",
    "y_pred = model.predict(X_test_scaled)\n",
    "\n",
    "accuracy = accuracy_score(y_test, y_pred)"
   ]
  },
  {
   "cell_type": "code",
   "execution_count": 22,
   "metadata": {},
   "outputs": [
    {
     "name": "stdout",
     "output_type": "stream",
     "text": [
      "Logistic Regression - Accuracy: 0.69, Precision: 0.28, Recall: 0.73, F1 Score: 0.41\n"
     ]
    }
   ],
   "source": [
    "precision = precision_score(y_test, y_pred)\n",
    "recall = recall_score(y_test, y_pred)\n",
    "f1 = f1_score(y_test, y_pred)\n",
    "print(f'Logistic Regression - Accuracy: {accuracy:.2f}, Precision: {precision:.2f}, Recall: {recall:.2f}, F1 Score: {f1:.2f}')"
   ]
  },
  {
   "cell_type": "markdown",
   "metadata": {},
   "source": [
    "### Evaluation Using Confusion Matrix\n"
   ]
  },
  {
   "cell_type": "code",
   "execution_count": 23,
   "metadata": {},
   "outputs": [
    {
     "data": {
      "image/png": "[encoded data removed]",
      "text/plain": [
       "<Figure size 432x288 with 2 Axes>"
      ]
     },
     "metadata": {
      "needs_background": "light"
     },
     "output_type": "display_data"
    }
   ],
   "source": [
    "# Compute confusion matrix\n",
    "conf_matrix = confusion_matrix(y_test, y_pred)\n",
    "\n",
    "# Plot confusion matrix\n",
    "plt.figure(figsize=(6,4))\n",
    "sns.heatmap(conf_matrix, annot=True, fmt='d', cmap='Blues',\n",
    "            xticklabels=['No Churn', 'Churn'],\n",
    "            yticklabels=['No Churn', 'Churn'])\n",
    "plt.xlabel('Predicted')\n",
    "plt.ylabel('Actual')\n",
    "plt.title('Confusion Matrix')\n",
    "plt.show()\n"
   ]
  },
  {
   "cell_type": "code",
   "execution_count": 24,
   "metadata": {},
   "outputs": [
    {
     "name": "stdout",
     "output_type": "stream",
     "text": [
      "Classification Report:\n",
      "              precision    recall  f1-score   support\n",
      "\n",
      "    No Churn       0.94      0.69      0.79       855\n",
      "       Churn       0.28      0.73      0.41       145\n",
      "\n",
      "    accuracy                           0.69      1000\n",
      "   macro avg       0.61      0.71      0.60      1000\n",
      "weighted avg       0.84      0.69      0.74      1000\n",
      "\n"
     ]
    }
   ],
   "source": [
    "print(\"Classification Report:\")\n",
    "print(classification_report(y_test, y_pred, target_names=['No Churn', 'Churn']))\n"
   ]
  },
  {
   "cell_type": "markdown",
   "metadata": {},
   "source": [
    " ### Add ROC Curve"
   ]
  },
  {
   "cell_type": "code",
   "execution_count": 25,
   "metadata": {},
   "outputs": [],
   "source": [
    "y_pred_probs = model.predict_proba(X_test_scaled)[:, 1]  # probability of class 1 (churn)\n"
   ]
  },
  {
   "cell_type": "markdown",
   "metadata": {},
   "source": [
    "Compute ROC Curve Values\n",
    "\n"
   ]
  },
  {
   "cell_type": "code",
   "execution_count": 26,
   "metadata": {},
   "outputs": [],
   "source": [
    "fpr, tpr, thresholds = roc_curve(y_test, y_pred_probs)\n",
    "roc_auc = auc(fpr, tpr)\n"
   ]
  },
  {
   "cell_type": "code",
   "execution_count": 27,
   "metadata": {},
   "outputs": [
    {
     "name": "stdout",
     "output_type": "stream",
     "text": [
      "Logistic Regression Cross-Validation Accuracy: 0.73 ± 0.02\n"
     ]
    }
   ],
   "source": [
    "# Cross-validation for Logistic Regression\n",
    "cv_scores = cross_val_score(model, X_train_scaled, y_train_resampled, cv=StratifiedKFold(n_splits=5), scoring='accuracy')\n",
    "print(f'Logistic Regression Cross-Validation Accuracy: {np.mean(cv_scores):.2f} ± {np.std(cv_scores):.2f}')"
   ]
  },
  {
   "cell_type": "markdown",
   "metadata": {},
   "source": [
    "### Plot the ROC Curve"
   ]
  },
  {
   "cell_type": "code",
   "execution_count": 28,
   "metadata": {},
   "outputs": [
    {
     "data": {
      "image/png": "[encoded data removed]",
      "text/plain": [
       "<Figure size 576x432 with 1 Axes>"
      ]
     },
     "metadata": {
      "needs_background": "light"
     },
     "output_type": "display_data"
    }
   ],
   "source": [
    "plt.figure(figsize=(8,6))\n",
    "plt.plot(fpr, tpr, color='darkorange', label='Logistic Regression (AUC = {:.2f})'.format(roc_auc_score(y_test, y_pred_probs)))\n",
    "plt.plot([0, 1], [0, 1], color='navy', linestyle='--')  # Diagonal line\n",
    "plt.xlabel('False Positive Rate')\n",
    "plt.ylabel('True Positive Rate (Recall)')\n",
    "plt.title('Receiver Operating Characteristic (ROC) Curve')\n",
    "plt.legend(loc='lower right')\n",
    "plt.grid(True)\n",
    "plt.show()\n"
   ]
  },
  {
   "cell_type": "code",
   "execution_count": 42,
   "metadata": {},
   "outputs": [
    {
     "name": "stdout",
     "output_type": "stream",
     "text": [
      "AUC Score: 0.7686\n"
     ]
    }
   ],
   "source": [
    "auc_score = roc_auc_score(y_test, y_pred_probs)\n",
    "print(f\"AUC Score: {auc_score:.4f}\")\n"
   ]
  },
  {
   "cell_type": "markdown",
   "metadata": {},
   "source": [
    "## Training Using Decision Trees"
   ]
  },
  {
   "cell_type": "code",
   "execution_count": 30,
   "metadata": {},
   "outputs": [
    {
     "data": {
      "text/html": [
       "<style>#sk-container-id-2 {color: black;background-color: white;}#sk-container-id-2 pre{padding: 0;}#sk-container-id-2 div.sk-toggleable {background-color: white;}#sk-container-id-2 label.sk-toggleable__label {cursor: pointer;display: block;width: 100%;margin-bottom: 0;padding: 0.3em;box-sizing: border-box;text-align: center;}#sk-container-id-2 label.sk-toggleable__label-arrow:before {content: \"▸\";float: left;margin-right: 0.25em;color: #696969;}#sk-container-id-2 label.sk-toggleable__label-arrow:hover:before {color: black;}#sk-container-id-2 div.sk-estimator:hover label.sk-toggleable__label-arrow:before {color: black;}#sk-container-id-2 div.sk-toggleable__content {max-height: 0;max-width: 0;overflow: hidden;text-align: left;background-color: #f0f8ff;}#sk-container-id-2 div.sk-toggleable__content pre {margin: 0.2em;color: black;border-radius: 0.25em;background-color: #f0f8ff;}#sk-container-id-2 input.sk-toggleable__control:checked~div.sk-toggleable__content {max-height: 200px;max-width: 100%;overflow: auto;}#sk-container-id-2 input.sk-toggleable__control:checked~label.sk-toggleable__label-arrow:before {content: \"▾\";}#sk-container-id-2 div.sk-estimator input.sk-toggleable__control:checked~label.sk-toggleable__label {background-color: #d4ebff;}#sk-container-id-2 div.sk-label input.sk-toggleable__control:checked~label.sk-toggleable__label {background-color: #d4ebff;}#sk-container-id-2 input.sk-hidden--visually {border: 0;clip: rect(1px 1px 1px 1px);clip: rect(1px, 1px, 1px, 1px);height: 1px;margin: -1px;overflow: hidden;padding: 0;position: absolute;width: 1px;}#sk-container-id-2 div.sk-estimator {font-family: monospace;background-color: #f0f8ff;border: 1px dotted black;border-radius: 0.25em;box-sizing: border-box;margin-bottom: 0.5em;}#sk-container-id-2 div.sk-estimator:hover {background-color: #d4ebff;}#sk-container-id-2 div.sk-parallel-item::after {content: \"\";width: 100%;border-bottom: 1px solid gray;flex-grow: 1;}#sk-container-id-2 div.sk-label:hover label.sk-toggleable__label {background-color: #d4ebff;}#sk-container-id-2 div.sk-serial::before {content: \"\";position: absolute;border-left: 1px solid gray;box-sizing: border-box;top: 0;bottom: 0;left: 50%;z-index: 0;}#sk-container-id-2 div.sk-serial {display: flex;flex-direction: column;align-items: center;background-color: white;padding-right: 0.2em;padding-left: 0.2em;position: relative;}#sk-container-id-2 div.sk-item {position: relative;z-index: 1;}#sk-container-id-2 div.sk-parallel {display: flex;align-items: stretch;justify-content: center;background-color: white;position: relative;}#sk-container-id-2 div.sk-item::before, #sk-container-id-2 div.sk-parallel-item::before {content: \"\";position: absolute;border-left: 1px solid gray;box-sizing: border-box;top: 0;bottom: 0;left: 50%;z-index: -1;}#sk-container-id-2 div.sk-parallel-item {display: flex;flex-direction: column;z-index: 1;position: relative;background-color: white;}#sk-container-id-2 div.sk-parallel-item:first-child::after {align-self: flex-end;width: 50%;}#sk-container-id-2 div.sk-parallel-item:last-child::after {align-self: flex-start;width: 50%;}#sk-container-id-2 div.sk-parallel-item:only-child::after {width: 0;}#sk-container-id-2 div.sk-dashed-wrapped {border: 1px dashed gray;margin: 0 0.4em 0.5em 0.4em;box-sizing: border-box;padding-bottom: 0.4em;background-color: white;}#sk-container-id-2 div.sk-label label {font-family: monospace;font-weight: bold;display: inline-block;line-height: 1.2em;}#sk-container-id-2 div.sk-label-container {text-align: center;}#sk-container-id-2 div.sk-container {/* jupyter's `normalize.less` sets `[hidden] { display: none; }` but bootstrap.min.css set `[hidden] { display: none !important; }` so we also need the `!important` here to be able to override the default hidden behavior on the sphinx rendered scikit-learn.org. See: https://github.com/scikit-learn/scikit-learn/issues/21755 */display: inline-block !important;position: relative;}#sk-container-id-2 div.sk-text-repr-fallback {display: none;}</style><div id=\"sk-container-id-2\" class=\"sk-top-container\"><div class=\"sk-text-repr-fallback\"><pre>RandomForestClassifier(max_depth=5, random_state=42)</pre><b>In a Jupyter environment, please rerun this cell to show the HTML representation or trust the notebook. <br />On GitHub, the HTML representation is unable to render, please try loading this page with nbviewer.org.</b></div><div class=\"sk-container\" hidden><div class=\"sk-item\"><div class=\"sk-estimator sk-toggleable\"><input class=\"sk-toggleable__control sk-hidden--visually\" id=\"sk-estimator-id-2\" type=\"checkbox\" checked><label for=\"sk-estimator-id-2\" class=\"sk-toggleable__label sk-toggleable__label-arrow\">RandomForestClassifier</label><div class=\"sk-toggleable__content\"><pre>RandomForestClassifier(max_depth=5, random_state=42)</pre></div></div></div></div></div>"
      ],
      "text/plain": [
       "RandomForestClassifier(max_depth=5, random_state=42)"
      ]
     },
     "execution_count": 30,
     "metadata": {},
     "output_type": "execute_result"
    }
   ],
   "source": [
    "# fittin a decision tree model\n",
    "dt_model = DecisionTreeClassifier(random_state=42, max_depth=5)  # You can tune depth later\n",
    "dt_model.fit(X_train_resampled, y_train_resampled)\n",
    "\n",
    "# fitting a random forest model\n",
    "rf_model = RandomForestClassifier(random_state=42, n_estimators=100, max_depth=5)  # You can tune n_estimators and depth later\n",
    "rf_model.fit(X_train_resampled, y_train_resampled)\n"
   ]
  },
  {
   "cell_type": "code",
   "execution_count": 31,
   "metadata": {},
   "outputs": [
    {
     "name": "stderr",
     "output_type": "stream",
     "text": [
      "c:\\Users\\Administrator\\anaconda31\\envs\\learn-env\\lib\\site-packages\\sklearn\\base.py:450: UserWarning: X does not have valid feature names, but DecisionTreeClassifier was fitted with feature names\n",
      "  warnings.warn(\n",
      "c:\\Users\\Administrator\\anaconda31\\envs\\learn-env\\lib\\site-packages\\sklearn\\base.py:450: UserWarning: X does not have valid feature names, but RandomForestClassifier was fitted with feature names\n",
      "  warnings.warn(\n"
     ]
    }
   ],
   "source": [
    "# predicting with decision tree model\n",
    "dt_y_pred = dt_model.predict(X_test_scaled)\n",
    "\n",
    "# predicting with random forest model\n",
    "rf_y_pred = rf_model.predict(X_test_scaled)\n"
   ]
  },
  {
   "cell_type": "code",
   "execution_count": 40,
   "metadata": {},
   "outputs": [
    {
     "name": "stdout",
     "output_type": "stream",
     "text": [
      "Decision Tree - Accuracy: 0.84, Precision: 0.42, Recall: 0.31\n"
     ]
    }
   ],
   "source": [
    "# Evaluate the Decision Tree model\n",
    "dt_accuracy = accuracy_score(y_test, dt_y_pred)\n",
    "dt_precision = precision_score(y_test, dt_y_pred)\n",
    "dt_recall = recall_score(y_test, dt_y_pred) \n",
    "print(f'Decision Tree - Accuracy: {dt_accuracy:.2f}, Precision: {dt_precision:.2f}, Recall: {dt_recall:.2f}')"
   ]
  },
  {
   "cell_type": "code",
   "execution_count": 33,
   "metadata": {},
   "outputs": [
    {
     "name": "stdout",
     "output_type": "stream",
     "text": [
      "Random Forest - Accuracy: 0.86, Precision: 0.75, Recall: 0.04\n"
     ]
    }
   ],
   "source": [
    "# evaluate the Random Forest model\n",
    "rf_accuracy = accuracy_score(y_test, rf_y_pred)\n",
    "rf_precision = precision_score(y_test, rf_y_pred)\n",
    "rf_recall = recall_score(y_test, rf_y_pred)\n",
    "print(f'Random Forest - Accuracy: {rf_accuracy:.2f}, Precision: {rf_precision:.2f}, Recall: {rf_recall:.2f}')"
   ]
  },
  {
   "cell_type": "code",
   "execution_count": 41,
   "metadata": {},
   "outputs": [
    {
     "data": {
      "image/png": "[encoded data removed]",
      "text/plain": [
       "<Figure size 432x288 with 2 Axes>"
      ]
     },
     "metadata": {
      "needs_background": "light"
     },
     "output_type": "display_data"
    },
    {
     "data": {
      "image/png": "[encoded data removed]",
      "text/plain": [
       "<Figure size 432x288 with 2 Axes>"
      ]
     },
     "metadata": {
      "needs_background": "light"
     },
     "output_type": "display_data"
    }
   ],
   "source": [
    "# Function to plot confusion matrix\n",
    "def plot_conf_matrix(cm, title):\n",
    "    sns.heatmap(cm, annot=True, fmt='d', cmap='Blues', \n",
    "                xticklabels=['No Churn', 'Churn'], \n",
    "                yticklabels=['No Churn', 'Churn'])\n",
    "    plt.xlabel('Predicted')\n",
    "    plt.ylabel('Actual')\n",
    "    plt.title(title)\n",
    "    plt.show()\n",
    "\n",
    "# Plot\n",
    "plot_conf_matrix(confusion_matrix(y_test, dt_y_pred), 'Decision Tree - Confusion Matrix')\n",
    "plot_conf_matrix(confusion_matrix(y_test, rf_y_pred), 'Random Forest - Confusion Matrix')\n"
   ]
  },
  {
   "cell_type": "code",
   "execution_count": 43,
   "metadata": {},
   "outputs": [
    {
     "name": "stdout",
     "output_type": "stream",
     "text": [
      "Decision Tree Classification Report:\n",
      "              precision    recall  f1-score   support\n",
      "\n",
      "    No Churn       0.89      0.93      0.91       855\n",
      "       Churn       0.42      0.31      0.36       145\n",
      "\n",
      "    accuracy                           0.84      1000\n",
      "   macro avg       0.65      0.62      0.63      1000\n",
      "weighted avg       0.82      0.84      0.83      1000\n",
      "\n",
      "Random Forest Classification Report:\n",
      "              precision    recall  f1-score   support\n",
      "\n",
      "    No Churn       0.86      1.00      0.92       855\n",
      "       Churn       0.75      0.04      0.08       145\n",
      "\n",
      "    accuracy                           0.86      1000\n",
      "   macro avg       0.80      0.52      0.50      1000\n",
      "weighted avg       0.84      0.86      0.80      1000\n",
      "\n"
     ]
    }
   ],
   "source": [
    "# Classification Report for Decision Tree\n",
    "print(\"Decision Tree Classification Report:\")\n",
    "print(classification_report(y_test, dt_y_pred, target_names=['No Churn', 'Churn']))\n",
    "# Classification Report for Random Forest\n",
    "print(\"Random Forest Classification Report:\")\n",
    "print(classification_report(y_test, rf_y_pred, target_names=['No Churn', 'Churn']))"
   ]
  },
  {
   "cell_type": "markdown",
   "metadata": {},
   "source": [
    " ### Plotting ROC Comparison of Logistic Regression, Decision Tree, and Random Forest"
   ]
  },
  {
   "cell_type": "code",
   "execution_count": 44,
   "metadata": {},
   "outputs": [
    {
     "name": "stderr",
     "output_type": "stream",
     "text": [
      "c:\\Users\\Administrator\\anaconda31\\envs\\learn-env\\lib\\site-packages\\sklearn\\base.py:450: UserWarning: X does not have valid feature names, but DecisionTreeClassifier was fitted with feature names\n",
      "  warnings.warn(\n",
      "c:\\Users\\Administrator\\anaconda31\\envs\\learn-env\\lib\\site-packages\\sklearn\\base.py:450: UserWarning: X does not have valid feature names, but DecisionTreeClassifier was fitted with feature names\n",
      "  warnings.warn(\n",
      "c:\\Users\\Administrator\\anaconda31\\envs\\learn-env\\lib\\site-packages\\sklearn\\base.py:450: UserWarning: X does not have valid feature names, but RandomForestClassifier was fitted with feature names\n",
      "  warnings.warn(\n",
      "c:\\Users\\Administrator\\anaconda31\\envs\\learn-env\\lib\\site-packages\\sklearn\\base.py:450: UserWarning: X does not have valid feature names, but RandomForestClassifier was fitted with feature names\n",
      "  warnings.warn(\n"
     ]
    }
   ],
   "source": [
    "# Logistic Regression\n",
    "fpr, tpr, thresholds = roc_curve(y_test, model.predict_proba(X_test_scaled)[:, 1] )\n",
    "roc_auc = auc(fpr, tpr)\n",
    "\n",
    "# Decision Tree\n",
    "fpr_dt, tpr_dt, _ = roc_curve(y_test, dt_model.predict_proba(X_test_scaled)[:, 1])\n",
    "roc_auc_dt = roc_auc_score(y_test, dt_model.predict_proba(X_test_scaled)[:, 1])\n",
    "\n",
    "# Random Forest\n",
    "fpr_rf, tpr_rf, _ = roc_curve(y_test, rf_model.predict_proba(X_test_scaled)[:, 1])\n",
    "roc_auc_rf = roc_auc_score(y_test, rf_model.predict_proba(X_test_scaled)[:, 1])\n",
    "\n"
   ]
  },
  {
   "cell_type": "code",
   "execution_count": 45,
   "metadata": {},
   "outputs": [
    {
     "data": {
      "image/png": "[encoded data removed]",
      "text/plain": [
       "<Figure size 576x432 with 1 Axes>"
      ]
     },
     "metadata": {
      "needs_background": "light"
     },
     "output_type": "display_data"
    }
   ],
   "source": [
    "plt.figure(figsize=(8,6))\n",
    "\n",
    "# Logistic Regression\n",
    "plt.plot(fpr, tpr, color='red', label='Logistic Regression (AUC = {:.2f})'.format(roc_auc))\n",
    "\n",
    "# Decision Tree\n",
    "plt.plot(fpr_dt, tpr_dt, color='darkorange', label='Decision Tree (AUC = {:.2f})'.format(roc_auc_dt))\n",
    "\n",
    "# Random Forest\n",
    "plt.plot(fpr_rf, tpr_rf, color='blue', label='Random Forest (AUC = {:.2f})'.format(roc_auc_rf))\n",
    "\n",
    "# Diagonal line\n",
    "plt.plot([0, 1], [0, 1], color='navy', linestyle='--')\n",
    "\n",
    "plt.xlabel('False Positive Rate')\n",
    "plt.ylabel('True Positive Rate (Recall)')\n",
    "plt.title('ROC Curve Comparison - Logistic, DT, RF')\n",
    "plt.legend(loc='lower right')\n",
    "plt.grid(True)\n",
    "plt.show()\n"
   ]
  },
  {
   "cell_type": "code",
   "execution_count": 46,
   "metadata": {},
   "outputs": [
    {
     "name": "stdout",
     "output_type": "stream",
     "text": [
      "Decision Tree Cross-Validation Accuracy: 0.79 ± 0.02\n",
      "Random Forest Cross-Validation Accuracy: 0.83 ± 0.02\n"
     ]
    }
   ],
   "source": [
    "# Cross-validation for Decision Tree\n",
    "dt_cv_scores = cross_val_score(dt_model, X_train_scaled, y_train_resampled, cv=StratifiedKFold(n_splits=5), scoring='accuracy')\n",
    "print(f'Decision Tree Cross-Validation Accuracy: {np.mean(dt_cv_scores):.2f} ± {np.std(dt_cv_scores):.2f}')\n",
    "# Cross-validation for Random Forest\n",
    "rf_cv_scores = cross_val_score(rf_model, X_train_scaled, y_train_resampled, cv=StratifiedKFold(n_splits=5), scoring='accuracy')\n",
    "print(f'Random Forest Cross-Validation Accuracy: {np.mean(rf_cv_scores):.2f} ± {np.std(rf_cv_scores):.2f}')\n",
    "\n"
   ]
  },
  {
   "cell_type": "markdown",
   "metadata": {},
   "source": [
    "These are mean accuracy scores obtained from cross-validation (e.g. 5-fold CV), where the model is trained and tested on different parts of the data.\n",
    "\n",
    "0.79 means that, on average, the Decision Tree correctly classified 79% of the customers.\n",
    "\n",
    "0.83 means that the Random Forest correctly classified 83% of the customers.\n",
    "\n",
    "So, Random Forest is outperforming the Decision Tree by about 4 percentage points on average."
   ]
  },
  {
   "cell_type": "code",
   "execution_count": 47,
   "metadata": {},
   "outputs": [
    {
     "name": "stdout",
     "output_type": "stream",
     "text": [
      "Best Decision Tree Params: {'criterion': 'gini', 'max_depth': 17, 'min_samples_leaf': 19, 'min_samples_split': 13}\n"
     ]
    }
   ],
   "source": [
    "# Parameter distributions for Decision Tree\n",
    "dt_param_dist = {\n",
    "    'max_depth': randint(3, 20),\n",
    "    'min_samples_split': randint(2, 20),\n",
    "    'min_samples_leaf': randint(1, 20),\n",
    "    'criterion': ['gini', 'entropy']\n",
    "}\n",
    "\n",
    "# Initialize model\n",
    "dt = DecisionTreeClassifier(random_state=42)\n",
    "\n",
    "# RandomizedSearchCV\n",
    "dt_random_search = RandomizedSearchCV(\n",
    "    dt, dt_param_dist, n_iter=50, cv=5, scoring='roc_auc', random_state=42, n_jobs=-1\n",
    ")\n",
    "\n",
    "# Fit\n",
    "dt_random_search.fit(X_train_scaled, y_train_resampled)\n",
    "\n",
    "# Best model\n",
    "best_dt = dt_random_search.best_estimator_\n",
    "print(\"Best Decision Tree Params:\", dt_random_search.best_params_)"
   ]
  },
  {
   "cell_type": "code",
   "execution_count": 48,
   "metadata": {},
   "outputs": [
    {
     "name": "stdout",
     "output_type": "stream",
     "text": [
      "Best Random Forest Params: {'criterion': 'gini', 'max_depth': 19, 'min_samples_leaf': 2, 'min_samples_split': 3, 'n_estimators': 103}\n"
     ]
    }
   ],
   "source": [
    "# parameter distributions for Random Forest\n",
    "rf_param_dist = {\n",
    "    'n_estimators': randint(50, 200),\n",
    "    'max_depth': randint(3, 20),\n",
    "    'min_samples_split': randint(2, 20),\n",
    "    'min_samples_leaf': randint(1, 20),\n",
    "    'criterion': ['gini', 'entropy']\n",
    "}\n",
    "# Initialize model\n",
    "rf = RandomForestClassifier(random_state=42)\n",
    "# RandomizedSearchCV\n",
    "rf_random_search = RandomizedSearchCV(\n",
    "    rf, rf_param_dist, n_iter=50, cv=5, scoring='roc_auc', random_state=42, n_jobs=-1\n",
    ")\n",
    "# Fit\n",
    "rf_random_search.fit(X_train_scaled, y_train_resampled)\n",
    "# Best model\n",
    "best_rf = rf_random_search.best_estimator_\n",
    "print(\"Best Random Forest Params:\", rf_random_search.best_params_)\n"
   ]
  },
  {
   "cell_type": "code",
   "execution_count": 54,
   "metadata": {},
   "outputs": [
    {
     "name": "stdout",
     "output_type": "stream",
     "text": [
      "💡 Decision Tree CV Accuracy: 0.84 ± 0.01\n",
      "💡 Random Forest CV Accuracy: 0.93 ± 0.01\n"
     ]
    }
   ],
   "source": [
    "\n",
    "\n",
    "# Decision Tree Cross-Validation\n",
    "dt_cv_scores = cross_val_score(best_dt, X_train_scaled, y_train_resampled,\n",
    "                               cv=StratifiedKFold(n_splits=5), scoring='accuracy')\n",
    "print(f'💡 Decision Tree CV Accuracy: {np.mean(dt_cv_scores):.2f} ± {np.std(dt_cv_scores):.2f}')\n",
    "\n",
    "# Random Forest Cross-Validation\n",
    "rf_cv_scores = cross_val_score(best_rf, X_train_scaled, y_train_resampled,\n",
    "                               cv=StratifiedKFold(n_splits=5), scoring='accuracy')\n",
    "print(f'💡 Random Forest CV Accuracy: {np.mean(rf_cv_scores):.2f} ± {np.std(rf_cv_scores):.2f}')\n"
   ]
  },
  {
   "cell_type": "code",
   "execution_count": 55,
   "metadata": {},
   "outputs": [
    {
     "data": {
      "image/png": "[encoded data removed]",
      "text/plain": [
       "<Figure size 576x432 with 1 Axes>"
      ]
     },
     "metadata": {
      "needs_background": "light"
     },
     "output_type": "display_data"
    }
   ],
   "source": [
    "# Predict probabilities for ROC after tuning\n",
    "# Logistic Regression stays same if not tuned\n",
    "fpr_log, tpr_log, _ = roc_curve(y_test, y_pred_probs)\n",
    "roc_auc_log = roc_auc_score(y_test, y_pred_probs)\n",
    "\n",
    "# Tuned Decision Tree\n",
    "dt_probs = best_dt.predict_proba(X_test_scaled)[:, 1]\n",
    "fpr_dt, tpr_dt, _ = roc_curve(y_test, dt_probs)\n",
    "roc_auc_dt = roc_auc_score(y_test, dt_probs)\n",
    "\n",
    "# Tuned Random Forest\n",
    "rf_probs = best_rf.predict_proba(X_test_scaled)[:, 1]\n",
    "fpr_rf, tpr_rf, _ = roc_curve(y_test, rf_probs)\n",
    "roc_auc_rf = roc_auc_score(y_test, rf_probs)\n",
    "\n",
    "# === Plot ===\n",
    "plt.figure(figsize=(8, 6))\n",
    "\n",
    "plt.plot(fpr_log, tpr_log, color='red', label='Logistic Regression (AUC = {:.2f})'.format(roc_auc_log))\n",
    "plt.plot(fpr_dt, tpr_dt, color='darkorange', label='Tuned Decision Tree (AUC = {:.2f})'.format(roc_auc_dt))\n",
    "plt.plot(fpr_rf, tpr_rf, color='blue', label='Tuned Random Forest (AUC = {:.2f})'.format(roc_auc_rf))\n",
    "\n",
    "# Diagonal line\n",
    "plt.plot([0, 1], [0, 1], color='navy', linestyle='--')\n",
    "\n",
    "plt.xlabel('False Positive Rate')\n",
    "plt.ylabel('True Positive Rate (Recall)')\n",
    "plt.title('ROC Curve Comparison After Hyperparameter Tuning')\n",
    "plt.legend(loc='lower right')\n",
    "plt.grid(True)\n",
    "plt.show()"
   ]
  },
  {
   "cell_type": "markdown",
   "metadata": {},
   "source": [
    "### PR Curves for  Logistic regression, Decision Trees & Random Forest"
   ]
  },
  {
   "cell_type": "code",
   "execution_count": 49,
   "metadata": {},
   "outputs": [
    {
     "name": "stderr",
     "output_type": "stream",
     "text": [
      "c:\\Users\\Administrator\\anaconda31\\envs\\learn-env\\lib\\site-packages\\sklearn\\base.py:450: UserWarning: X does not have valid feature names, but DecisionTreeClassifier was fitted with feature names\n",
      "  warnings.warn(\n",
      "c:\\Users\\Administrator\\anaconda31\\envs\\learn-env\\lib\\site-packages\\sklearn\\base.py:450: UserWarning: X does not have valid feature names, but RandomForestClassifier was fitted with feature names\n",
      "  warnings.warn(\n"
     ]
    }
   ],
   "source": [
    "# PR curves\n",
    "# Logistic Regression\n",
    "precision_lr, recall_lr, _ = precision_recall_curve(y_test, y_pred_probs)\n",
    "avg_precision_lr = average_precision_score(y_test, y_pred_probs)\n",
    "\n",
    "# Decision Tree\n",
    "y_probs_dt = dt_model.predict_proba(X_test_scaled)[:, 1]\n",
    "precision_dt, recall_dt, _ = precision_recall_curve(y_test, y_probs_dt)\n",
    "avg_precision_dt = average_precision_score(y_test, y_probs_dt)\n",
    "\n",
    "# Random Forest\n",
    "y_probs_rf = rf_model.predict_proba(X_test_scaled)[:, 1]\n",
    "precision_rf, recall_rf, _ = precision_recall_curve(y_test, y_probs_rf)\n",
    "avg_precision_rf = average_precision_score(y_test, y_probs_rf)\n"
   ]
  },
  {
   "cell_type": "code",
   "execution_count": 50,
   "metadata": {},
   "outputs": [
    {
     "data": {
      "image/png": "[encoded data removed]",
      "text/plain": [
       "<Figure size 576x432 with 1 Axes>"
      ]
     },
     "metadata": {
      "needs_background": "light"
     },
     "output_type": "display_data"
    }
   ],
   "source": [
    "plt.figure(figsize=(8,6))\n",
    "\n",
    "plt.plot(recall_lr, precision_lr, color='red', label='Logistic Regression (AP = {:.2f})'.format(avg_precision_lr))\n",
    "plt.plot(recall_dt, precision_dt, color='orange', label='Decision Tree (AP = {:.2f})'.format(avg_precision_dt))\n",
    "plt.plot(recall_rf, precision_rf, color='blue', label='Random Forest (AP = {:.2f})'.format(avg_precision_rf))\n",
    "\n",
    "plt.xlabel('Recall')\n",
    "plt.ylabel('Precision')\n",
    "plt.title('Precision-Recall Curve Comparison')\n",
    "plt.legend(loc='upper right')\n",
    "plt.grid(True)\n",
    "plt.show()\n"
   ]
  }
 ],
 "metadata": {
  "kernelspec": {
   "display_name": "learn-env",
   "language": "python",
   "name": "python3"
  },
  "language_info": {
   "codemirror_mode": {
    "name": "ipython",
    "version": 3
   },
   "file_extension": ".py",
   "mimetype": "text/x-python",
   "name": "python",
   "nbconvert_exporter": "python",
   "pygments_lexer": "ipython3",
   "version": "3.8.5"
  }
 },
 "nbformat": 4,
 "nbformat_minor": 2
}
