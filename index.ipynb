{
 "cells": [
  {
   "cell_type": "markdown",
   "metadata": {},
   "source": [
    "### Project Overview: Customer Churn Prediction for SyriaTel"
   ]
  },
  {
   "cell_type": "markdown",
   "metadata": {},
   "source": [
    "## 1. Business Understanding\n",
    "\n",
    "SyriaTel, like many telecom providers, operates in a highly competitive industry where retaining existing customers is often more cost-effective than acquiring new ones. Customer churn — when subscribers stop using the service — directly impacts revenue and long-term profitability.\n",
    "\n",
    "The challenge is that churn doesn't usually happen randomly. It can result from dissatisfaction with service quality, pricing, customer support, or competitors' offers. If SyriaTel can predict which customers are likely to churn, it can act proactively to retain them through targeted interventions."
   ]
  },
  {
   "cell_type": "markdown",
   "metadata": {},
   "source": [
    "### 2. Business Goal\n",
    "To reduce customer churn and increase customer lifetime value (CLTV) by identifying subscribers who are most likely to leave soon.\n",
    "\n",
    "Specifically:\n",
    "\n",
    "i)  Build a Predictive Model for Churn\n",
    "\n",
    "ii) Gain Insight into Churn Drivers\n",
    "\n",
    "iii) Provide Strategic Recommendations\n"
   ]
  },
  {
   "cell_type": "markdown",
   "metadata": {},
   "source": [
    "## 3 Intended Audience\n",
    "\n",
    "a. Telecom Business Executives: Need insights into churn trends, retention ROI, and how churn relates to product pricing.\n",
    "\n",
    "b. Marketing & Customer Retention Teams: Need a list of high-risk customers for proactive targeting.\n",
    "\n",
    "c. Customer Experience/Call Center Managers: Want to understand which service areas such customer service calls correlate with churn."
   ]
  },
  {
   "cell_type": "code",
   "execution_count": 98,
   "metadata": {},
   "outputs": [],
   "source": [
    "# importing necessary libraries\n",
    "import warnings\n",
    "import pandas as pd\n",
    "import numpy as np\n",
    "import matplotlib.pyplot as plt\n",
    "import seaborn as sns\n",
    "from scipy.stats import randint\n",
    "from sklearn.model_selection import train_test_split, RandomizedSearchCV, cross_validate,cross_val_score, StratifiedKFold\n",
    "from sklearn.linear_model import LogisticRegression\n",
    "from sklearn.metrics import accuracy_score,precision_score, recall_score, f1_score, precision_recall_curve, precision_score, recall_score, roc_auc_score, confusion_matrix, ConfusionMatrixDisplay,make_scorer,roc_curve, auc, classification_report,average_precision_score\n",
    "from sklearn.ensemble import RandomForestClassifier\n",
    "from sklearn.tree import DecisionTreeClassifier, plot_tree\n",
    "from sklearn.preprocessing import StandardScaler\n",
    "from imblearn.over_sampling import SMOTE\n",
    "import joblib\n",
    "\n"
   ]
  },
  {
   "cell_type": "markdown",
   "metadata": {},
   "source": [
    "### 1. Loading Dataset"
   ]
  },
  {
   "cell_type": "code",
   "execution_count": 99,
   "metadata": {},
   "outputs": [
    {
     "data": {
      "application/vnd.microsoft.datawrangler.viewer.v0+json": {
       "columns": [
        {
         "name": "index",
         "rawType": "int64",
         "type": "integer"
        },
        {
         "name": "state",
         "rawType": "object",
         "type": "string"
        },
        {
         "name": "account length",
         "rawType": "int64",
         "type": "integer"
        },
        {
         "name": "area code",
         "rawType": "int64",
         "type": "integer"
        },
        {
         "name": "phone number",
         "rawType": "object",
         "type": "string"
        },
        {
         "name": "international plan",
         "rawType": "object",
         "type": "string"
        },
        {
         "name": "voice mail plan",
         "rawType": "object",
         "type": "string"
        },
        {
         "name": "number vmail messages",
         "rawType": "int64",
         "type": "integer"
        },
        {
         "name": "total day minutes",
         "rawType": "float64",
         "type": "float"
        },
        {
         "name": "total day calls",
         "rawType": "int64",
         "type": "integer"
        },
        {
         "name": "total day charge",
         "rawType": "float64",
         "type": "float"
        },
        {
         "name": "total eve minutes",
         "rawType": "float64",
         "type": "float"
        },
        {
         "name": "total eve calls",
         "rawType": "int64",
         "type": "integer"
        },
        {
         "name": "total eve charge",
         "rawType": "float64",
         "type": "float"
        },
        {
         "name": "total night minutes",
         "rawType": "float64",
         "type": "float"
        },
        {
         "name": "total night calls",
         "rawType": "int64",
         "type": "integer"
        },
        {
         "name": "total night charge",
         "rawType": "float64",
         "type": "float"
        },
        {
         "name": "total intl minutes",
         "rawType": "float64",
         "type": "float"
        },
        {
         "name": "total intl calls",
         "rawType": "int64",
         "type": "integer"
        },
        {
         "name": "total intl charge",
         "rawType": "float64",
         "type": "float"
        },
        {
         "name": "customer service calls",
         "rawType": "int64",
         "type": "integer"
        },
        {
         "name": "churn",
         "rawType": "bool",
         "type": "boolean"
        }
       ],
       "ref": "a9f90150-c8c7-48e0-8bcb-d7d55d76d186",
       "rows": [
        [
         "0",
         "KS",
         "128",
         "415",
         "382-4657",
         "no",
         "yes",
         "25",
         "265.1",
         "110",
         "45.07",
         "197.4",
         "99",
         "16.78",
         "244.7",
         "91",
         "11.01",
         "10.0",
         "3",
         "2.7",
         "1",
         "False"
        ],
        [
         "1",
         "OH",
         "107",
         "415",
         "371-7191",
         "no",
         "yes",
         "26",
         "161.6",
         "123",
         "27.47",
         "195.5",
         "103",
         "16.62",
         "254.4",
         "103",
         "11.45",
         "13.7",
         "3",
         "3.7",
         "1",
         "False"
        ],
        [
         "2",
         "NJ",
         "137",
         "415",
         "358-1921",
         "no",
         "no",
         "0",
         "243.4",
         "114",
         "41.38",
         "121.2",
         "110",
         "10.3",
         "162.6",
         "104",
         "7.32",
         "12.2",
         "5",
         "3.29",
         "0",
         "False"
        ],
        [
         "3",
         "OH",
         "84",
         "408",
         "375-9999",
         "yes",
         "no",
         "0",
         "299.4",
         "71",
         "50.9",
         "61.9",
         "88",
         "5.26",
         "196.9",
         "89",
         "8.86",
         "6.6",
         "7",
         "1.78",
         "2",
         "False"
        ],
        [
         "4",
         "OK",
         "75",
         "415",
         "330-6626",
         "yes",
         "no",
         "0",
         "166.7",
         "113",
         "28.34",
         "148.3",
         "122",
         "12.61",
         "186.9",
         "121",
         "8.41",
         "10.1",
         "3",
         "2.73",
         "3",
         "False"
        ]
       ],
       "shape": {
        "columns": 21,
        "rows": 5
       }
      },
      "text/html": [
       "<div>\n",
       "<style scoped>\n",
       "    .dataframe tbody tr th:only-of-type {\n",
       "        vertical-align: middle;\n",
       "    }\n",
       "\n",
       "    .dataframe tbody tr th {\n",
       "        vertical-align: top;\n",
       "    }\n",
       "\n",
       "    .dataframe thead th {\n",
       "        text-align: right;\n",
       "    }\n",
       "</style>\n",
       "<table border=\"1\" class=\"dataframe\">\n",
       "  <thead>\n",
       "    <tr style=\"text-align: right;\">\n",
       "      <th></th>\n",
       "      <th>state</th>\n",
       "      <th>account length</th>\n",
       "      <th>area code</th>\n",
       "      <th>phone number</th>\n",
       "      <th>international plan</th>\n",
       "      <th>voice mail plan</th>\n",
       "      <th>number vmail messages</th>\n",
       "      <th>total day minutes</th>\n",
       "      <th>total day calls</th>\n",
       "      <th>total day charge</th>\n",
       "      <th>...</th>\n",
       "      <th>total eve calls</th>\n",
       "      <th>total eve charge</th>\n",
       "      <th>total night minutes</th>\n",
       "      <th>total night calls</th>\n",
       "      <th>total night charge</th>\n",
       "      <th>total intl minutes</th>\n",
       "      <th>total intl calls</th>\n",
       "      <th>total intl charge</th>\n",
       "      <th>customer service calls</th>\n",
       "      <th>churn</th>\n",
       "    </tr>\n",
       "  </thead>\n",
       "  <tbody>\n",
       "    <tr>\n",
       "      <th>0</th>\n",
       "      <td>KS</td>\n",
       "      <td>128</td>\n",
       "      <td>415</td>\n",
       "      <td>382-4657</td>\n",
       "      <td>no</td>\n",
       "      <td>yes</td>\n",
       "      <td>25</td>\n",
       "      <td>265.1</td>\n",
       "      <td>110</td>\n",
       "      <td>45.07</td>\n",
       "      <td>...</td>\n",
       "      <td>99</td>\n",
       "      <td>16.78</td>\n",
       "      <td>244.7</td>\n",
       "      <td>91</td>\n",
       "      <td>11.01</td>\n",
       "      <td>10.0</td>\n",
       "      <td>3</td>\n",
       "      <td>2.70</td>\n",
       "      <td>1</td>\n",
       "      <td>False</td>\n",
       "    </tr>\n",
       "    <tr>\n",
       "      <th>1</th>\n",
       "      <td>OH</td>\n",
       "      <td>107</td>\n",
       "      <td>415</td>\n",
       "      <td>371-7191</td>\n",
       "      <td>no</td>\n",
       "      <td>yes</td>\n",
       "      <td>26</td>\n",
       "      <td>161.6</td>\n",
       "      <td>123</td>\n",
       "      <td>27.47</td>\n",
       "      <td>...</td>\n",
       "      <td>103</td>\n",
       "      <td>16.62</td>\n",
       "      <td>254.4</td>\n",
       "      <td>103</td>\n",
       "      <td>11.45</td>\n",
       "      <td>13.7</td>\n",
       "      <td>3</td>\n",
       "      <td>3.70</td>\n",
       "      <td>1</td>\n",
       "      <td>False</td>\n",
       "    </tr>\n",
       "    <tr>\n",
       "      <th>2</th>\n",
       "      <td>NJ</td>\n",
       "      <td>137</td>\n",
       "      <td>415</td>\n",
       "      <td>358-1921</td>\n",
       "      <td>no</td>\n",
       "      <td>no</td>\n",
       "      <td>0</td>\n",
       "      <td>243.4</td>\n",
       "      <td>114</td>\n",
       "      <td>41.38</td>\n",
       "      <td>...</td>\n",
       "      <td>110</td>\n",
       "      <td>10.30</td>\n",
       "      <td>162.6</td>\n",
       "      <td>104</td>\n",
       "      <td>7.32</td>\n",
       "      <td>12.2</td>\n",
       "      <td>5</td>\n",
       "      <td>3.29</td>\n",
       "      <td>0</td>\n",
       "      <td>False</td>\n",
       "    </tr>\n",
       "    <tr>\n",
       "      <th>3</th>\n",
       "      <td>OH</td>\n",
       "      <td>84</td>\n",
       "      <td>408</td>\n",
       "      <td>375-9999</td>\n",
       "      <td>yes</td>\n",
       "      <td>no</td>\n",
       "      <td>0</td>\n",
       "      <td>299.4</td>\n",
       "      <td>71</td>\n",
       "      <td>50.90</td>\n",
       "      <td>...</td>\n",
       "      <td>88</td>\n",
       "      <td>5.26</td>\n",
       "      <td>196.9</td>\n",
       "      <td>89</td>\n",
       "      <td>8.86</td>\n",
       "      <td>6.6</td>\n",
       "      <td>7</td>\n",
       "      <td>1.78</td>\n",
       "      <td>2</td>\n",
       "      <td>False</td>\n",
       "    </tr>\n",
       "    <tr>\n",
       "      <th>4</th>\n",
       "      <td>OK</td>\n",
       "      <td>75</td>\n",
       "      <td>415</td>\n",
       "      <td>330-6626</td>\n",
       "      <td>yes</td>\n",
       "      <td>no</td>\n",
       "      <td>0</td>\n",
       "      <td>166.7</td>\n",
       "      <td>113</td>\n",
       "      <td>28.34</td>\n",
       "      <td>...</td>\n",
       "      <td>122</td>\n",
       "      <td>12.61</td>\n",
       "      <td>186.9</td>\n",
       "      <td>121</td>\n",
       "      <td>8.41</td>\n",
       "      <td>10.1</td>\n",
       "      <td>3</td>\n",
       "      <td>2.73</td>\n",
       "      <td>3</td>\n",
       "      <td>False</td>\n",
       "    </tr>\n",
       "  </tbody>\n",
       "</table>\n",
       "<p>5 rows × 21 columns</p>\n",
       "</div>"
      ],
      "text/plain": [
       "  state  account length  area code phone number international plan  \\\n",
       "0    KS             128        415     382-4657                 no   \n",
       "1    OH             107        415     371-7191                 no   \n",
       "2    NJ             137        415     358-1921                 no   \n",
       "3    OH              84        408     375-9999                yes   \n",
       "4    OK              75        415     330-6626                yes   \n",
       "\n",
       "  voice mail plan  number vmail messages  total day minutes  total day calls  \\\n",
       "0             yes                     25              265.1              110   \n",
       "1             yes                     26              161.6              123   \n",
       "2              no                      0              243.4              114   \n",
       "3              no                      0              299.4               71   \n",
       "4              no                      0              166.7              113   \n",
       "\n",
       "   total day charge  ...  total eve calls  total eve charge  \\\n",
       "0             45.07  ...               99             16.78   \n",
       "1             27.47  ...              103             16.62   \n",
       "2             41.38  ...              110             10.30   \n",
       "3             50.90  ...               88              5.26   \n",
       "4             28.34  ...              122             12.61   \n",
       "\n",
       "   total night minutes  total night calls  total night charge  \\\n",
       "0                244.7                 91               11.01   \n",
       "1                254.4                103               11.45   \n",
       "2                162.6                104                7.32   \n",
       "3                196.9                 89                8.86   \n",
       "4                186.9                121                8.41   \n",
       "\n",
       "   total intl minutes  total intl calls  total intl charge  \\\n",
       "0                10.0                 3               2.70   \n",
       "1                13.7                 3               3.70   \n",
       "2                12.2                 5               3.29   \n",
       "3                 6.6                 7               1.78   \n",
       "4                10.1                 3               2.73   \n",
       "\n",
       "   customer service calls  churn  \n",
       "0                       1  False  \n",
       "1                       1  False  \n",
       "2                       0  False  \n",
       "3                       2  False  \n",
       "4                       3  False  \n",
       "\n",
       "[5 rows x 21 columns]"
      ]
     },
     "execution_count": 99,
     "metadata": {},
     "output_type": "execute_result"
    }
   ],
   "source": [
    "# Load the dataset\n",
    "df=pd.read_csv('Data/bigml.csv')\n",
    "df.head()"
   ]
  },
  {
   "cell_type": "markdown",
   "metadata": {},
   "source": [
    "## 2. Data Cleaning & Preprocessing"
   ]
  },
  {
   "cell_type": "markdown",
   "metadata": {},
   "source": [
    "After loading the dataset, the first step is to explore and understand its structure. This helps identify any data quality issues and guides the preprocessing steps. The .info() function is useful for checking the column names, data types, and whether there are any missing values in the dataset."
   ]
  },
  {
   "cell_type": "code",
   "execution_count": 100,
   "metadata": {},
   "outputs": [
    {
     "name": "stdout",
     "output_type": "stream",
     "text": [
      "<class 'pandas.core.frame.DataFrame'>\n",
      "RangeIndex: 3333 entries, 0 to 3332\n",
      "Data columns (total 21 columns):\n",
      " #   Column                  Non-Null Count  Dtype  \n",
      "---  ------                  --------------  -----  \n",
      " 0   state                   3333 non-null   object \n",
      " 1   account length          3333 non-null   int64  \n",
      " 2   area code               3333 non-null   int64  \n",
      " 3   phone number            3333 non-null   object \n",
      " 4   international plan      3333 non-null   object \n",
      " 5   voice mail plan         3333 non-null   object \n",
      " 6   number vmail messages   3333 non-null   int64  \n",
      " 7   total day minutes       3333 non-null   float64\n",
      " 8   total day calls         3333 non-null   int64  \n",
      " 9   total day charge        3333 non-null   float64\n",
      " 10  total eve minutes       3333 non-null   float64\n",
      " 11  total eve calls         3333 non-null   int64  \n",
      " 12  total eve charge        3333 non-null   float64\n",
      " 13  total night minutes     3333 non-null   float64\n",
      " 14  total night calls       3333 non-null   int64  \n",
      " 15  total night charge      3333 non-null   float64\n",
      " 16  total intl minutes      3333 non-null   float64\n",
      " 17  total intl calls        3333 non-null   int64  \n",
      " 18  total intl charge       3333 non-null   float64\n",
      " 19  customer service calls  3333 non-null   int64  \n",
      " 20  churn                   3333 non-null   bool   \n",
      "dtypes: bool(1), float64(8), int64(8), object(4)\n",
      "memory usage: 524.2+ KB\n"
     ]
    }
   ],
   "source": [
    "# Display basic information about the dataset\n",
    "df.info()"
   ]
  },
  {
   "cell_type": "markdown",
   "metadata": {},
   "source": [
    "From the dataset, there is a total of 21 columns with 3,333 entries and no missing values. The .info() function confirms that all columns are fully populated. The dataset contains a mix of **categorical variables** e.g., state, international plan, voice mail plan, churn and **numerical variables** e.g., total day minutes, customer service calls, account length."
   ]
  },
  {
   "cell_type": "markdown",
   "metadata": {},
   "source": [
    "#### 2.2 Checking for missing values"
   ]
  },
  {
   "cell_type": "code",
   "execution_count": 101,
   "metadata": {},
   "outputs": [
    {
     "data": {
      "application/vnd.microsoft.datawrangler.viewer.v0+json": {
       "columns": [
        {
         "name": "index",
         "rawType": "object",
         "type": "string"
        },
        {
         "name": "0",
         "rawType": "int64",
         "type": "integer"
        }
       ],
       "ref": "b2fb4273-687d-48d4-b76b-cee8cfbe2435",
       "rows": [
        [
         "state",
         "0"
        ],
        [
         "account length",
         "0"
        ],
        [
         "area code",
         "0"
        ],
        [
         "phone number",
         "0"
        ],
        [
         "international plan",
         "0"
        ],
        [
         "voice mail plan",
         "0"
        ],
        [
         "number vmail messages",
         "0"
        ],
        [
         "total day minutes",
         "0"
        ],
        [
         "total day calls",
         "0"
        ],
        [
         "total day charge",
         "0"
        ],
        [
         "total eve minutes",
         "0"
        ],
        [
         "total eve calls",
         "0"
        ],
        [
         "total eve charge",
         "0"
        ],
        [
         "total night minutes",
         "0"
        ],
        [
         "total night calls",
         "0"
        ],
        [
         "total night charge",
         "0"
        ],
        [
         "total intl minutes",
         "0"
        ],
        [
         "total intl calls",
         "0"
        ],
        [
         "total intl charge",
         "0"
        ],
        [
         "customer service calls",
         "0"
        ],
        [
         "churn",
         "0"
        ]
       ],
       "shape": {
        "columns": 1,
        "rows": 21
       }
      },
      "text/plain": [
       "state                     0\n",
       "account length            0\n",
       "area code                 0\n",
       "phone number              0\n",
       "international plan        0\n",
       "voice mail plan           0\n",
       "number vmail messages     0\n",
       "total day minutes         0\n",
       "total day calls           0\n",
       "total day charge          0\n",
       "total eve minutes         0\n",
       "total eve calls           0\n",
       "total eve charge          0\n",
       "total night minutes       0\n",
       "total night calls         0\n",
       "total night charge        0\n",
       "total intl minutes        0\n",
       "total intl calls          0\n",
       "total intl charge         0\n",
       "customer service calls    0\n",
       "churn                     0\n",
       "dtype: int64"
      ]
     },
     "execution_count": 101,
     "metadata": {},
     "output_type": "execute_result"
    }
   ],
   "source": [
    "# Check for missing values\n",
    "df.isnull().sum()"
   ]
  },
  {
   "cell_type": "markdown",
   "metadata": {},
   "source": [
    "From the table above, we observe that there are no missing values in the dataset. This eliminates the need for extensive data cleaning steps such as imputation or row removal. Therefore, we proceed directly to data preprocessing, which involves preparing the dataset for modeling. This includes steps such as encoding categorical variables, dropping irrelevant columns, handling class imbalance, and scaling features where necessary to ensure optimal model performance."
   ]
  },
  {
   "cell_type": "markdown",
   "metadata": {},
   "source": [
    "### 2.3 Dropping Columns\n",
    "At this stage, columns that do not contribute to the predictive power of the model are dropped. These may include identifiers or any other fields that are either constant or irrelevant to the target variable. Keeping such columns can introduce noise, increase the risk of overfitting, and reduce the model's overall accuracy. By removing them, we ensure the model focuses on the most informative features."
   ]
  },
  {
   "cell_type": "code",
   "execution_count": 102,
   "metadata": {},
   "outputs": [],
   "source": [
    "# Remove leading/trailing spaces from column names\n",
    "df.columns = df.columns.str.strip()\n",
    "\n",
    "# Now safely drop the columns\n",
    "df.drop(columns=['phone number', 'area code', 'state'], inplace=True)"
   ]
  },
  {
   "cell_type": "markdown",
   "metadata": {},
   "source": [
    "At this stage, initial statistical exploration is conducted using the .describe() method to summarize the central tendencies, dispersion, and shape of the distribution of numerical features in the dataset. This step provides insights into the range, mean, standard deviation, and presence of outliers, helping to identify potential data quality issues and detect early patterns that may influence customer churn. By understanding these basic statistics, we can better guide subsequent preprocessing or modeling steps."
   ]
  },
  {
   "cell_type": "markdown",
   "metadata": {},
   "source": [
    "## 2.4 Exploratory Data Analysis (EDA)"
   ]
  },
  {
   "cell_type": "markdown",
   "metadata": {},
   "source": [
    "### 2.4.1 Descriptive Analysis\n",
    "\n",
    "The .describe() function is used to generate descriptive statistics that summarize the central tendency, dispersion, and shape of a dataset’s distribution for each numerical feature"
   ]
  },
  {
   "cell_type": "code",
   "execution_count": 103,
   "metadata": {},
   "outputs": [
    {
     "data": {
      "application/vnd.microsoft.datawrangler.viewer.v0+json": {
       "columns": [
        {
         "name": "index",
         "rawType": "object",
         "type": "string"
        },
        {
         "name": "total day minutes",
         "rawType": "float64",
         "type": "float"
        },
        {
         "name": "total intl charge",
         "rawType": "float64",
         "type": "float"
        },
        {
         "name": "total day calls",
         "rawType": "float64",
         "type": "float"
        },
        {
         "name": "total eve minutes",
         "rawType": "float64",
         "type": "float"
        },
        {
         "name": "total eve calls",
         "rawType": "float64",
         "type": "float"
        },
        {
         "name": "total night minutes",
         "rawType": "float64",
         "type": "float"
        },
        {
         "name": "total night calls",
         "rawType": "float64",
         "type": "float"
        },
        {
         "name": "total intl minutes",
         "rawType": "float64",
         "type": "float"
        },
        {
         "name": "total intl calls",
         "rawType": "float64",
         "type": "float"
        },
        {
         "name": "customer service calls",
         "rawType": "float64",
         "type": "float"
        }
       ],
       "ref": "72cf1d89-288e-4a54-b2ab-eb37496ac604",
       "rows": [
        [
         "count",
         "3333.0",
         "3333.0",
         "3333.0",
         "3333.0",
         "3333.0",
         "3333.0",
         "3333.0",
         "3333.0",
         "3333.0",
         "3333.0"
        ],
        [
         "mean",
         "179.77509750975116",
         "2.764581458145804",
         "100.43564356435644",
         "200.98034803480346",
         "100.11431143114311",
         "200.87203720372048",
         "100.10771077107711",
         "10.237293729372933",
         "4.4794479447944795",
         "1.5628562856285628"
        ],
        [
         "std",
         "54.46738920237142",
         "0.7537726126630453",
         "20.069084207300854",
         "50.71384442581193",
         "19.92262529394309",
         "50.5738470136583",
         "19.568609346058615",
         "2.7918395484084204",
         "2.4612142705460887",
         "1.3154910448664843"
        ],
        [
         "min",
         "0.0",
         "0.0",
         "0.0",
         "0.0",
         "0.0",
         "23.2",
         "33.0",
         "0.0",
         "0.0",
         "0.0"
        ],
        [
         "25%",
         "143.7",
         "2.3",
         "87.0",
         "166.6",
         "87.0",
         "167.0",
         "87.0",
         "8.5",
         "3.0",
         "1.0"
        ],
        [
         "50%",
         "179.4",
         "2.78",
         "101.0",
         "201.4",
         "100.0",
         "201.2",
         "100.0",
         "10.3",
         "4.0",
         "1.0"
        ],
        [
         "75%",
         "216.4",
         "3.27",
         "114.0",
         "235.3",
         "114.0",
         "235.3",
         "113.0",
         "12.1",
         "6.0",
         "2.0"
        ],
        [
         "max",
         "350.8",
         "5.4",
         "165.0",
         "363.7",
         "170.0",
         "395.0",
         "175.0",
         "20.0",
         "20.0",
         "9.0"
        ]
       ],
       "shape": {
        "columns": 10,
        "rows": 8
       }
      },
      "text/html": [
       "<div>\n",
       "<style scoped>\n",
       "    .dataframe tbody tr th:only-of-type {\n",
       "        vertical-align: middle;\n",
       "    }\n",
       "\n",
       "    .dataframe tbody tr th {\n",
       "        vertical-align: top;\n",
       "    }\n",
       "\n",
       "    .dataframe thead th {\n",
       "        text-align: right;\n",
       "    }\n",
       "</style>\n",
       "<table border=\"1\" class=\"dataframe\">\n",
       "  <thead>\n",
       "    <tr style=\"text-align: right;\">\n",
       "      <th></th>\n",
       "      <th>total day minutes</th>\n",
       "      <th>total intl charge</th>\n",
       "      <th>total day calls</th>\n",
       "      <th>total eve minutes</th>\n",
       "      <th>total eve calls</th>\n",
       "      <th>total night minutes</th>\n",
       "      <th>total night calls</th>\n",
       "      <th>total intl minutes</th>\n",
       "      <th>total intl calls</th>\n",
       "      <th>customer service calls</th>\n",
       "    </tr>\n",
       "  </thead>\n",
       "  <tbody>\n",
       "    <tr>\n",
       "      <th>count</th>\n",
       "      <td>3333.000000</td>\n",
       "      <td>3333.000000</td>\n",
       "      <td>3333.000000</td>\n",
       "      <td>3333.000000</td>\n",
       "      <td>3333.000000</td>\n",
       "      <td>3333.000000</td>\n",
       "      <td>3333.000000</td>\n",
       "      <td>3333.000000</td>\n",
       "      <td>3333.000000</td>\n",
       "      <td>3333.000000</td>\n",
       "    </tr>\n",
       "    <tr>\n",
       "      <th>mean</th>\n",
       "      <td>179.775098</td>\n",
       "      <td>2.764581</td>\n",
       "      <td>100.435644</td>\n",
       "      <td>200.980348</td>\n",
       "      <td>100.114311</td>\n",
       "      <td>200.872037</td>\n",
       "      <td>100.107711</td>\n",
       "      <td>10.237294</td>\n",
       "      <td>4.479448</td>\n",
       "      <td>1.562856</td>\n",
       "    </tr>\n",
       "    <tr>\n",
       "      <th>std</th>\n",
       "      <td>54.467389</td>\n",
       "      <td>0.753773</td>\n",
       "      <td>20.069084</td>\n",
       "      <td>50.713844</td>\n",
       "      <td>19.922625</td>\n",
       "      <td>50.573847</td>\n",
       "      <td>19.568609</td>\n",
       "      <td>2.791840</td>\n",
       "      <td>2.461214</td>\n",
       "      <td>1.315491</td>\n",
       "    </tr>\n",
       "    <tr>\n",
       "      <th>min</th>\n",
       "      <td>0.000000</td>\n",
       "      <td>0.000000</td>\n",
       "      <td>0.000000</td>\n",
       "      <td>0.000000</td>\n",
       "      <td>0.000000</td>\n",
       "      <td>23.200000</td>\n",
       "      <td>33.000000</td>\n",
       "      <td>0.000000</td>\n",
       "      <td>0.000000</td>\n",
       "      <td>0.000000</td>\n",
       "    </tr>\n",
       "    <tr>\n",
       "      <th>25%</th>\n",
       "      <td>143.700000</td>\n",
       "      <td>2.300000</td>\n",
       "      <td>87.000000</td>\n",
       "      <td>166.600000</td>\n",
       "      <td>87.000000</td>\n",
       "      <td>167.000000</td>\n",
       "      <td>87.000000</td>\n",
       "      <td>8.500000</td>\n",
       "      <td>3.000000</td>\n",
       "      <td>1.000000</td>\n",
       "    </tr>\n",
       "    <tr>\n",
       "      <th>50%</th>\n",
       "      <td>179.400000</td>\n",
       "      <td>2.780000</td>\n",
       "      <td>101.000000</td>\n",
       "      <td>201.400000</td>\n",
       "      <td>100.000000</td>\n",
       "      <td>201.200000</td>\n",
       "      <td>100.000000</td>\n",
       "      <td>10.300000</td>\n",
       "      <td>4.000000</td>\n",
       "      <td>1.000000</td>\n",
       "    </tr>\n",
       "    <tr>\n",
       "      <th>75%</th>\n",
       "      <td>216.400000</td>\n",
       "      <td>3.270000</td>\n",
       "      <td>114.000000</td>\n",
       "      <td>235.300000</td>\n",
       "      <td>114.000000</td>\n",
       "      <td>235.300000</td>\n",
       "      <td>113.000000</td>\n",
       "      <td>12.100000</td>\n",
       "      <td>6.000000</td>\n",
       "      <td>2.000000</td>\n",
       "    </tr>\n",
       "    <tr>\n",
       "      <th>max</th>\n",
       "      <td>350.800000</td>\n",
       "      <td>5.400000</td>\n",
       "      <td>165.000000</td>\n",
       "      <td>363.700000</td>\n",
       "      <td>170.000000</td>\n",
       "      <td>395.000000</td>\n",
       "      <td>175.000000</td>\n",
       "      <td>20.000000</td>\n",
       "      <td>20.000000</td>\n",
       "      <td>9.000000</td>\n",
       "    </tr>\n",
       "  </tbody>\n",
       "</table>\n",
       "</div>"
      ],
      "text/plain": [
       "       total day minutes  total intl charge  total day calls  \\\n",
       "count        3333.000000        3333.000000      3333.000000   \n",
       "mean          179.775098           2.764581       100.435644   \n",
       "std            54.467389           0.753773        20.069084   \n",
       "min             0.000000           0.000000         0.000000   \n",
       "25%           143.700000           2.300000        87.000000   \n",
       "50%           179.400000           2.780000       101.000000   \n",
       "75%           216.400000           3.270000       114.000000   \n",
       "max           350.800000           5.400000       165.000000   \n",
       "\n",
       "       total eve minutes  total eve calls  total night minutes  \\\n",
       "count        3333.000000      3333.000000          3333.000000   \n",
       "mean          200.980348       100.114311           200.872037   \n",
       "std            50.713844        19.922625            50.573847   \n",
       "min             0.000000         0.000000            23.200000   \n",
       "25%           166.600000        87.000000           167.000000   \n",
       "50%           201.400000       100.000000           201.200000   \n",
       "75%           235.300000       114.000000           235.300000   \n",
       "max           363.700000       170.000000           395.000000   \n",
       "\n",
       "       total night calls  total intl minutes  total intl calls  \\\n",
       "count        3333.000000         3333.000000       3333.000000   \n",
       "mean          100.107711           10.237294          4.479448   \n",
       "std            19.568609            2.791840          2.461214   \n",
       "min            33.000000            0.000000          0.000000   \n",
       "25%            87.000000            8.500000          3.000000   \n",
       "50%           100.000000           10.300000          4.000000   \n",
       "75%           113.000000           12.100000          6.000000   \n",
       "max           175.000000           20.000000         20.000000   \n",
       "\n",
       "       customer service calls  \n",
       "count             3333.000000  \n",
       "mean                 1.562856  \n",
       "std                  1.315491  \n",
       "min                  0.000000  \n",
       "25%                  1.000000  \n",
       "50%                  1.000000  \n",
       "75%                  2.000000  \n",
       "max                  9.000000  "
      ]
     },
     "execution_count": 103,
     "metadata": {},
     "output_type": "execute_result"
    }
   ],
   "source": [
    "# descriptive statistics for numerical columns\n",
    "df_numerical=df[['total day minutes', 'total intl charge', 'total day calls', 'total eve minutes', 'total eve calls', 'total night minutes', 'total night calls', 'total intl minutes', 'total intl calls', 'customer service calls']]\n",
    "df_numerical.describe()"
   ]
  },
  {
   "cell_type": "markdown",
   "metadata": {},
   "source": [
    "### 2.4.2 Checking and Handling Class Imbalance \n",
    "\n",
    "Before training a model, it's important to check if the dataset is imbalanced — that is, whether one class dominates the other.A highly imbalanced dataset can cause the model to be biased toward the majority class, leading to poor performance on the minority class "
   ]
  },
  {
   "cell_type": "code",
   "execution_count": 104,
   "metadata": {},
   "outputs": [
    {
     "data": {
      "image/png": "[encoded data removed]",
      "text/plain": [
       "<Figure size 360x360 with 1 Axes>"
      ]
     },
     "metadata": {
      "needs_background": "light"
     },
     "output_type": "display_data"
    },
    {
     "name": "stdout",
     "output_type": "stream",
     "text": [
      "False    0.855086\n",
      "True     0.144914\n",
      "Name: churn, dtype: float64\n"
     ]
    }
   ],
   "source": [
    "# Check for class imbalance in the target variable 'churn'\n",
    "# plotting the distribution of the target variable 'churn'\n",
    "plt.figure(figsize=(5, 5))\n",
    "sns.countplot(x='churn', data=df)\n",
    "plt.title('Churn Class Distribution')\n",
    "plt.show()\n",
    "\n",
    "print(df['churn'].value_counts(normalize=True))"
   ]
  },
  {
   "cell_type": "markdown",
   "metadata": {},
   "source": [
    "From the plot above, 85.5% of customers did not churn, while only 14.5% did churn. This indicates a class imbalance in the dataset, which may require special handling during model training to ensure the minority class (churners) is not overlooked."
   ]
  },
  {
   "cell_type": "markdown",
   "metadata": {},
   "source": [
    "### 2.4.3 Encode Categorical Variables\n",
    "\n",
    "To prepare the dataset for modeling, categorical variables need to be converted into numeric format.\n",
    "\n",
    "a) Binary Categories\n",
    "Columns: international plan, voice mail plan\n",
    "Values: 'yes', 'no'\n",
    "\n",
    "These binary categories can be easily encoded by mapping 'yes' to 1 and 'no' to 0."
   ]
  },
  {
   "cell_type": "code",
   "execution_count": 105,
   "metadata": {},
   "outputs": [],
   "source": [
    "# Encode categorical variables\n",
    "df['international plan'] = df['international plan'].map({'yes': 1, 'no': 0})\n",
    "df['voice mail plan'] = df['voice mail plan'].map({'yes': 1, 'no': 0})\n",
    "df['churn'] = df['churn'].astype(int)\n",
    "\n",
    "\n"
   ]
  },
  {
   "cell_type": "code",
   "execution_count": 106,
   "metadata": {},
   "outputs": [
    {
     "data": {
      "application/vnd.microsoft.datawrangler.viewer.v0+json": {
       "columns": [
        {
         "name": "index",
         "rawType": "int64",
         "type": "integer"
        },
        {
         "name": "account length",
         "rawType": "int64",
         "type": "integer"
        },
        {
         "name": "international plan",
         "rawType": "int64",
         "type": "integer"
        },
        {
         "name": "voice mail plan",
         "rawType": "int64",
         "type": "integer"
        },
        {
         "name": "number vmail messages",
         "rawType": "int64",
         "type": "integer"
        },
        {
         "name": "total day minutes",
         "rawType": "float64",
         "type": "float"
        },
        {
         "name": "total day calls",
         "rawType": "int64",
         "type": "integer"
        },
        {
         "name": "total day charge",
         "rawType": "float64",
         "type": "float"
        },
        {
         "name": "total eve minutes",
         "rawType": "float64",
         "type": "float"
        },
        {
         "name": "total eve calls",
         "rawType": "int64",
         "type": "integer"
        },
        {
         "name": "total eve charge",
         "rawType": "float64",
         "type": "float"
        },
        {
         "name": "total night minutes",
         "rawType": "float64",
         "type": "float"
        },
        {
         "name": "total night calls",
         "rawType": "int64",
         "type": "integer"
        },
        {
         "name": "total night charge",
         "rawType": "float64",
         "type": "float"
        },
        {
         "name": "total intl minutes",
         "rawType": "float64",
         "type": "float"
        },
        {
         "name": "total intl calls",
         "rawType": "int64",
         "type": "integer"
        },
        {
         "name": "total intl charge",
         "rawType": "float64",
         "type": "float"
        },
        {
         "name": "customer service calls",
         "rawType": "int64",
         "type": "integer"
        },
        {
         "name": "churn",
         "rawType": "int32",
         "type": "integer"
        }
       ],
       "ref": "b2923a31-3085-4517-b0bf-77e8dc5a1c73",
       "rows": [
        [
         "0",
         "128",
         "0",
         "1",
         "25",
         "265.1",
         "110",
         "45.07",
         "197.4",
         "99",
         "16.78",
         "244.7",
         "91",
         "11.01",
         "10.0",
         "3",
         "2.7",
         "1",
         "0"
        ],
        [
         "1",
         "107",
         "0",
         "1",
         "26",
         "161.6",
         "123",
         "27.47",
         "195.5",
         "103",
         "16.62",
         "254.4",
         "103",
         "11.45",
         "13.7",
         "3",
         "3.7",
         "1",
         "0"
        ],
        [
         "2",
         "137",
         "0",
         "0",
         "0",
         "243.4",
         "114",
         "41.38",
         "121.2",
         "110",
         "10.3",
         "162.6",
         "104",
         "7.32",
         "12.2",
         "5",
         "3.29",
         "0",
         "0"
        ],
        [
         "3",
         "84",
         "1",
         "0",
         "0",
         "299.4",
         "71",
         "50.9",
         "61.9",
         "88",
         "5.26",
         "196.9",
         "89",
         "8.86",
         "6.6",
         "7",
         "1.78",
         "2",
         "0"
        ],
        [
         "4",
         "75",
         "1",
         "0",
         "0",
         "166.7",
         "113",
         "28.34",
         "148.3",
         "122",
         "12.61",
         "186.9",
         "121",
         "8.41",
         "10.1",
         "3",
         "2.73",
         "3",
         "0"
        ]
       ],
       "shape": {
        "columns": 18,
        "rows": 5
       }
      },
      "text/html": [
       "<div>\n",
       "<style scoped>\n",
       "    .dataframe tbody tr th:only-of-type {\n",
       "        vertical-align: middle;\n",
       "    }\n",
       "\n",
       "    .dataframe tbody tr th {\n",
       "        vertical-align: top;\n",
       "    }\n",
       "\n",
       "    .dataframe thead th {\n",
       "        text-align: right;\n",
       "    }\n",
       "</style>\n",
       "<table border=\"1\" class=\"dataframe\">\n",
       "  <thead>\n",
       "    <tr style=\"text-align: right;\">\n",
       "      <th></th>\n",
       "      <th>account length</th>\n",
       "      <th>international plan</th>\n",
       "      <th>voice mail plan</th>\n",
       "      <th>number vmail messages</th>\n",
       "      <th>total day minutes</th>\n",
       "      <th>total day calls</th>\n",
       "      <th>total day charge</th>\n",
       "      <th>total eve minutes</th>\n",
       "      <th>total eve calls</th>\n",
       "      <th>total eve charge</th>\n",
       "      <th>total night minutes</th>\n",
       "      <th>total night calls</th>\n",
       "      <th>total night charge</th>\n",
       "      <th>total intl minutes</th>\n",
       "      <th>total intl calls</th>\n",
       "      <th>total intl charge</th>\n",
       "      <th>customer service calls</th>\n",
       "      <th>churn</th>\n",
       "    </tr>\n",
       "  </thead>\n",
       "  <tbody>\n",
       "    <tr>\n",
       "      <th>0</th>\n",
       "      <td>128</td>\n",
       "      <td>0</td>\n",
       "      <td>1</td>\n",
       "      <td>25</td>\n",
       "      <td>265.1</td>\n",
       "      <td>110</td>\n",
       "      <td>45.07</td>\n",
       "      <td>197.4</td>\n",
       "      <td>99</td>\n",
       "      <td>16.78</td>\n",
       "      <td>244.7</td>\n",
       "      <td>91</td>\n",
       "      <td>11.01</td>\n",
       "      <td>10.0</td>\n",
       "      <td>3</td>\n",
       "      <td>2.70</td>\n",
       "      <td>1</td>\n",
       "      <td>0</td>\n",
       "    </tr>\n",
       "    <tr>\n",
       "      <th>1</th>\n",
       "      <td>107</td>\n",
       "      <td>0</td>\n",
       "      <td>1</td>\n",
       "      <td>26</td>\n",
       "      <td>161.6</td>\n",
       "      <td>123</td>\n",
       "      <td>27.47</td>\n",
       "      <td>195.5</td>\n",
       "      <td>103</td>\n",
       "      <td>16.62</td>\n",
       "      <td>254.4</td>\n",
       "      <td>103</td>\n",
       "      <td>11.45</td>\n",
       "      <td>13.7</td>\n",
       "      <td>3</td>\n",
       "      <td>3.70</td>\n",
       "      <td>1</td>\n",
       "      <td>0</td>\n",
       "    </tr>\n",
       "    <tr>\n",
       "      <th>2</th>\n",
       "      <td>137</td>\n",
       "      <td>0</td>\n",
       "      <td>0</td>\n",
       "      <td>0</td>\n",
       "      <td>243.4</td>\n",
       "      <td>114</td>\n",
       "      <td>41.38</td>\n",
       "      <td>121.2</td>\n",
       "      <td>110</td>\n",
       "      <td>10.30</td>\n",
       "      <td>162.6</td>\n",
       "      <td>104</td>\n",
       "      <td>7.32</td>\n",
       "      <td>12.2</td>\n",
       "      <td>5</td>\n",
       "      <td>3.29</td>\n",
       "      <td>0</td>\n",
       "      <td>0</td>\n",
       "    </tr>\n",
       "    <tr>\n",
       "      <th>3</th>\n",
       "      <td>84</td>\n",
       "      <td>1</td>\n",
       "      <td>0</td>\n",
       "      <td>0</td>\n",
       "      <td>299.4</td>\n",
       "      <td>71</td>\n",
       "      <td>50.90</td>\n",
       "      <td>61.9</td>\n",
       "      <td>88</td>\n",
       "      <td>5.26</td>\n",
       "      <td>196.9</td>\n",
       "      <td>89</td>\n",
       "      <td>8.86</td>\n",
       "      <td>6.6</td>\n",
       "      <td>7</td>\n",
       "      <td>1.78</td>\n",
       "      <td>2</td>\n",
       "      <td>0</td>\n",
       "    </tr>\n",
       "    <tr>\n",
       "      <th>4</th>\n",
       "      <td>75</td>\n",
       "      <td>1</td>\n",
       "      <td>0</td>\n",
       "      <td>0</td>\n",
       "      <td>166.7</td>\n",
       "      <td>113</td>\n",
       "      <td>28.34</td>\n",
       "      <td>148.3</td>\n",
       "      <td>122</td>\n",
       "      <td>12.61</td>\n",
       "      <td>186.9</td>\n",
       "      <td>121</td>\n",
       "      <td>8.41</td>\n",
       "      <td>10.1</td>\n",
       "      <td>3</td>\n",
       "      <td>2.73</td>\n",
       "      <td>3</td>\n",
       "      <td>0</td>\n",
       "    </tr>\n",
       "  </tbody>\n",
       "</table>\n",
       "</div>"
      ],
      "text/plain": [
       "   account length  international plan  voice mail plan  number vmail messages  \\\n",
       "0             128                   0                1                     25   \n",
       "1             107                   0                1                     26   \n",
       "2             137                   0                0                      0   \n",
       "3              84                   1                0                      0   \n",
       "4              75                   1                0                      0   \n",
       "\n",
       "   total day minutes  total day calls  total day charge  total eve minutes  \\\n",
       "0              265.1              110             45.07              197.4   \n",
       "1              161.6              123             27.47              195.5   \n",
       "2              243.4              114             41.38              121.2   \n",
       "3              299.4               71             50.90               61.9   \n",
       "4              166.7              113             28.34              148.3   \n",
       "\n",
       "   total eve calls  total eve charge  total night minutes  total night calls  \\\n",
       "0               99             16.78                244.7                 91   \n",
       "1              103             16.62                254.4                103   \n",
       "2              110             10.30                162.6                104   \n",
       "3               88              5.26                196.9                 89   \n",
       "4              122             12.61                186.9                121   \n",
       "\n",
       "   total night charge  total intl minutes  total intl calls  \\\n",
       "0               11.01                10.0                 3   \n",
       "1               11.45                13.7                 3   \n",
       "2                7.32                12.2                 5   \n",
       "3                8.86                 6.6                 7   \n",
       "4                8.41                10.1                 3   \n",
       "\n",
       "   total intl charge  customer service calls  churn  \n",
       "0               2.70                       1      0  \n",
       "1               3.70                       1      0  \n",
       "2               3.29                       0      0  \n",
       "3               1.78                       2      0  \n",
       "4               2.73                       3      0  "
      ]
     },
     "execution_count": 106,
     "metadata": {},
     "output_type": "execute_result"
    }
   ],
   "source": [
    "# display the first few rows of the encoded categorical variables\n",
    "df.head()"
   ]
  },
  {
   "cell_type": "markdown",
   "metadata": {},
   "source": [
    "### 2.4.4 One Hot Encoding\n",
    "\n",
    "Performing one-hot encoding on categorical columns such as international plan & voice mail plan allows us to convert these non-numeric features into a numerical format suitable for machine learning models."
   ]
  },
  {
   "cell_type": "code",
   "execution_count": 107,
   "metadata": {},
   "outputs": [
    {
     "data": {
      "application/vnd.microsoft.datawrangler.viewer.v0+json": {
       "columns": [
        {
         "name": "index",
         "rawType": "int64",
         "type": "integer"
        },
        {
         "name": "account length",
         "rawType": "int64",
         "type": "integer"
        },
        {
         "name": "number vmail messages",
         "rawType": "int64",
         "type": "integer"
        },
        {
         "name": "total day minutes",
         "rawType": "float64",
         "type": "float"
        },
        {
         "name": "total day calls",
         "rawType": "int64",
         "type": "integer"
        },
        {
         "name": "total day charge",
         "rawType": "float64",
         "type": "float"
        },
        {
         "name": "total eve minutes",
         "rawType": "float64",
         "type": "float"
        },
        {
         "name": "total eve calls",
         "rawType": "int64",
         "type": "integer"
        },
        {
         "name": "total eve charge",
         "rawType": "float64",
         "type": "float"
        },
        {
         "name": "total night minutes",
         "rawType": "float64",
         "type": "float"
        },
        {
         "name": "total night calls",
         "rawType": "int64",
         "type": "integer"
        },
        {
         "name": "total night charge",
         "rawType": "float64",
         "type": "float"
        },
        {
         "name": "total intl minutes",
         "rawType": "float64",
         "type": "float"
        },
        {
         "name": "total intl calls",
         "rawType": "int64",
         "type": "integer"
        },
        {
         "name": "total intl charge",
         "rawType": "float64",
         "type": "float"
        },
        {
         "name": "customer service calls",
         "rawType": "int64",
         "type": "integer"
        },
        {
         "name": "churn",
         "rawType": "int32",
         "type": "integer"
        },
        {
         "name": "international plan_1",
         "rawType": "uint8",
         "type": "integer"
        },
        {
         "name": "voice mail plan_1",
         "rawType": "uint8",
         "type": "integer"
        }
       ],
       "ref": "eb01ca40-865c-4957-96d6-c6fe3ba482a5",
       "rows": [
        [
         "0",
         "128",
         "25",
         "265.1",
         "110",
         "45.07",
         "197.4",
         "99",
         "16.78",
         "244.7",
         "91",
         "11.01",
         "10.0",
         "3",
         "2.7",
         "1",
         "0",
         "0",
         "1"
        ],
        [
         "1",
         "107",
         "26",
         "161.6",
         "123",
         "27.47",
         "195.5",
         "103",
         "16.62",
         "254.4",
         "103",
         "11.45",
         "13.7",
         "3",
         "3.7",
         "1",
         "0",
         "0",
         "1"
        ],
        [
         "2",
         "137",
         "0",
         "243.4",
         "114",
         "41.38",
         "121.2",
         "110",
         "10.3",
         "162.6",
         "104",
         "7.32",
         "12.2",
         "5",
         "3.29",
         "0",
         "0",
         "0",
         "0"
        ],
        [
         "3",
         "84",
         "0",
         "299.4",
         "71",
         "50.9",
         "61.9",
         "88",
         "5.26",
         "196.9",
         "89",
         "8.86",
         "6.6",
         "7",
         "1.78",
         "2",
         "0",
         "1",
         "0"
        ],
        [
         "4",
         "75",
         "0",
         "166.7",
         "113",
         "28.34",
         "148.3",
         "122",
         "12.61",
         "186.9",
         "121",
         "8.41",
         "10.1",
         "3",
         "2.73",
         "3",
         "0",
         "1",
         "0"
        ]
       ],
       "shape": {
        "columns": 18,
        "rows": 5
       }
      },
      "text/html": [
       "<div>\n",
       "<style scoped>\n",
       "    .dataframe tbody tr th:only-of-type {\n",
       "        vertical-align: middle;\n",
       "    }\n",
       "\n",
       "    .dataframe tbody tr th {\n",
       "        vertical-align: top;\n",
       "    }\n",
       "\n",
       "    .dataframe thead th {\n",
       "        text-align: right;\n",
       "    }\n",
       "</style>\n",
       "<table border=\"1\" class=\"dataframe\">\n",
       "  <thead>\n",
       "    <tr style=\"text-align: right;\">\n",
       "      <th></th>\n",
       "      <th>account length</th>\n",
       "      <th>number vmail messages</th>\n",
       "      <th>total day minutes</th>\n",
       "      <th>total day calls</th>\n",
       "      <th>total day charge</th>\n",
       "      <th>total eve minutes</th>\n",
       "      <th>total eve calls</th>\n",
       "      <th>total eve charge</th>\n",
       "      <th>total night minutes</th>\n",
       "      <th>total night calls</th>\n",
       "      <th>total night charge</th>\n",
       "      <th>total intl minutes</th>\n",
       "      <th>total intl calls</th>\n",
       "      <th>total intl charge</th>\n",
       "      <th>customer service calls</th>\n",
       "      <th>churn</th>\n",
       "      <th>international plan_1</th>\n",
       "      <th>voice mail plan_1</th>\n",
       "    </tr>\n",
       "  </thead>\n",
       "  <tbody>\n",
       "    <tr>\n",
       "      <th>0</th>\n",
       "      <td>128</td>\n",
       "      <td>25</td>\n",
       "      <td>265.1</td>\n",
       "      <td>110</td>\n",
       "      <td>45.07</td>\n",
       "      <td>197.4</td>\n",
       "      <td>99</td>\n",
       "      <td>16.78</td>\n",
       "      <td>244.7</td>\n",
       "      <td>91</td>\n",
       "      <td>11.01</td>\n",
       "      <td>10.0</td>\n",
       "      <td>3</td>\n",
       "      <td>2.70</td>\n",
       "      <td>1</td>\n",
       "      <td>0</td>\n",
       "      <td>0</td>\n",
       "      <td>1</td>\n",
       "    </tr>\n",
       "    <tr>\n",
       "      <th>1</th>\n",
       "      <td>107</td>\n",
       "      <td>26</td>\n",
       "      <td>161.6</td>\n",
       "      <td>123</td>\n",
       "      <td>27.47</td>\n",
       "      <td>195.5</td>\n",
       "      <td>103</td>\n",
       "      <td>16.62</td>\n",
       "      <td>254.4</td>\n",
       "      <td>103</td>\n",
       "      <td>11.45</td>\n",
       "      <td>13.7</td>\n",
       "      <td>3</td>\n",
       "      <td>3.70</td>\n",
       "      <td>1</td>\n",
       "      <td>0</td>\n",
       "      <td>0</td>\n",
       "      <td>1</td>\n",
       "    </tr>\n",
       "    <tr>\n",
       "      <th>2</th>\n",
       "      <td>137</td>\n",
       "      <td>0</td>\n",
       "      <td>243.4</td>\n",
       "      <td>114</td>\n",
       "      <td>41.38</td>\n",
       "      <td>121.2</td>\n",
       "      <td>110</td>\n",
       "      <td>10.30</td>\n",
       "      <td>162.6</td>\n",
       "      <td>104</td>\n",
       "      <td>7.32</td>\n",
       "      <td>12.2</td>\n",
       "      <td>5</td>\n",
       "      <td>3.29</td>\n",
       "      <td>0</td>\n",
       "      <td>0</td>\n",
       "      <td>0</td>\n",
       "      <td>0</td>\n",
       "    </tr>\n",
       "    <tr>\n",
       "      <th>3</th>\n",
       "      <td>84</td>\n",
       "      <td>0</td>\n",
       "      <td>299.4</td>\n",
       "      <td>71</td>\n",
       "      <td>50.90</td>\n",
       "      <td>61.9</td>\n",
       "      <td>88</td>\n",
       "      <td>5.26</td>\n",
       "      <td>196.9</td>\n",
       "      <td>89</td>\n",
       "      <td>8.86</td>\n",
       "      <td>6.6</td>\n",
       "      <td>7</td>\n",
       "      <td>1.78</td>\n",
       "      <td>2</td>\n",
       "      <td>0</td>\n",
       "      <td>1</td>\n",
       "      <td>0</td>\n",
       "    </tr>\n",
       "    <tr>\n",
       "      <th>4</th>\n",
       "      <td>75</td>\n",
       "      <td>0</td>\n",
       "      <td>166.7</td>\n",
       "      <td>113</td>\n",
       "      <td>28.34</td>\n",
       "      <td>148.3</td>\n",
       "      <td>122</td>\n",
       "      <td>12.61</td>\n",
       "      <td>186.9</td>\n",
       "      <td>121</td>\n",
       "      <td>8.41</td>\n",
       "      <td>10.1</td>\n",
       "      <td>3</td>\n",
       "      <td>2.73</td>\n",
       "      <td>3</td>\n",
       "      <td>0</td>\n",
       "      <td>1</td>\n",
       "      <td>0</td>\n",
       "    </tr>\n",
       "  </tbody>\n",
       "</table>\n",
       "</div>"
      ],
      "text/plain": [
       "   account length  number vmail messages  total day minutes  total day calls  \\\n",
       "0             128                     25              265.1              110   \n",
       "1             107                     26              161.6              123   \n",
       "2             137                      0              243.4              114   \n",
       "3              84                      0              299.4               71   \n",
       "4              75                      0              166.7              113   \n",
       "\n",
       "   total day charge  total eve minutes  total eve calls  total eve charge  \\\n",
       "0             45.07              197.4               99             16.78   \n",
       "1             27.47              195.5              103             16.62   \n",
       "2             41.38              121.2              110             10.30   \n",
       "3             50.90               61.9               88              5.26   \n",
       "4             28.34              148.3              122             12.61   \n",
       "\n",
       "   total night minutes  total night calls  total night charge  \\\n",
       "0                244.7                 91               11.01   \n",
       "1                254.4                103               11.45   \n",
       "2                162.6                104                7.32   \n",
       "3                196.9                 89                8.86   \n",
       "4                186.9                121                8.41   \n",
       "\n",
       "   total intl minutes  total intl calls  total intl charge  \\\n",
       "0                10.0                 3               2.70   \n",
       "1                13.7                 3               3.70   \n",
       "2                12.2                 5               3.29   \n",
       "3                 6.6                 7               1.78   \n",
       "4                10.1                 3               2.73   \n",
       "\n",
       "   customer service calls  churn  international plan_1  voice mail plan_1  \n",
       "0                       1      0                     0                  1  \n",
       "1                       1      0                     0                  1  \n",
       "2                       0      0                     0                  0  \n",
       "3                       2      0                     1                  0  \n",
       "4                       3      0                     1                  0  "
      ]
     },
     "execution_count": 107,
     "metadata": {},
     "output_type": "execute_result"
    }
   ],
   "source": [
    "# one hot encoding for categorical variables\n",
    "df_enconded = pd.get_dummies(df, columns=['international plan', 'voice mail plan'], drop_first=True)\n",
    "df_enconded.head()"
   ]
  },
  {
   "cell_type": "markdown",
   "metadata": {},
   "source": [
    "### 2.4.5 Checking Correlation\n",
    "\n",
    "Checking correlation is a fundamental step in exploratory data analysis to understand the strength and direction of linear relationships between numerical variables."
   ]
  },
  {
   "cell_type": "code",
   "execution_count": 108,
   "metadata": {},
   "outputs": [
    {
     "data": {
      "image/png": "[encoded data removed]",
      "text/plain": [
       "<Figure size 720x432 with 2 Axes>"
      ]
     },
     "metadata": {
      "needs_background": "light"
     },
     "output_type": "display_data"
    }
   ],
   "source": [
    "# correlation between  churn and other features\n",
    "plt.figure(figsize=(10, 6))\n",
    "sns.heatmap(df_enconded.corr(), annot=True, cmap='coolwarm', fmt='.2f', linewidths=0.5)\n",
    "plt.title('Correlation Heatmap of both Numerical & Categorical Features')\n",
    "plt.show()"
   ]
  },
  {
   "cell_type": "markdown",
   "metadata": {},
   "source": [
    "From the heatmap above, it can be observed that international_plan_Yes has the highest positive correlation with churn (0.26), indicating that customers subscribed to the international plan are more likely to churn—though the relationship is still considered weak. This is followed by customer service calls, total day charge, and total day minutes, each showing a correlation of approximately 0.21 with churn.\n",
    "\n",
    "All other features exhibit very weak correlations, ranging between -0.02 and 0.09, suggesting no strong linear relationship with churn and reducing concerns about multicollinearity among the  variables."
   ]
  },
  {
   "cell_type": "code",
   "execution_count": 109,
   "metadata": {},
   "outputs": [
    {
     "data": {
      "image/png": "[encoded data removed]",
      "text/plain": [
       "<Figure size 576x360 with 1 Axes>"
      ]
     },
     "metadata": {
      "needs_background": "light"
     },
     "output_type": "display_data"
    }
   ],
   "source": [
    "# Box plot of total day charge by churn status\n",
    "plt.figure(figsize=(8, 5))\n",
    "sns.boxplot(data=df_enconded, x='churn', y='total day charge', palette='coolwarm')\n",
    "plt.title('total day charge by Churn Status')\n",
    "plt.xlabel('Churn (0 = not churn, 1 = churn)')\n",
    "plt.ylabel('total day charge')\n",
    "plt.xticks(ticks=[0, 1], labels=['Not churn', 'Churn'])\n",
    "plt.show()"
   ]
  },
  {
   "cell_type": "markdown",
   "metadata": {},
   "source": [
    "From the box plot above, it is evident that customers who churned tend to have a higher median total day charge compared to those who did not churn. This suggests that higher daytime usage — and consequently higher charges — may be associated with an increased likelihood of churn. It could indicate that high-usage customers may feel they are not receiving sufficient value for money, or they may be more sensitive to pricing and therefore more likely to explore alternative service providers."
   ]
  },
  {
   "cell_type": "markdown",
   "metadata": {},
   "source": [
    "# 3.0 Modelling "
   ]
  },
  {
   "cell_type": "markdown",
   "metadata": {},
   "source": [
    "### 3.1 Splitting the Data\n",
    "\n",
    "To build a reliable churn prediction model, the dataset is divided into training and testing subsets. This allows the model to learn patterns from historical data and then be evaluated on unseen data to assess its performance."
   ]
  },
  {
   "cell_type": "code",
   "execution_count": 110,
   "metadata": {},
   "outputs": [],
   "source": [
    "# Split the dataset into features and target variable\n",
    "X = df_enconded.drop(columns=['churn'])\n",
    "y= df_enconded['churn']\n",
    "# Split the dataset into training and testing sets\n",
    "X_train, X_test, y_train, y_test = train_test_split(X, y,test_size=0.3,random_state=42, stratify=y)"
   ]
  },
  {
   "cell_type": "code",
   "execution_count": 111,
   "metadata": {},
   "outputs": [],
   "source": [
    "# Identify Categorical & Numerical Columns\n",
    "# Categorical columns are assumed to be binary after one-hot encoding (values: 0 or 1)\n",
    "categorical_cols = [col for col in X_train.columns if X_train[col].nunique() == 2 and set(X_train[col].unique()).issubset({0, 1})]\n",
    "numerical_cols = [col for col in X_train.columns if col not in categorical_cols]"
   ]
  },
  {
   "cell_type": "markdown",
   "metadata": {},
   "source": [
    "### 3.2 Feature Scaling\n",
    "\n",
    "Feature scaling is an essential preprocessing step in machine learning that ensures all numerical features contribute equally to the model’s learning process. This is especially important for distance-based or regularization-sensitive algorithms"
   ]
  },
  {
   "cell_type": "code",
   "execution_count": 112,
   "metadata": {},
   "outputs": [],
   "source": [
    "scaler = StandardScaler()\n",
    "\n",
    "X_train_scaled_num = scaler.fit_transform(X_train[numerical_cols])\n",
    "X_test_scaled_num = scaler.transform(X_test[numerical_cols])"
   ]
  },
  {
   "cell_type": "code",
   "execution_count": 113,
   "metadata": {},
   "outputs": [],
   "source": [
    "# Convert back to DataFrame to retain column names\n",
    "X_train_scaled_num_df = pd.DataFrame(X_train_scaled_num, columns=numerical_cols, index=X_train.index)\n",
    "X_test_scaled_num_df = pd.DataFrame(X_test_scaled_num, columns=numerical_cols, index=X_test.index)\n",
    "\n",
    "# 5. Concatenate Scaled Numerics + Categorical Columns\n",
    "# This step combines the scaled numerical features with the original categorical features, ensuring that all features are ready for modeling.\n",
    "X_train_prepared = pd.concat([X_train_scaled_num_df, X_train[categorical_cols]], axis=1)\n",
    "X_test_prepared = pd.concat([X_test_scaled_num_df, X_test[categorical_cols]], axis=1)"
   ]
  },
  {
   "cell_type": "markdown",
   "metadata": {},
   "source": [
    "### 3.3 Handling Class Imbalance using SMOTE\n",
    "\n",
    "To address the imbalance between churned and non-churned customers in the training dataset, SMOTE is applied. SMOTE works by generating synthetic samples for the minority class (churn = 1), allowing the model to better learn the patterns associated with customer churn without simply duplicating existing records."
   ]
  },
  {
   "cell_type": "code",
   "execution_count": 114,
   "metadata": {},
   "outputs": [
    {
     "name": "stdout",
     "output_type": "stream",
     "text": [
      "0    0.5\n",
      "1    0.5\n",
      "Name: churn, dtype: float64\n"
     ]
    }
   ],
   "source": [
    "smote= SMOTE(sampling_strategy='auto', random_state=42)\n",
    "X_train_resampled, y_train_resampled = smote.fit_resample(X_train_prepared, y_train)\n",
    "# Check the class distribution after resampling\n",
    "print(y_train_resampled.value_counts(normalize=True))\n",
    "\n"
   ]
  },
  {
   "cell_type": "markdown",
   "metadata": {},
   "source": [
    "The results indicate that the target variable, churn, is now perfectly balanced in the resampled training dataset. Specifically, 50% of the samples represent customers who did not churn (class 0), while the remaining 50% represent those who did churn (class 1).\n",
    "\n",
    "This balance is significant because, prior to applying SMOTE, the dataset suffered from class imbalance—where churned customers formed a smaller portion of the data. Such imbalance can lead to biased models that are more accurate in predicting the majority class but perform poorly in identifying churners."
   ]
  },
  {
   "cell_type": "markdown",
   "metadata": {},
   "source": [
    "### 3.4 Train Logistic Regression Model\n",
    "\n",
    "After handling class imbalance with SMOTE and scaling the numerical features, we proceed to train a Logistic Regression model. Logistic Regression is a widely used classification algorithm that estimates the probability of a binary outcome — in this case, whether a customer will churn or not. This step involves fitting the model on the resampled training data and evaluating its performance on the test set to assess its predictive power."
   ]
  },
  {
   "cell_type": "code",
   "execution_count": 115,
   "metadata": {},
   "outputs": [
    {
     "data": {
      "text/html": [
       "<style>#sk-container-id-3 {color: black;background-color: white;}#sk-container-id-3 pre{padding: 0;}#sk-container-id-3 div.sk-toggleable {background-color: white;}#sk-container-id-3 label.sk-toggleable__label {cursor: pointer;display: block;width: 100%;margin-bottom: 0;padding: 0.3em;box-sizing: border-box;text-align: center;}#sk-container-id-3 label.sk-toggleable__label-arrow:before {content: \"▸\";float: left;margin-right: 0.25em;color: #696969;}#sk-container-id-3 label.sk-toggleable__label-arrow:hover:before {color: black;}#sk-container-id-3 div.sk-estimator:hover label.sk-toggleable__label-arrow:before {color: black;}#sk-container-id-3 div.sk-toggleable__content {max-height: 0;max-width: 0;overflow: hidden;text-align: left;background-color: #f0f8ff;}#sk-container-id-3 div.sk-toggleable__content pre {margin: 0.2em;color: black;border-radius: 0.25em;background-color: #f0f8ff;}#sk-container-id-3 input.sk-toggleable__control:checked~div.sk-toggleable__content {max-height: 200px;max-width: 100%;overflow: auto;}#sk-container-id-3 input.sk-toggleable__control:checked~label.sk-toggleable__label-arrow:before {content: \"▾\";}#sk-container-id-3 div.sk-estimator input.sk-toggleable__control:checked~label.sk-toggleable__label {background-color: #d4ebff;}#sk-container-id-3 div.sk-label input.sk-toggleable__control:checked~label.sk-toggleable__label {background-color: #d4ebff;}#sk-container-id-3 input.sk-hidden--visually {border: 0;clip: rect(1px 1px 1px 1px);clip: rect(1px, 1px, 1px, 1px);height: 1px;margin: -1px;overflow: hidden;padding: 0;position: absolute;width: 1px;}#sk-container-id-3 div.sk-estimator {font-family: monospace;background-color: #f0f8ff;border: 1px dotted black;border-radius: 0.25em;box-sizing: border-box;margin-bottom: 0.5em;}#sk-container-id-3 div.sk-estimator:hover {background-color: #d4ebff;}#sk-container-id-3 div.sk-parallel-item::after {content: \"\";width: 100%;border-bottom: 1px solid gray;flex-grow: 1;}#sk-container-id-3 div.sk-label:hover label.sk-toggleable__label {background-color: #d4ebff;}#sk-container-id-3 div.sk-serial::before {content: \"\";position: absolute;border-left: 1px solid gray;box-sizing: border-box;top: 0;bottom: 0;left: 50%;z-index: 0;}#sk-container-id-3 div.sk-serial {display: flex;flex-direction: column;align-items: center;background-color: white;padding-right: 0.2em;padding-left: 0.2em;position: relative;}#sk-container-id-3 div.sk-item {position: relative;z-index: 1;}#sk-container-id-3 div.sk-parallel {display: flex;align-items: stretch;justify-content: center;background-color: white;position: relative;}#sk-container-id-3 div.sk-item::before, #sk-container-id-3 div.sk-parallel-item::before {content: \"\";position: absolute;border-left: 1px solid gray;box-sizing: border-box;top: 0;bottom: 0;left: 50%;z-index: -1;}#sk-container-id-3 div.sk-parallel-item {display: flex;flex-direction: column;z-index: 1;position: relative;background-color: white;}#sk-container-id-3 div.sk-parallel-item:first-child::after {align-self: flex-end;width: 50%;}#sk-container-id-3 div.sk-parallel-item:last-child::after {align-self: flex-start;width: 50%;}#sk-container-id-3 div.sk-parallel-item:only-child::after {width: 0;}#sk-container-id-3 div.sk-dashed-wrapped {border: 1px dashed gray;margin: 0 0.4em 0.5em 0.4em;box-sizing: border-box;padding-bottom: 0.4em;background-color: white;}#sk-container-id-3 div.sk-label label {font-family: monospace;font-weight: bold;display: inline-block;line-height: 1.2em;}#sk-container-id-3 div.sk-label-container {text-align: center;}#sk-container-id-3 div.sk-container {/* jupyter's `normalize.less` sets `[hidden] { display: none; }` but bootstrap.min.css set `[hidden] { display: none !important; }` so we also need the `!important` here to be able to override the default hidden behavior on the sphinx rendered scikit-learn.org. See: https://github.com/scikit-learn/scikit-learn/issues/21755 */display: inline-block !important;position: relative;}#sk-container-id-3 div.sk-text-repr-fallback {display: none;}</style><div id=\"sk-container-id-3\" class=\"sk-top-container\"><div class=\"sk-text-repr-fallback\"><pre>LogisticRegression(random_state=42)</pre><b>In a Jupyter environment, please rerun this cell to show the HTML representation or trust the notebook. <br />On GitHub, the HTML representation is unable to render, please try loading this page with nbviewer.org.</b></div><div class=\"sk-container\" hidden><div class=\"sk-item\"><div class=\"sk-estimator sk-toggleable\"><input class=\"sk-toggleable__control sk-hidden--visually\" id=\"sk-estimator-id-3\" type=\"checkbox\" checked><label for=\"sk-estimator-id-3\" class=\"sk-toggleable__label sk-toggleable__label-arrow\">LogisticRegression</label><div class=\"sk-toggleable__content\"><pre>LogisticRegression(random_state=42)</pre></div></div></div></div></div>"
      ],
      "text/plain": [
       "LogisticRegression(random_state=42)"
      ]
     },
     "execution_count": 115,
     "metadata": {},
     "output_type": "execute_result"
    }
   ],
   "source": [
    "#logistic regression model\n",
    "model = LogisticRegression(random_state=42)\n",
    "model.fit(X_train_resampled, y_train_resampled)\n",
    "\n",
    "\n"
   ]
  },
  {
   "cell_type": "code",
   "execution_count": 116,
   "metadata": {},
   "outputs": [],
   "source": [
    "# Predicting  the test set\n",
    "y_pred = model.predict(X_test_prepared)\n",
    "\n",
    "accuracy = accuracy_score(y_test, y_pred)"
   ]
  },
  {
   "cell_type": "markdown",
   "metadata": {},
   "source": [
    "### 3.4.1 Model Evaluation\n",
    "\n",
    "This section assesses the performance of the developed models using appropriate evaluation metrics. By comparing accuracy, AUC-ROC scores,precision,recall,F1 score and cross-validation results, we determine how well each model distinguishes between churned and non-churned customers. The goal is to identify the most reliable and generalizable model for predicting customer churn.\n"
   ]
  },
  {
   "cell_type": "code",
   "execution_count": 117,
   "metadata": {},
   "outputs": [
    {
     "name": "stdout",
     "output_type": "stream",
     "text": [
      "Logistic Regression - Accuracy: 0.72, Precision: 0.30, Recall: 0.71, F1 Score: 0.42\n"
     ]
    }
   ],
   "source": [
    "# Calculate precision, recall, and F1 score\n",
    "precision = precision_score(y_test, y_pred)\n",
    "recall = recall_score(y_test, y_pred)\n",
    "f1 = f1_score(y_test, y_pred)\n",
    "print(f'Logistic Regression - Accuracy: {accuracy:.2f}, Precision: {precision:.2f}, Recall: {recall:.2f}, F1 Score: {f1:.2f}')"
   ]
  },
  {
   "cell_type": "markdown",
   "metadata": {},
   "source": [
    "The performance metrics for the Logistic Regression model indicate the following:\n",
    "\n",
    "Accuracy (0.72): The model correctly predicts churn or non-churn for 72% of the test data. While this seems fairly good, accuracy alone can be misleading in imbalanced datasets (though we handled imbalance with SMOTE), so we need to look deeper.\n",
    "\n",
    "Precision (0.30): Out of all the customers predicted to churn, only 30% actually did. This suggests that the model has a relatively high number of false positives — it's often flagging non-churners as churners.\n",
    "\n",
    "Recall (0.71): The model correctly identifies 71% of actual churners. This is a strong point, as it means the model is effective at capturing most of the customers who are at risk of churning.\n",
    "\n",
    "F1 Score (0.42): The F1 Score balances precision and recall. A score of 0.42 indicates moderate overall performance, leaning toward better recall than precision."
   ]
  },
  {
   "cell_type": "markdown",
   "metadata": {},
   "source": [
    "### 3.4.2 Evaluation Using Confusion Matrix\n"
   ]
  },
  {
   "cell_type": "code",
   "execution_count": 118,
   "metadata": {},
   "outputs": [
    {
     "data": {
      "image/png": "[encoded data removed]",
      "text/plain": [
       "<Figure size 432x288 with 2 Axes>"
      ]
     },
     "metadata": {
      "needs_background": "light"
     },
     "output_type": "display_data"
    }
   ],
   "source": [
    "# Compute confusion matrix\n",
    "conf_matrix = confusion_matrix(y_test, y_pred)\n",
    "\n",
    "# Plot confusion matrix\n",
    "plt.figure(figsize=(6,4))\n",
    "sns.heatmap(conf_matrix, annot=True, fmt='d', cmap='Blues',\n",
    "            xticklabels=['No Churn', 'Churn'],\n",
    "            yticklabels=['No Churn', 'Churn'])\n",
    "plt.xlabel('Predicted')\n",
    "plt.ylabel('Actual')\n",
    "plt.title('Confusion Matrix')\n",
    "plt.show()\n"
   ]
  },
  {
   "cell_type": "markdown",
   "metadata": {},
   "source": [
    "True Negatives (TN) = 616:\n",
    "These are customers who did not churn and the model correctly predicted they wouldn’t churn.\n",
    "\n",
    "False Positives (FP) = 239:\n",
    "These are customers who did not churn but the model incorrectly predicted they would churn. This is a type I error.\n",
    "\n",
    "False Negatives (FN) = 42:\n",
    "These are customers who did churn but the model missed them, predicting they wouldn’t. This is a type II error.\n",
    "\n",
    "True Positives (TP) = 103:\n",
    "These are customers who did churn, and the model correctly identified them.\n",
    "\n"
   ]
  },
  {
   "cell_type": "markdown",
   "metadata": {},
   "source": [
    " ### 3.4.3 Add ROC Curve\n",
    "\n",
    " To better evaluate the performance of our Logistic Regression model beyond accuracy, precision, and recall,the Receiver Operating Characteristic (ROC) Curve is used. The ROC Curve provides a visual representation of the trade-off between the true positive rate (recall) and the false positive rate at various threshold settings.\n",
    "\n",
    "By plotting this curve, we can assess how well the model distinguishes between the churn and non-churn classes across different decision thresholds. The Area Under the Curve (AUC) summarizes the overall ability of the model to discriminate between the two classes — with values closer to 1 indicating better performance."
   ]
  },
  {
   "cell_type": "code",
   "execution_count": 119,
   "metadata": {},
   "outputs": [],
   "source": [
    "# predict probabilities for the positive class (churn)\n",
    "y_pred_probs = model.predict_proba(X_test_prepared)[:, 1]  # probability of class 1 (churn)\n"
   ]
  },
  {
   "cell_type": "markdown",
   "metadata": {},
   "source": [
    "### 3.4.3.1 Compute ROC Curve Values\n",
    "\n"
   ]
  },
  {
   "cell_type": "code",
   "execution_count": 120,
   "metadata": {},
   "outputs": [],
   "source": [
    "# Calculate ROC AUC score\n",
    "fpr, tpr, thresholds = roc_curve(y_test, y_pred_probs)\n",
    "roc_auc = auc(fpr, tpr)\n"
   ]
  },
  {
   "cell_type": "code",
   "execution_count": 121,
   "metadata": {},
   "outputs": [
    {
     "name": "stdout",
     "output_type": "stream",
     "text": [
      "Logistic Regression Cross-Validation Accuracy: 0.75 ± 0.01\n"
     ]
    }
   ],
   "source": [
    "# Cross-validation for Logistic Regression\n",
    "cv_scores = cross_val_score(model, X_train_resampled, y_train_resampled, cv=StratifiedKFold(n_splits=5), scoring='accuracy')\n",
    "print(f'Logistic Regression Cross-Validation Accuracy: {np.mean(cv_scores):.2f} ± {np.std(cv_scores):.2f}')"
   ]
  },
  {
   "cell_type": "markdown",
   "metadata": {},
   "source": [
    " On average, the logistic regression model correctly classified 75% of the samples across the 5 cross-validation folds. A 75% accuracy suggests the model is doing a fairly good job at distinguishing between churned and non-churned customers on the training data."
   ]
  },
  {
   "cell_type": "markdown",
   "metadata": {},
   "source": [
    "### 3.4.3.2 Plotting the ROC Curve"
   ]
  },
  {
   "cell_type": "code",
   "execution_count": 122,
   "metadata": {},
   "outputs": [
    {
     "data": {
      "image/png": "[encoded data removed]",
      "text/plain": [
       "<Figure size 576x432 with 1 Axes>"
      ]
     },
     "metadata": {
      "needs_background": "light"
     },
     "output_type": "display_data"
    }
   ],
   "source": [
    "plt.figure(figsize=(8,6))\n",
    "plt.plot(fpr, tpr, color='darkorange', label='Logistic Regression (AUC = {:.2f})'.format(roc_auc_score(y_test, y_pred_probs)))\n",
    "plt.plot([0, 1], [0, 1], color='navy', linestyle='--')  # Diagonal line\n",
    "plt.xlabel('False Positive Rate')\n",
    "plt.ylabel('True Positive Rate (Recall)')\n",
    "plt.title('Receiver Operating Characteristic (ROC) Curve')\n",
    "plt.legend(loc='lower right')\n",
    "plt.grid(True)\n",
    "plt.show()\n"
   ]
  },
  {
   "cell_type": "code",
   "execution_count": 123,
   "metadata": {},
   "outputs": [
    {
     "name": "stdout",
     "output_type": "stream",
     "text": [
      "AUC Score: 0.8015\n"
     ]
    }
   ],
   "source": [
    "# calculating Area Under the Curve (AUC) Score\n",
    "auc_score = roc_auc_score(y_test, y_pred_probs)\n",
    "print(f\"AUC Score: {auc_score:.4f}\")\n"
   ]
  },
  {
   "cell_type": "markdown",
   "metadata": {},
   "source": [
    "An AUC score of 0.8015 means there is approximately an 80.15% chance that the model will correctly rank a randomly chosen churned customer (class 1) higher than a randomly chosen non-churned customer (class 0). It reflects strong overall model performance, especially in ranking predictions rather than classifying them outright."
   ]
  },
  {
   "cell_type": "markdown",
   "metadata": {},
   "source": [
    "## 3.5 Random Forest and Decision trees & Random Forest\n",
    "\n",
    "To further improve the prediction of customer churn and determine the most effective classification model, this study trains additional models — starting with Decision Trees then Random forest model.\n",
    "\n",
    "By evaluating performance metrics such as accuracy, precision, recall, F1-score, and AUC, this model will be compared to Logistic Regression to assess whether these models  offer  better predictive capabilities — especially for identifying customers likely to churn.\n",
    "\n",
    "### 3.5.1 Training Using Decision Trees & Random forest\n",
    "\n",
    " Decision Trees are intuitive and easy-to-interpret models that split the data based on feature thresholds, forming a tree-like structure of decisions."
   ]
  },
  {
   "cell_type": "code",
   "execution_count": 124,
   "metadata": {},
   "outputs": [
    {
     "data": {
      "text/html": [
       "<style>#sk-container-id-4 {color: black;background-color: white;}#sk-container-id-4 pre{padding: 0;}#sk-container-id-4 div.sk-toggleable {background-color: white;}#sk-container-id-4 label.sk-toggleable__label {cursor: pointer;display: block;width: 100%;margin-bottom: 0;padding: 0.3em;box-sizing: border-box;text-align: center;}#sk-container-id-4 label.sk-toggleable__label-arrow:before {content: \"▸\";float: left;margin-right: 0.25em;color: #696969;}#sk-container-id-4 label.sk-toggleable__label-arrow:hover:before {color: black;}#sk-container-id-4 div.sk-estimator:hover label.sk-toggleable__label-arrow:before {color: black;}#sk-container-id-4 div.sk-toggleable__content {max-height: 0;max-width: 0;overflow: hidden;text-align: left;background-color: #f0f8ff;}#sk-container-id-4 div.sk-toggleable__content pre {margin: 0.2em;color: black;border-radius: 0.25em;background-color: #f0f8ff;}#sk-container-id-4 input.sk-toggleable__control:checked~div.sk-toggleable__content {max-height: 200px;max-width: 100%;overflow: auto;}#sk-container-id-4 input.sk-toggleable__control:checked~label.sk-toggleable__label-arrow:before {content: \"▾\";}#sk-container-id-4 div.sk-estimator input.sk-toggleable__control:checked~label.sk-toggleable__label {background-color: #d4ebff;}#sk-container-id-4 div.sk-label input.sk-toggleable__control:checked~label.sk-toggleable__label {background-color: #d4ebff;}#sk-container-id-4 input.sk-hidden--visually {border: 0;clip: rect(1px 1px 1px 1px);clip: rect(1px, 1px, 1px, 1px);height: 1px;margin: -1px;overflow: hidden;padding: 0;position: absolute;width: 1px;}#sk-container-id-4 div.sk-estimator {font-family: monospace;background-color: #f0f8ff;border: 1px dotted black;border-radius: 0.25em;box-sizing: border-box;margin-bottom: 0.5em;}#sk-container-id-4 div.sk-estimator:hover {background-color: #d4ebff;}#sk-container-id-4 div.sk-parallel-item::after {content: \"\";width: 100%;border-bottom: 1px solid gray;flex-grow: 1;}#sk-container-id-4 div.sk-label:hover label.sk-toggleable__label {background-color: #d4ebff;}#sk-container-id-4 div.sk-serial::before {content: \"\";position: absolute;border-left: 1px solid gray;box-sizing: border-box;top: 0;bottom: 0;left: 50%;z-index: 0;}#sk-container-id-4 div.sk-serial {display: flex;flex-direction: column;align-items: center;background-color: white;padding-right: 0.2em;padding-left: 0.2em;position: relative;}#sk-container-id-4 div.sk-item {position: relative;z-index: 1;}#sk-container-id-4 div.sk-parallel {display: flex;align-items: stretch;justify-content: center;background-color: white;position: relative;}#sk-container-id-4 div.sk-item::before, #sk-container-id-4 div.sk-parallel-item::before {content: \"\";position: absolute;border-left: 1px solid gray;box-sizing: border-box;top: 0;bottom: 0;left: 50%;z-index: -1;}#sk-container-id-4 div.sk-parallel-item {display: flex;flex-direction: column;z-index: 1;position: relative;background-color: white;}#sk-container-id-4 div.sk-parallel-item:first-child::after {align-self: flex-end;width: 50%;}#sk-container-id-4 div.sk-parallel-item:last-child::after {align-self: flex-start;width: 50%;}#sk-container-id-4 div.sk-parallel-item:only-child::after {width: 0;}#sk-container-id-4 div.sk-dashed-wrapped {border: 1px dashed gray;margin: 0 0.4em 0.5em 0.4em;box-sizing: border-box;padding-bottom: 0.4em;background-color: white;}#sk-container-id-4 div.sk-label label {font-family: monospace;font-weight: bold;display: inline-block;line-height: 1.2em;}#sk-container-id-4 div.sk-label-container {text-align: center;}#sk-container-id-4 div.sk-container {/* jupyter's `normalize.less` sets `[hidden] { display: none; }` but bootstrap.min.css set `[hidden] { display: none !important; }` so we also need the `!important` here to be able to override the default hidden behavior on the sphinx rendered scikit-learn.org. See: https://github.com/scikit-learn/scikit-learn/issues/21755 */display: inline-block !important;position: relative;}#sk-container-id-4 div.sk-text-repr-fallback {display: none;}</style><div id=\"sk-container-id-4\" class=\"sk-top-container\"><div class=\"sk-text-repr-fallback\"><pre>RandomForestClassifier(max_depth=5, random_state=42)</pre><b>In a Jupyter environment, please rerun this cell to show the HTML representation or trust the notebook. <br />On GitHub, the HTML representation is unable to render, please try loading this page with nbviewer.org.</b></div><div class=\"sk-container\" hidden><div class=\"sk-item\"><div class=\"sk-estimator sk-toggleable\"><input class=\"sk-toggleable__control sk-hidden--visually\" id=\"sk-estimator-id-4\" type=\"checkbox\" checked><label for=\"sk-estimator-id-4\" class=\"sk-toggleable__label sk-toggleable__label-arrow\">RandomForestClassifier</label><div class=\"sk-toggleable__content\"><pre>RandomForestClassifier(max_depth=5, random_state=42)</pre></div></div></div></div></div>"
      ],
      "text/plain": [
       "RandomForestClassifier(max_depth=5, random_state=42)"
      ]
     },
     "execution_count": 124,
     "metadata": {},
     "output_type": "execute_result"
    }
   ],
   "source": [
    "# fitting a decision tree model\n",
    "dt_model = DecisionTreeClassifier(random_state=42, max_depth=5)  # You can tune depth later\n",
    "dt_model.fit(X_train_resampled, y_train_resampled)\n",
    "\n",
    "# fitting a random forest model\n",
    "rf_model = RandomForestClassifier(random_state=42, n_estimators=100, max_depth=5)  # You can tune n_estimators and depth later\n",
    "rf_model.fit(X_train_resampled, y_train_resampled)\n"
   ]
  },
  {
   "cell_type": "code",
   "execution_count": 125,
   "metadata": {},
   "outputs": [],
   "source": [
    "# predicting with decision tree model\n",
    "dt_y_pred = dt_model.predict(X_test_prepared)\n",
    "\n",
    "# predicting with random forest model\n",
    "rf_y_pred = rf_model.predict(X_test_prepared)\n"
   ]
  },
  {
   "cell_type": "markdown",
   "metadata": {},
   "source": [
    "### 3.5.2 Evaluating the 2 Models\n",
    "\n",
    "Accuracy score, precision, recall, F1-score, and the confusion matrix are used to evaluate the performance of the Decision Tree model. These metrics provide a comprehensive understanding of how well the model predicts both churned and non-churned customers."
   ]
  },
  {
   "cell_type": "markdown",
   "metadata": {},
   "source": [
    "### 3.5.2.1 evaluate the Random Forest model"
   ]
  },
  {
   "cell_type": "code",
   "execution_count": 126,
   "metadata": {},
   "outputs": [
    {
     "name": "stdout",
     "output_type": "stream",
     "text": [
      "Decision Tree - Accuracy: 0.88, Precision: 0.56, Recall: 0.75\n"
     ]
    }
   ],
   "source": [
    "# Evaluate the Decision Tree model\n",
    "dt_accuracy = accuracy_score(y_test, dt_y_pred)\n",
    "dt_precision = precision_score(y_test, dt_y_pred)\n",
    "dt_recall = recall_score(y_test, dt_y_pred) \n",
    "print(f'Decision Tree - Accuracy: {dt_accuracy:.2f}, Precision: {dt_precision:.2f}, Recall: {dt_recall:.2f}')"
   ]
  },
  {
   "cell_type": "markdown",
   "metadata": {},
   "source": [
    "**Decision Tree Evaluation Results**\n",
    "\n",
    "Accuracy: 0.88\n",
    "This means that 88% of the predictions made by the model (both churned and non-churned customers) were correct. It shows high overall performance.\n",
    "\n",
    "Precision: 0.56\n",
    "Of all the customers the model predicted would churn, 56% actually did. While this is better than random guessing, there is still room for improvement—almost half of the positive predictions were false positives.\n",
    "\n",
    "Recall: 0.75\n",
    "The model correctly identified 75% of all actual churned customers. This is relatively high and indicates the model is good at detecting most of the customers at risk of churning.\n",
    "\n",
    "**Conclusion**\n",
    "\n",
    "The Decision Tree model shows strong overall accuracy and good recall, meaning it’s effective at catching most of the churn cases. However, its precision suggests it also misclassifies a significant number of non-churners as churners"
   ]
  },
  {
   "cell_type": "markdown",
   "metadata": {},
   "source": [
    "### 3.5.2.2 evaluate the Random Forest model"
   ]
  },
  {
   "cell_type": "code",
   "execution_count": 127,
   "metadata": {},
   "outputs": [
    {
     "name": "stdout",
     "output_type": "stream",
     "text": [
      "Random Forest - Accuracy: 0.90, Precision: 0.64, Recall: 0.73\n"
     ]
    }
   ],
   "source": [
    "# evaluate the Random Forest model\n",
    "rf_accuracy = accuracy_score(y_test, rf_y_pred)\n",
    "rf_precision = precision_score(y_test, rf_y_pred)\n",
    "rf_recall = recall_score(y_test, rf_y_pred)\n",
    "print(f'Random Forest - Accuracy: {rf_accuracy:.2f}, Precision: {rf_precision:.2f}, Recall: {rf_recall:.2f}')"
   ]
  },
  {
   "cell_type": "markdown",
   "metadata": {},
   "source": [
    "**Evaluation of Random forest**\n",
    "\n",
    "Accuracy: 90%\n",
    "The model correctly predicted the outcome (churn or no churn) for 90% of the customers in the test dataset. This high accuracy indicates strong overall predictive power.\n",
    "\n",
    "Precision: 64%\n",
    "Out of all the customers predicted to churn, 64% actually did. This suggests that the model is reasonably good at minimizing false positives (predicting churn when there is none), though there’s still room for improvement.\n",
    "\n",
    "Recall: 73%\n",
    "The model correctly identified 73% of actual churned customers. This means it captured the majority of true churners, which is valuable in churn prevention strategies.\n",
    "\n",
    "\n"
   ]
  },
  {
   "cell_type": "markdown",
   "metadata": {},
   "source": [
    "## **Conclusion:**\n",
    "\n",
    "The Random Forest model outperformed both Logistic Regression and Decision Tree models in terms of accuracy and precision, while maintaining a strong recall. This balance makes it a strong candidate for identifying customers at risk of churning and suggests it could be the best model for predicting churn probability in this study"
   ]
  },
  {
   "cell_type": "markdown",
   "metadata": {},
   "source": [
    "### 3.5.3  Confusion Matrices for Decisions trees and Random forest Models"
   ]
  },
  {
   "cell_type": "code",
   "execution_count": 128,
   "metadata": {},
   "outputs": [
    {
     "data": {
      "image/png": "[encoded data removed]",
      "text/plain": [
       "<Figure size 432x288 with 2 Axes>"
      ]
     },
     "metadata": {
      "needs_background": "light"
     },
     "output_type": "display_data"
    },
    {
     "data": {
      "image/png": "[encoded data removed]",
      "text/plain": [
       "<Figure size 432x288 with 2 Axes>"
      ]
     },
     "metadata": {
      "needs_background": "light"
     },
     "output_type": "display_data"
    }
   ],
   "source": [
    "# Function to plot confusion matrix\n",
    "def plot_conf_matrix(cm, title):\n",
    "    sns.heatmap(cm, annot=True, fmt='d', cmap='Blues', \n",
    "                xticklabels=['No Churn', 'Churn'], \n",
    "                yticklabels=['No Churn', 'Churn'])\n",
    "    plt.xlabel('Predicted')\n",
    "    plt.ylabel('Actual')\n",
    "    plt.title(title)\n",
    "    plt.show()\n",
    "\n",
    "# Plot\n",
    "plot_conf_matrix(confusion_matrix(y_test, dt_y_pred), 'Decision Tree - Confusion Matrix')\n",
    "plot_conf_matrix(confusion_matrix(y_test, rf_y_pred), 'Random Forest - Confusion Matrix')\n"
   ]
  },
  {
   "cell_type": "markdown",
   "metadata": {},
   "source": [
    "**Decision Trees**\n",
    "\n",
    "True Negatives (TN = 769):\n",
    "These are customers who did not churn and were correctly predicted by the model as not churning.\n",
    "\n",
    "False Positives (FP = 86):\n",
    "These are customers who did not churn, but the model incorrectly predicted that they would.\n",
    "\n",
    "False Negatives (FN = 36):\n",
    "These are customers who actually churned, but the model missed them and predicted they would not churn.\n",
    "\n",
    "True Positives (TP = 109):\n",
    "These are customers who actually churned, and the model correctly identified them as churners.\n",
    "\n",
    "**Random Forest**\n",
    "\n",
    "True Negatives (TN = 795):\n",
    "The model correctly predicted that 795 customers would not churn — a strong indicator of reliability for retaining customers.\n",
    "\n",
    "False Positives (FP = 60):\n",
    "These are non-churning customers incorrectly flagged as churn risks. This could lead to unnecessary interventions or resource usage on stable customers.\n",
    "\n",
    "False Negatives (FN = 39):\n",
    "The model missed 39 customers who actually churned. These are critical since they represent lost opportunities to retain customers.\n",
    "\n",
    "True Positives (TP = 106):\n",
    "The model accurately identified 106 customers who did churn, helping the business focus retention strategies where they matter most.\n",
    "\n",
    "\n"
   ]
  },
  {
   "cell_type": "markdown",
   "metadata": {},
   "source": [
    "### 3.5.4 Classification report"
   ]
  },
  {
   "cell_type": "code",
   "execution_count": 129,
   "metadata": {},
   "outputs": [
    {
     "name": "stdout",
     "output_type": "stream",
     "text": [
      "Decision Tree Classification Report:\n",
      "              precision    recall  f1-score   support\n",
      "\n",
      "    No Churn       0.96      0.90      0.93       855\n",
      "       Churn       0.56      0.75      0.64       145\n",
      "\n",
      "    accuracy                           0.88      1000\n",
      "   macro avg       0.76      0.83      0.78      1000\n",
      "weighted avg       0.90      0.88      0.89      1000\n",
      "\n",
      "Random Forest Classification Report:\n",
      "              precision    recall  f1-score   support\n",
      "\n",
      "    No Churn       0.95      0.93      0.94       855\n",
      "       Churn       0.64      0.73      0.68       145\n",
      "\n",
      "    accuracy                           0.90      1000\n",
      "   macro avg       0.80      0.83      0.81      1000\n",
      "weighted avg       0.91      0.90      0.90      1000\n",
      "\n"
     ]
    }
   ],
   "source": [
    "# Classification Report for Decision Tree\n",
    "print(\"Decision Tree Classification Report:\")\n",
    "print(classification_report(y_test, dt_y_pred, target_names=['No Churn', 'Churn']))\n",
    "# Classification Report for Random Forest\n",
    "print(\"Random Forest Classification Report:\")\n",
    "print(classification_report(y_test, rf_y_pred, target_names=['No Churn', 'Churn']))"
   ]
  },
  {
   "cell_type": "markdown",
   "metadata": {},
   "source": [
    "The Decision Tree model correctly identified 31% of the actual churners, which is a much better recall for the minority class than Random Forest, which only captured 4% of the actual churners.\n",
    "\n",
    "Although Random Forest has higher precision for churners (0.75), its very low recall means it fails to capture most churners, making it less suitable for churn prevention tasks where identifying potential churners is critical."
   ]
  },
  {
   "cell_type": "markdown",
   "metadata": {},
   "source": [
    " ### 3.6 Plotting ROC Comparison of Logistic Regression, Decision Tree, and Random Forest"
   ]
  },
  {
   "cell_type": "code",
   "execution_count": 130,
   "metadata": {},
   "outputs": [],
   "source": [
    "# Logistic Regression\n",
    "fpr, tpr, thresholds = roc_curve(y_test, model.predict_proba(X_test_prepared)[:, 1] )\n",
    "roc_auc = auc(fpr, tpr)\n",
    "\n",
    "# Decision Tree\n",
    "fpr_dt, tpr_dt, _ = roc_curve(y_test, dt_model.predict_proba(X_test_prepared)[:, 1])\n",
    "roc_auc_dt = roc_auc_score(y_test, dt_model.predict_proba(X_test_prepared)[:, 1])\n",
    "\n",
    "# Random Forest\n",
    "fpr_rf, tpr_rf, _ = roc_curve(y_test, rf_model.predict_proba(X_test_prepared)[:, 1])\n",
    "roc_auc_rf = roc_auc_score(y_test, rf_model.predict_proba(X_test_prepared)[:, 1])\n",
    "\n"
   ]
  },
  {
   "cell_type": "code",
   "execution_count": 131,
   "metadata": {},
   "outputs": [
    {
     "data": {
      "image/png": "[encoded data removed]",
      "text/plain": [
       "<Figure size 576x432 with 1 Axes>"
      ]
     },
     "metadata": {
      "needs_background": "light"
     },
     "output_type": "display_data"
    }
   ],
   "source": [
    "# Plotting ROC Curves for all three models\n",
    "plt.figure(figsize=(8,6))\n",
    "\n",
    "# Logistic Regression\n",
    "plt.plot(fpr, tpr, color='red', label='Logistic Regression (AUC = {:.2f})'.format(roc_auc))\n",
    "\n",
    "# Decision Tree\n",
    "plt.plot(fpr_dt, tpr_dt, color='darkorange', label='Decision Tree (AUC = {:.2f})'.format(roc_auc_dt))\n",
    "\n",
    "# Random Forest\n",
    "plt.plot(fpr_rf, tpr_rf, color='blue', label='Random Forest (AUC = {:.2f})'.format(roc_auc_rf))\n",
    "\n",
    "# Diagonal line\n",
    "plt.plot([0, 1], [0, 1], color='navy', linestyle='--')\n",
    "\n",
    "plt.xlabel('False Positive Rate')\n",
    "plt.ylabel('True Positive Rate (Recall)')\n",
    "plt.title('ROC Curve Comparison - Logistic, DT, RF')\n",
    "plt.legend(loc='lower right')\n",
    "plt.grid(True)\n",
    "plt.show()\n"
   ]
  },
  {
   "cell_type": "markdown",
   "metadata": {},
   "source": [
    "Random Forest has the best balance of sensitivity and specificity. It’s best at distinguishing between churn and no churn.\n",
    "\n",
    "Decision Tree also performs well, slightly below Random Forest.\n",
    "\n",
    "Logistic Regression performs the worst among the three based on AUC."
   ]
  },
  {
   "cell_type": "markdown",
   "metadata": {},
   "source": [
    "### 3.6.1 Cross validation "
   ]
  },
  {
   "cell_type": "code",
   "execution_count": 132,
   "metadata": {},
   "outputs": [
    {
     "name": "stdout",
     "output_type": "stream",
     "text": [
      "Decision Tree Cross-Validation Accuracy: 0.86 ± 0.01\n",
      "Random Forest Cross-Validation Accuracy: 0.87 ± 0.01\n"
     ]
    }
   ],
   "source": [
    "# Cross-validation for Decision Tree\n",
    "dt_cv_scores = cross_val_score(dt_model, X_train_resampled, y_train_resampled, cv=StratifiedKFold(n_splits=5), scoring='accuracy')\n",
    "print(f'Decision Tree Cross-Validation Accuracy: {np.mean(dt_cv_scores):.2f} ± {np.std(dt_cv_scores):.2f}')\n",
    "# Cross-validation for Random Forest\n",
    "rf_cv_scores = cross_val_score(rf_model, X_train_resampled, y_train_resampled, cv=StratifiedKFold(n_splits=5), scoring='accuracy')\n",
    "print(f'Random Forest Cross-Validation Accuracy: {np.mean(rf_cv_scores):.2f} ± {np.std(rf_cv_scores):.2f}')\n",
    "\n"
   ]
  },
  {
   "cell_type": "markdown",
   "metadata": {},
   "source": [
    "These are mean accuracy scores obtained from cross-validation (e.g. 5-fold CV), where the model is trained and tested on different parts of the data.\n",
    "\n",
    "0.86 means that, on average, the Decision Tree correctly classified 86% of the customers.\n",
    "\n",
    "0.87 means that the Random Forest correctly classified 87% of the customers.\n",
    "\n",
    "So, Random Forest is outperforming the Decision Tree by about 1 percentage points on average."
   ]
  },
  {
   "cell_type": "markdown",
   "metadata": {},
   "source": [
    " ## 3.7 Hyper parameter Tuning\n",
    "\n",
    "\n",
    " Hyperparameter tuning is the process of optimizing the parameters that are not learned from the data but are set before training a model. These parameters (like max_depth in Decision Trees or n_estimators in Random Forest) control the behavior of the learning algorithm.\n",
    "\n",
    "Tuning helps: Improve model performance,Reduce overfitting or underfitting and achieve a better balance between bias and variance"
   ]
  },
  {
   "cell_type": "code",
   "execution_count": 133,
   "metadata": {},
   "outputs": [
    {
     "name": "stdout",
     "output_type": "stream",
     "text": [
      "Best Decision Tree Params: {'criterion': 'entropy', 'max_depth': 19, 'min_samples_leaf': 12, 'min_samples_split': 8}\n"
     ]
    }
   ],
   "source": [
    "# Parameter distributions for Decision Tree\n",
    "dt_param_dist = {\n",
    "    'max_depth': randint(3, 20),\n",
    "    'min_samples_split': randint(2, 20),\n",
    "    'min_samples_leaf': randint(1, 20),\n",
    "    'criterion': ['gini', 'entropy']\n",
    "}\n",
    "\n",
    "# Initialize model\n",
    "dt = DecisionTreeClassifier(random_state=42)\n",
    "\n",
    "# RandomizedSearchCV\n",
    "dt_random_search = RandomizedSearchCV(\n",
    "    dt, dt_param_dist, n_iter=50, cv=5, scoring='roc_auc', random_state=42, n_jobs=-1\n",
    ")\n",
    "\n",
    "# Fit\n",
    "dt_random_search.fit(X_train_resampled, y_train_resampled)\n",
    "\n",
    "# Best model\n",
    "best_dt = dt_random_search.best_estimator_\n",
    "print(\"Best Decision Tree Params:\", dt_random_search.best_params_)"
   ]
  },
  {
   "cell_type": "code",
   "execution_count": 134,
   "metadata": {},
   "outputs": [
    {
     "name": "stdout",
     "output_type": "stream",
     "text": [
      "Best Random Forest Params: {'criterion': 'gini', 'max_depth': 19, 'min_samples_leaf': 2, 'min_samples_split': 3, 'n_estimators': 103}\n"
     ]
    }
   ],
   "source": [
    "# parameter distributions for Random Forest\n",
    "rf_param_dist = {\n",
    "    'n_estimators': randint(50, 200),\n",
    "    'max_depth': randint(3, 20),\n",
    "    'min_samples_split': randint(2, 20),\n",
    "    'min_samples_leaf': randint(1, 20),\n",
    "    'criterion': ['gini', 'entropy']\n",
    "}\n",
    "# Initialize model\n",
    "rf = RandomForestClassifier(random_state=42)\n",
    "# RandomizedSearchCV\n",
    "rf_random_search = RandomizedSearchCV(\n",
    "    rf, rf_param_dist, n_iter=50, cv=5, scoring='roc_auc', random_state=42, n_jobs=-1\n",
    ")\n",
    "# Fit\n",
    "rf_random_search.fit(X_train_resampled, y_train_resampled)\n",
    "# Best model\n",
    "best_rf = rf_random_search.best_estimator_\n",
    "print(\"Best Random Forest Params:\", rf_random_search.best_params_)\n"
   ]
  },
  {
   "cell_type": "markdown",
   "metadata": {},
   "source": [
    "### 3.7.2 Cross Validation After Hyperparameter tuning"
   ]
  },
  {
   "cell_type": "code",
   "execution_count": 135,
   "metadata": {},
   "outputs": [
    {
     "name": "stdout",
     "output_type": "stream",
     "text": [
      " Decision Tree CV Accuracy: 0.90 ± 0.01\n",
      " Random Forest CV Accuracy: 0.95 ± 0.01\n"
     ]
    }
   ],
   "source": [
    "\n",
    "\n",
    "# Decision Tree Cross-Validation\n",
    "dt_cv_scores = cross_val_score(best_dt, X_train_resampled, y_train_resampled,\n",
    "                               cv=StratifiedKFold(n_splits=5), scoring='accuracy')\n",
    "print(f' Decision Tree CV Accuracy: {np.mean(dt_cv_scores):.2f} ± {np.std(dt_cv_scores):.2f}')\n",
    "\n",
    "# Random Forest Cross-Validation\n",
    "rf_cv_scores = cross_val_score(best_rf, X_train_resampled, y_train_resampled,\n",
    "                               cv=StratifiedKFold(n_splits=5), scoring='accuracy')\n",
    "print(f' Random Forest CV Accuracy: {np.mean(rf_cv_scores):.2f} ± {np.std(rf_cv_scores):.2f}')\n"
   ]
  },
  {
   "cell_type": "markdown",
   "metadata": {},
   "source": [
    "#### Interpretation after hyperparameter tuning\n",
    "\n",
    "1. **Decision trees (90%)**\n",
    "\n",
    "A well-tuned Decision Tree is now performing much better than before (originally ~84%).\n",
    "\n",
    "The low standard deviation (±0.01) suggests the model is stable across different folds.\n",
    "\n",
    "However, still susceptible to overfitting on more complex datasets compared to ensemble methods.\n",
    "\n",
    "2. **Random Forest (95%)**\n",
    "\n",
    "Outstanding performance! Shows that tuning (e.g., n_estimators, max_depth, etc.) helped it generalize much better.\n",
    "\n",
    "The ensemble approach and diversity among trees help reduce overfitting.\n",
    "\n",
    "Standard deviation of ±0.01 means the model is very consistent and robust across data splits."
   ]
  },
  {
   "cell_type": "markdown",
   "metadata": {},
   "source": [
    "### 3.7.3 Plotting ROC Curves after Hyperparameter Tuning"
   ]
  },
  {
   "cell_type": "code",
   "execution_count": 136,
   "metadata": {},
   "outputs": [
    {
     "data": {
      "image/png": "[encoded data removed]",
      "text/plain": [
       "<Figure size 576x432 with 1 Axes>"
      ]
     },
     "metadata": {
      "needs_background": "light"
     },
     "output_type": "display_data"
    }
   ],
   "source": [
    "# Predict probabilities for ROC after tuning\n",
    "# Logistic Regression stays same if not tuned\n",
    "fpr_log, tpr_log, _ = roc_curve(y_test, y_pred_probs)\n",
    "roc_auc_log = roc_auc_score(y_test, y_pred_probs)\n",
    "\n",
    "# Tuned Decision Tree\n",
    "dt_probs = best_dt.predict_proba(X_test_prepared)[:, 1]\n",
    "fpr_dt, tpr_dt, _ = roc_curve(y_test, dt_probs)\n",
    "roc_auc_dt = roc_auc_score(y_test, dt_probs)\n",
    "\n",
    "# Tuned Random Forest\n",
    "rf_probs = best_rf.predict_proba(X_test_prepared)[:, 1]\n",
    "fpr_rf, tpr_rf, _ = roc_curve(y_test, rf_probs)\n",
    "roc_auc_rf = roc_auc_score(y_test, rf_probs)\n",
    "\n",
    "# Plotting ROC Curves for all three models after hyperparameter tuning\n",
    "plt.figure(figsize=(8, 6))\n",
    "\n",
    "plt.plot(fpr_log, tpr_log, color='red', label='Logistic Regression (AUC = {:.2f})'.format(roc_auc_log))\n",
    "plt.plot(fpr_dt, tpr_dt, color='darkorange', label='Tuned Decision Tree (AUC = {:.2f})'.format(roc_auc_dt))\n",
    "plt.plot(fpr_rf, tpr_rf, color='blue', label='Tuned Random Forest (AUC = {:.2f})'.format(roc_auc_rf))\n",
    "\n",
    "# Diagonal line\n",
    "plt.plot([0, 1], [0, 1], color='navy', linestyle='--')\n",
    "\n",
    "plt.xlabel('False Positive Rate')\n",
    "plt.ylabel('True Positive Rate (Recall)')\n",
    "plt.title('ROC Curve Comparison After Hyperparameter Tuning')\n",
    "plt.legend(loc='lower right')\n",
    "plt.grid(True)\n",
    "plt.show()"
   ]
  },
  {
   "cell_type": "markdown",
   "metadata": {},
   "source": [
    "After hyperparameter tuning, the **Tuned Random Forest model**, with an AUC of **0.89**, demonstrated the best overall performance among the three classifiers. It showed a strong ability to correctly distinguish between customers who churn and those who do not. This high discriminative power makes it a strong candidate for real-world deployment, especially in scenarios where predictive accuracy is a top priority.\n",
    "\n",
    "The **Tuned Decision Tree model**, with an AUC of **0.86**, also performed well, although it ranked slightly below the Random Forest. Nevertheless, it showed notable improvement compared to its pre-tuned version. One of its key advantages is interpretability—making it a suitable option in situations where understanding the model’s decision-making process is important to stakeholders or end users.\n",
    "\n",
    "On the other hand, the **Logistic Regression model**, with an AUC of **0.80**, had the lowest performance among the three. While it still provides a reasonable baseline, its predictive power is limited compared to the tree-based models. However, it remains a viable option when model simplicity and transparency are prioritized, such as in highly regulated industries.\n"
   ]
  },
  {
   "cell_type": "markdown",
   "metadata": {},
   "source": [
    "##  3.8 Feture importance Analysis\n",
    "\n",
    "Feature importance analysis helps identify which input variables have the most influence on the model’s predictions. By evaluating the contribution of each feature, we gain insights into the key drivers of customer churn."
   ]
  },
  {
   "cell_type": "code",
   "execution_count": 137,
   "metadata": {},
   "outputs": [
    {
     "data": {
      "image/png": "[encoded data removed]",
      "text/plain": [
       "<Figure size 720x432 with 1 Axes>"
      ]
     },
     "metadata": {
      "needs_background": "light"
     },
     "output_type": "display_data"
    }
   ],
   "source": [
    "# Feature importance using tuned Random Forest\n",
    "importances = best_rf.feature_importances_\n",
    "# Create a DataFrame for feature importances\n",
    "feature_importances = pd.DataFrame({'Feature': X_train_prepared.columns, 'Importance': importances})\n",
    "# Sort the DataFrame by importance\n",
    "feature_importances = feature_importances.sort_values(by='Importance', ascending=False)\n",
    "# Plotting feature importances\n",
    "plt.figure(figsize=(10, 6))\n",
    "sns.barplot(x='Importance', y='Feature', data=feature_importances, palette='viridis')\n",
    "plt.title('Feature Importances from Tuned Random Forest')\n",
    "plt.xlabel('Importance')\n",
    "plt.ylabel('Feature')\n",
    "plt.show()"
   ]
  },
  {
   "cell_type": "markdown",
   "metadata": {},
   "source": [
    "From the plot above, customer service calls emerge as the most important feature in determining the likelihood of a customer churning. This suggests that customers who contact customer service frequently may be more likely to leave, potentially due to unresolved issues or dissatisfaction. It is closely followed by total day charge and total day minutes, indicating that higher daytime usage and associated charges could also be significant indicators of churn behavior."
   ]
  },
  {
   "cell_type": "markdown",
   "metadata": {},
   "source": [
    "## 4.0 Recommendation \n",
    "\n",
    "To effectively reduce churn and increase customer lifetime value, several data-driven strategies can be adopted based on feature importance and model performance.\n",
    "\n",
    "First, since customer service calls are the most influential churn driver, it is essential to improve the quality of support. High call volumes often signal unresolved issues. Implementing satisfaction surveys after each interaction, applying sentiment analysis to call transcripts, and training agents for efficient, empathetic resolutions can significantly enhance customer experience.\n",
    "\n",
    "Secondly, users with high total day charge and minutes are also prone to churn. Offering tailored daytime bundles, discounts, or loyalty rewards can help retain this segment. These users should be prioritized by using churn risk scores generated by the predictive model. Proactive retention efforts, such as automated alerts for check-ins or special offers, should target customers with high churn probabilities.\n",
    "\n",
    "It is also important to establish feedback loops that integrate model insights into regular business reviews. Monitoring the effectiveness of interventions and retraining the model as customer behavior changes ensures the system remains adaptive and accurate.\n",
    "\n",
    "Lastly, while the tuned Random Forest model provides superior predictive performance (AUC = 0.89), the Decision Tree model offers easier interpretability. Deploy Random Forest for operational use, but leverage Decision Tree visualizations to communicate insights clearly to business stakeholders.\n",
    "\n",
    "\n"
   ]
  },
  {
   "cell_type": "markdown",
   "metadata": {},
   "source": [
    "## Conclusion\n",
    "\n",
    "In this analysis, we successfully built and fine-tuned predictive models to identify customers at risk of churning. The tuned Random Forest model demonstrated the highest performance (AUC = 0.89), making it suitable for deployment, while the Decision Tree model offered valuable interpretability for stakeholder communication.\n",
    "\n",
    "Key churn drivers such as customer service calls, total day charge, and total day minutes were identified, providing actionable insights. These findings support strategic recommendations, including improving customer service interactions, offering targeted loyalty incentives, and using churn risk scores to guide retention efforts.\n",
    "\n",
    "Overall, the combination of predictive modeling and feature importance analysis equips the business with a data-driven approach to reduce churn, increase customer satisfaction, and enhance lifetime value."
   ]
  }
 ],
 "metadata": {
  "kernelspec": {
   "display_name": "learn-env",
   "language": "python",
   "name": "python3"
  },
  "language_info": {
   "codemirror_mode": {
    "name": "ipython",
    "version": 3
   },
   "file_extension": ".py",
   "mimetype": "text/x-python",
   "name": "python",
   "nbconvert_exporter": "python",
   "pygments_lexer": "ipython3",
   "version": "3.8.5"
  }
 },
 "nbformat": 4,
 "nbformat_minor": 2
}
